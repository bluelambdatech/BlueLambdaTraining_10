{
 "cells": [
  {
   "cell_type": "markdown",
   "id": "a085bd2e",
   "metadata": {},
   "source": [
    "### Functions"
   ]
  },
  {
   "cell_type": "code",
   "execution_count": 4,
   "id": "c1f1b514",
   "metadata": {},
   "outputs": [],
   "source": [
    "def multiply():\n",
    "    print(2 * 3)"
   ]
  },
  {
   "cell_type": "code",
   "execution_count": 5,
   "id": "aedbbaa7",
   "metadata": {},
   "outputs": [
    {
     "name": "stdout",
     "output_type": "stream",
     "text": [
      "6\n"
     ]
    }
   ],
   "source": [
    "multiply()"
   ]
  },
  {
   "cell_type": "code",
   "execution_count": 6,
   "id": "0830073e",
   "metadata": {},
   "outputs": [
    {
     "name": "stdout",
     "output_type": "stream",
     "text": [
      "<function multiply at 0x0000017A8B519700>\n"
     ]
    }
   ],
   "source": [
    "print(multiply)"
   ]
  },
  {
   "cell_type": "code",
   "execution_count": 7,
   "id": "745634a1",
   "metadata": {},
   "outputs": [],
   "source": [
    "def print_fname():\n",
    "    print('Omolewa')"
   ]
  },
  {
   "cell_type": "code",
   "execution_count": 8,
   "id": "0898f13e",
   "metadata": {},
   "outputs": [],
   "source": [
    "def print_fname(name = 'Edward'):\n",
    "    print(name)"
   ]
  },
  {
   "cell_type": "code",
   "execution_count": 12,
   "id": "dfde4e72",
   "metadata": {},
   "outputs": [
    {
     "name": "stdout",
     "output_type": "stream",
     "text": [
      "Edward\n"
     ]
    }
   ],
   "source": [
    "print_fname('Edward')"
   ]
  },
  {
   "cell_type": "code",
   "execution_count": 13,
   "id": "44c7096f",
   "metadata": {},
   "outputs": [],
   "source": [
    "def print_fname(name1, name2, name3, name4):\n",
    "    print(name4)"
   ]
  },
  {
   "cell_type": "code",
   "execution_count": 15,
   "id": "1396c724",
   "metadata": {},
   "outputs": [
    {
     "name": "stdout",
     "output_type": "stream",
     "text": [
      "Edward\n"
     ]
    }
   ],
   "source": [
    "print_fname('Omo', 'Lewa', 'David', 'Edward')"
   ]
  },
  {
   "cell_type": "code",
   "execution_count": 18,
   "id": "36c1b1dd",
   "metadata": {},
   "outputs": [],
   "source": [
    "def print_char(name):\n",
    "    print(name[-1])"
   ]
  },
  {
   "cell_type": "code",
   "execution_count": 20,
   "id": "323c35d7",
   "metadata": {},
   "outputs": [
    {
     "name": "stdout",
     "output_type": "stream",
     "text": [
      "a\n"
     ]
    }
   ],
   "source": [
    "print_char('Omolewa')"
   ]
  },
  {
   "cell_type": "code",
   "execution_count": 17,
   "id": "429b95ee",
   "metadata": {},
   "outputs": [
    {
     "data": {
      "text/plain": [
       "'d'"
      ]
     },
     "execution_count": 17,
     "metadata": {},
     "output_type": "execute_result"
    }
   ],
   "source": [
    "name[-1]"
   ]
  },
  {
   "cell_type": "code",
   "execution_count": 21,
   "id": "96b2186a",
   "metadata": {},
   "outputs": [],
   "source": [
    "def print_char(name):\n",
    "    print(name.upper())"
   ]
  },
  {
   "cell_type": "code",
   "execution_count": 22,
   "id": "108fafca",
   "metadata": {},
   "outputs": [
    {
     "name": "stdout",
     "output_type": "stream",
     "text": [
      "OMOLEWA\n"
     ]
    }
   ],
   "source": [
    "print_char('Omolewa')"
   ]
  },
  {
   "cell_type": "code",
   "execution_count": 23,
   "id": "01adaf47",
   "metadata": {},
   "outputs": [],
   "source": [
    "name = 'Edward'"
   ]
  },
  {
   "cell_type": "code",
   "execution_count": 24,
   "id": "750554b5",
   "metadata": {},
   "outputs": [
    {
     "data": {
      "text/plain": [
       "'EDWARD'"
      ]
     },
     "execution_count": 24,
     "metadata": {},
     "output_type": "execute_result"
    }
   ],
   "source": [
    "print(name.upper())"
   ]
  },
  {
   "cell_type": "code",
   "execution_count": 27,
   "id": "75e38445",
   "metadata": {},
   "outputs": [
    {
     "name": "stdout",
     "output_type": "stream",
     "text": [
      "edward\n",
      "EDWARD\n"
     ]
    }
   ],
   "source": [
    "print(name.lower())\n",
    "print(name.upper())"
   ]
  },
  {
   "cell_type": "code",
   "execution_count": null,
   "id": "4b73f158",
   "metadata": {},
   "outputs": [],
   "source": [
    "def print_char(name):\n",
    "    print(name.upper())"
   ]
  },
  {
   "cell_type": "code",
   "execution_count": 28,
   "id": "d185c951",
   "metadata": {},
   "outputs": [],
   "source": [
    "def print_fname(name1, name2, name3, name4):\n",
    "    print(name4)"
   ]
  },
  {
   "cell_type": "code",
   "execution_count": 29,
   "id": "265b3d89",
   "metadata": {},
   "outputs": [
    {
     "name": "stdout",
     "output_type": "stream",
     "text": [
      "Omo\n"
     ]
    }
   ],
   "source": [
    "print_fname(name4 = 'Omo', name1 = 'Lewa', name2 = 'David', name3 = 'Edward')"
   ]
  },
  {
   "cell_type": "code",
   "execution_count": 34,
   "id": "1eab43fc",
   "metadata": {},
   "outputs": [],
   "source": [
    "def nene(x = 4, y = 5):\n",
    "    print(x + y)"
   ]
  },
  {
   "cell_type": "code",
   "execution_count": 36,
   "id": "12594188",
   "metadata": {},
   "outputs": [
    {
     "name": "stdout",
     "output_type": "stream",
     "text": [
      "104\n"
     ]
    }
   ],
   "source": [
    "nene(y= 100)"
   ]
  },
  {
   "cell_type": "code",
   "execution_count": 39,
   "id": "f5ba6d3f",
   "metadata": {},
   "outputs": [],
   "source": [
    "def nene(z, x = 4, y = 5):\n",
    "    print(x + y + z)"
   ]
  },
  {
   "cell_type": "code",
   "execution_count": 40,
   "id": "6c04d368",
   "metadata": {},
   "outputs": [
    {
     "name": "stdout",
     "output_type": "stream",
     "text": [
      "21\n"
     ]
    }
   ],
   "source": [
    "nene(12)"
   ]
  },
  {
   "cell_type": "code",
   "execution_count": 41,
   "id": "020fc12f",
   "metadata": {},
   "outputs": [],
   "source": [
    "def nene(z, x = 4, y = 5):\n",
    "    return x + y + z"
   ]
  },
  {
   "cell_type": "code",
   "execution_count": 43,
   "id": "6698233c",
   "metadata": {},
   "outputs": [],
   "source": [
    "out = nene(12)"
   ]
  },
  {
   "cell_type": "code",
   "execution_count": 45,
   "id": "8a2f944a",
   "metadata": {},
   "outputs": [
    {
     "data": {
      "text/plain": [
       "2100"
      ]
     },
     "execution_count": 45,
     "metadata": {},
     "output_type": "execute_result"
    }
   ],
   "source": [
    "out * 100"
   ]
  },
  {
   "cell_type": "code",
   "execution_count": 46,
   "id": "9a29c2c9",
   "metadata": {},
   "outputs": [],
   "source": [
    "def nene(z, x = 4, y = 5):\n",
    "    print(x + y + z)"
   ]
  },
  {
   "cell_type": "code",
   "execution_count": 47,
   "id": "6b42936c",
   "metadata": {},
   "outputs": [
    {
     "name": "stdout",
     "output_type": "stream",
     "text": [
      "21\n"
     ]
    }
   ],
   "source": [
    "out = nene(12)"
   ]
  },
  {
   "cell_type": "code",
   "execution_count": 48,
   "id": "a87ab720",
   "metadata": {},
   "outputs": [],
   "source": [
    "out"
   ]
  },
  {
   "cell_type": "code",
   "execution_count": 49,
   "id": "ba6cd80f",
   "metadata": {},
   "outputs": [],
   "source": [
    "### Generator"
   ]
  },
  {
   "cell_type": "code",
   "execution_count": 60,
   "id": "b8a85a57",
   "metadata": {},
   "outputs": [
    {
     "data": {
      "text/plain": [
       "[0, 1, 4, 9, 16]"
      ]
     },
     "execution_count": 60,
     "metadata": {},
     "output_type": "execute_result"
    }
   ],
   "source": [
    "[omolewa ** 2 for omolewa in range(5)]"
   ]
  },
  {
   "cell_type": "code",
   "execution_count": 50,
   "id": "68c64d48",
   "metadata": {},
   "outputs": [],
   "source": [
    "gen = (i ** 2 for i in range(5))"
   ]
  },
  {
   "cell_type": "code",
   "execution_count": 51,
   "id": "1a3895a5",
   "metadata": {},
   "outputs": [
    {
     "data": {
      "text/plain": [
       "<generator object <genexpr> at 0x0000017A8D913D60>"
      ]
     },
     "execution_count": 51,
     "metadata": {},
     "output_type": "execute_result"
    }
   ],
   "source": [
    "gen"
   ]
  },
  {
   "cell_type": "code",
   "execution_count": 52,
   "id": "9b400d47",
   "metadata": {},
   "outputs": [
    {
     "data": {
      "text/plain": [
       "0"
      ]
     },
     "execution_count": 52,
     "metadata": {},
     "output_type": "execute_result"
    }
   ],
   "source": [
    "x = next(gen)"
   ]
  },
  {
   "cell_type": "code",
   "execution_count": 53,
   "id": "b491dbf6",
   "metadata": {},
   "outputs": [
    {
     "data": {
      "text/plain": [
       "1"
      ]
     },
     "execution_count": 53,
     "metadata": {},
     "output_type": "execute_result"
    }
   ],
   "source": [
    "x = next(gen)"
   ]
  },
  {
   "cell_type": "code",
   "execution_count": 54,
   "id": "578d6a0b",
   "metadata": {},
   "outputs": [
    {
     "data": {
      "text/plain": [
       "4"
      ]
     },
     "execution_count": 54,
     "metadata": {},
     "output_type": "execute_result"
    }
   ],
   "source": [
    "next(gen)"
   ]
  },
  {
   "cell_type": "code",
   "execution_count": 55,
   "id": "31a1607f",
   "metadata": {},
   "outputs": [],
   "source": [
    "x = 10"
   ]
  },
  {
   "cell_type": "code",
   "execution_count": 56,
   "id": "bb3409e1",
   "metadata": {},
   "outputs": [],
   "source": [
    "x = 20"
   ]
  },
  {
   "cell_type": "code",
   "execution_count": null,
   "id": "0fb56bee",
   "metadata": {},
   "outputs": [],
   "source": [
    "x = 10\n",
    "y = 20"
   ]
  },
  {
   "cell_type": "code",
   "execution_count": 57,
   "id": "ae1c79ee",
   "metadata": {},
   "outputs": [
    {
     "data": {
      "text/plain": [
       "100"
      ]
     },
     "execution_count": 57,
     "metadata": {},
     "output_type": "execute_result"
    }
   ],
   "source": [
    "10 ** 2"
   ]
  },
  {
   "cell_type": "code",
   "execution_count": null,
   "id": "ba64b4b9",
   "metadata": {},
   "outputs": [],
   "source": []
  }
 ],
 "metadata": {
  "kernelspec": {
   "display_name": "Python 3 (ipykernel)",
   "language": "python",
   "name": "python3"
  },
  "language_info": {
   "codemirror_mode": {
    "name": "ipython",
    "version": 3
   },
   "file_extension": ".py",
   "mimetype": "text/x-python",
   "name": "python",
   "nbconvert_exporter": "python",
   "pygments_lexer": "ipython3",
   "version": "3.9.7"
  }
 },
 "nbformat": 4,
 "nbformat_minor": 5
}
