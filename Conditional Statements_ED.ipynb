{
 "cells": [
  {
   "cell_type": "code",
   "execution_count": null,
   "id": "5f3f2478",
   "metadata": {},
   "outputs": [],
   "source": [
    "# If condition is true do something else do another thing"
   ]
  },
  {
   "cell_type": "code",
   "execution_count": 2,
   "id": "9fc0ad35",
   "metadata": {},
   "outputs": [],
   "source": [
    "cond = False"
   ]
  },
  {
   "cell_type": "code",
   "execution_count": 3,
   "id": "de8e0207",
   "metadata": {},
   "outputs": [
    {
     "name": "stdout",
     "output_type": "stream",
     "text": [
      "Nene\n"
     ]
    }
   ],
   "source": [
    "if cond:\n",
    "    print('Omolewa')\n",
    "else:\n",
    "    print('Nene')"
   ]
  },
  {
   "cell_type": "code",
   "execution_count": 4,
   "id": "8e13588e",
   "metadata": {},
   "outputs": [
    {
     "name": "stdout",
     "output_type": "stream",
     "text": [
      "Please enter your name: Omolewa\n"
     ]
    },
    {
     "data": {
      "text/plain": [
       "'Omolewa'"
      ]
     },
     "execution_count": 4,
     "metadata": {},
     "output_type": "execute_result"
    }
   ],
   "source": [
    "input('Please enter your name: ')"
   ]
  },
  {
   "cell_type": "code",
   "execution_count": 5,
   "id": "79e7c680",
   "metadata": {},
   "outputs": [
    {
     "name": "stdout",
     "output_type": "stream",
     "text": [
      "Please enter your age: 30\n"
     ]
    }
   ],
   "source": [
    "age = input('Please enter your age: ')"
   ]
  },
  {
   "cell_type": "code",
   "execution_count": 6,
   "id": "16fa43cf",
   "metadata": {},
   "outputs": [
    {
     "data": {
      "text/plain": [
       "'30'"
      ]
     },
     "execution_count": 6,
     "metadata": {},
     "output_type": "execute_result"
    }
   ],
   "source": [
    "age"
   ]
  },
  {
   "cell_type": "code",
   "execution_count": null,
   "id": "ab1dd367",
   "metadata": {},
   "outputs": [],
   "source": []
  },
  {
   "cell_type": "code",
   "execution_count": null,
   "id": "81f5bb04",
   "metadata": {},
   "outputs": [],
   "source": []
  },
  {
   "cell_type": "code",
   "execution_count": 7,
   "id": "318f2bf5",
   "metadata": {},
   "outputs": [],
   "source": [
    "# INPUT function always returns a string. \n",
    "# To get a different variable type output, you need to cast"
   ]
  },
  {
   "cell_type": "code",
   "execution_count": 8,
   "id": "1e455298",
   "metadata": {},
   "outputs": [
    {
     "name": "stdout",
     "output_type": "stream",
     "text": [
      "Please enter your age: 30\n"
     ]
    }
   ],
   "source": [
    "age = int(input('Please enter your age: '))"
   ]
  },
  {
   "cell_type": "code",
   "execution_count": 9,
   "id": "87797db9",
   "metadata": {},
   "outputs": [
    {
     "data": {
      "text/plain": [
       "30"
      ]
     },
     "execution_count": 9,
     "metadata": {},
     "output_type": "execute_result"
    }
   ],
   "source": [
    "age"
   ]
  },
  {
   "cell_type": "code",
   "execution_count": null,
   "id": "6a6f654f",
   "metadata": {},
   "outputs": [],
   "source": []
  },
  {
   "cell_type": "code",
   "execution_count": 10,
   "id": "cf1f74ec",
   "metadata": {},
   "outputs": [],
   "source": [
    "# ASSERT function (means please make sure that OR confirm that)"
   ]
  },
  {
   "cell_type": "code",
   "execution_count": 11,
   "id": "7c8a2e5e",
   "metadata": {
    "scrolled": true
   },
   "outputs": [
    {
     "ename": "AssertionError",
     "evalue": "Not Qualified",
     "output_type": "error",
     "traceback": [
      "\u001b[0;31m---------------------------------------------------------------------------\u001b[0m",
      "\u001b[0;31mAssertionError\u001b[0m                            Traceback (most recent call last)",
      "Input \u001b[0;32mIn [11]\u001b[0m, in \u001b[0;36m<cell line: 1>\u001b[0;34m()\u001b[0m\n\u001b[0;32m----> 1\u001b[0m \u001b[38;5;28;01massert\u001b[39;00m age \u001b[38;5;241m>\u001b[39m \u001b[38;5;241m100\u001b[39m, \u001b[38;5;124m'\u001b[39m\u001b[38;5;124mNot Qualified\u001b[39m\u001b[38;5;124m'\u001b[39m\n",
      "\u001b[0;31mAssertionError\u001b[0m: Not Qualified"
     ]
    }
   ],
   "source": [
    "assert age > 100, 'Not Qualified'"
   ]
  },
  {
   "cell_type": "code",
   "execution_count": null,
   "id": "58887fa1",
   "metadata": {},
   "outputs": [],
   "source": []
  },
  {
   "cell_type": "code",
   "execution_count": 12,
   "id": "2366d6f3",
   "metadata": {},
   "outputs": [
    {
     "name": "stdout",
     "output_type": "stream",
     "text": [
      "Please enter your age: 120\n"
     ]
    }
   ],
   "source": [
    "age = int(input('Please enter your age: '))"
   ]
  },
  {
   "cell_type": "code",
   "execution_count": 13,
   "id": "75c1b25f",
   "metadata": {},
   "outputs": [
    {
     "data": {
      "text/plain": [
       "120"
      ]
     },
     "execution_count": 13,
     "metadata": {},
     "output_type": "execute_result"
    }
   ],
   "source": [
    "age"
   ]
  },
  {
   "cell_type": "code",
   "execution_count": 14,
   "id": "ca110218",
   "metadata": {},
   "outputs": [],
   "source": [
    "assert age > 100, 'Not Qualified'"
   ]
  },
  {
   "cell_type": "code",
   "execution_count": null,
   "id": "b4406448",
   "metadata": {},
   "outputs": [],
   "source": []
  },
  {
   "cell_type": "code",
   "execution_count": null,
   "id": "fca859f3",
   "metadata": {},
   "outputs": [],
   "source": []
  },
  {
   "cell_type": "code",
   "execution_count": null,
   "id": "11a7c7de",
   "metadata": {},
   "outputs": [],
   "source": []
  },
  {
   "cell_type": "code",
   "execution_count": 17,
   "id": "98044eba",
   "metadata": {},
   "outputs": [
    {
     "name": "stdout",
     "output_type": "stream",
     "text": [
      "Please enter your name: Omolewa\n",
      "Please enter your age: 30\n"
     ]
    }
   ],
   "source": [
    "fname = input('Please enter your name: ')\n",
    "age = int(input('Please enter your age: '))"
   ]
  },
  {
   "cell_type": "code",
   "execution_count": 18,
   "id": "0f1fd898",
   "metadata": {},
   "outputs": [
    {
     "name": "stdout",
     "output_type": "stream",
     "text": [
      "Omolewa you are 30 years old\n"
     ]
    }
   ],
   "source": [
    "print(f'{fname} you are {age} years old')"
   ]
  },
  {
   "cell_type": "code",
   "execution_count": 19,
   "id": "fe4b4eb1",
   "metadata": {},
   "outputs": [
    {
     "name": "stdout",
     "output_type": "stream",
     "text": [
      "Please enter your name and age, separated by space: Omolewa 30\n"
     ]
    },
    {
     "data": {
      "text/plain": [
       "'Omolewa 30'"
      ]
     },
     "execution_count": 19,
     "metadata": {},
     "output_type": "execute_result"
    }
   ],
   "source": [
    "input('Please enter your name and age, separated by space: ')"
   ]
  },
  {
   "cell_type": "code",
   "execution_count": null,
   "id": "b3f63d57",
   "metadata": {},
   "outputs": [],
   "source": []
  },
  {
   "cell_type": "code",
   "execution_count": 20,
   "id": "df5934d1",
   "metadata": {},
   "outputs": [
    {
     "name": "stdout",
     "output_type": "stream",
     "text": [
      "Please enter your name and age, separated by space: Omolewa 30\n"
     ]
    }
   ],
   "source": [
    "inp = input('Please enter your name and age, separated by space: ')"
   ]
  },
  {
   "cell_type": "code",
   "execution_count": 21,
   "id": "ea97cf18",
   "metadata": {},
   "outputs": [
    {
     "data": {
      "text/plain": [
       "'Omolewa 30'"
      ]
     },
     "execution_count": 21,
     "metadata": {},
     "output_type": "execute_result"
    }
   ],
   "source": [
    "inp"
   ]
  },
  {
   "cell_type": "code",
   "execution_count": 22,
   "id": "afb402fc",
   "metadata": {},
   "outputs": [],
   "source": [
    "# How do you split a data string? \n",
    "# use split function and it will split based on whitespace unless a character is specified"
   ]
  },
  {
   "cell_type": "code",
   "execution_count": 23,
   "id": "7e03d4ac",
   "metadata": {},
   "outputs": [
    {
     "data": {
      "text/plain": [
       "['Omolewa', '30']"
      ]
     },
     "execution_count": 23,
     "metadata": {},
     "output_type": "execute_result"
    }
   ],
   "source": [
    "inp.split()"
   ]
  },
  {
   "cell_type": "code",
   "execution_count": 24,
   "id": "669a59e4",
   "metadata": {},
   "outputs": [],
   "source": [
    "# Eg 2 \n"
   ]
  },
  {
   "cell_type": "code",
   "execution_count": 25,
   "id": "79db8991",
   "metadata": {},
   "outputs": [],
   "source": [
    "sent = 'my name is Edward and I live in Lagos'"
   ]
  },
  {
   "cell_type": "code",
   "execution_count": 26,
   "id": "46fc5d8b",
   "metadata": {},
   "outputs": [
    {
     "data": {
      "text/plain": [
       "['my', 'name', 'is', 'Edward', 'and', 'I', 'live', 'in', 'Lagos']"
      ]
     },
     "execution_count": 26,
     "metadata": {},
     "output_type": "execute_result"
    }
   ],
   "source": [
    "sent.split()"
   ]
  },
  {
   "cell_type": "code",
   "execution_count": 27,
   "id": "1e074907",
   "metadata": {},
   "outputs": [
    {
     "data": {
      "text/plain": [
       "['my name is Edward ', ' I live in Lagos']"
      ]
     },
     "execution_count": 27,
     "metadata": {},
     "output_type": "execute_result"
    }
   ],
   "source": [
    "sent.split('and')"
   ]
  },
  {
   "cell_type": "code",
   "execution_count": null,
   "id": "c9fb0cd7",
   "metadata": {},
   "outputs": [],
   "source": []
  },
  {
   "cell_type": "code",
   "execution_count": null,
   "id": "75b11dd1",
   "metadata": {},
   "outputs": [],
   "source": []
  },
  {
   "cell_type": "code",
   "execution_count": 20,
   "id": "c9d21b1e",
   "metadata": {},
   "outputs": [
    {
     "name": "stdout",
     "output_type": "stream",
     "text": [
      "Please enter your name and age, separated by space: Omolewa 30\n"
     ]
    }
   ],
   "source": [
    "inp = input('Please enter your name and age, separated by space: ')\n"
   ]
  },
  {
   "cell_type": "code",
   "execution_count": 28,
   "id": "460fdd80",
   "metadata": {},
   "outputs": [
    {
     "data": {
      "text/plain": [
       "['Omolewa', '30']"
      ]
     },
     "execution_count": 28,
     "metadata": {},
     "output_type": "execute_result"
    }
   ],
   "source": [
    "inp.split()"
   ]
  },
  {
   "cell_type": "code",
   "execution_count": 30,
   "id": "f244e323",
   "metadata": {},
   "outputs": [],
   "source": [
    "fname, age = inp.split()"
   ]
  },
  {
   "cell_type": "code",
   "execution_count": 32,
   "id": "b5b6d7ee",
   "metadata": {},
   "outputs": [
    {
     "data": {
      "text/plain": [
       "'My name is Omolewa and I am 30 years old'"
      ]
     },
     "execution_count": 32,
     "metadata": {},
     "output_type": "execute_result"
    }
   ],
   "source": [
    "f'My name is {fname} and I am {age} years old'"
   ]
  },
  {
   "cell_type": "code",
   "execution_count": null,
   "id": "13cb434b",
   "metadata": {},
   "outputs": [],
   "source": []
  },
  {
   "cell_type": "code",
   "execution_count": null,
   "id": "1aa2df28",
   "metadata": {},
   "outputs": [],
   "source": []
  },
  {
   "cell_type": "code",
   "execution_count": null,
   "id": "753d62d5",
   "metadata": {},
   "outputs": [],
   "source": [
    "# A company wants to give out age-based bonuses for people 18 and above. Print a statement stating if the person is qualified or not"
   ]
  },
  {
   "cell_type": "code",
   "execution_count": 35,
   "id": "41ec8ac9",
   "metadata": {},
   "outputs": [
    {
     "name": "stdout",
     "output_type": "stream",
     "text": [
      "Please enter your first name and age, separated by space: Ade 15\n"
     ]
    },
    {
     "data": {
      "text/plain": [
       "'Ade 15'"
      ]
     },
     "execution_count": 35,
     "metadata": {},
     "output_type": "execute_result"
    }
   ],
   "source": [
    "input('Please enter your first name and age, separated by space: ')"
   ]
  },
  {
   "cell_type": "code",
   "execution_count": 36,
   "id": "c3067127",
   "metadata": {},
   "outputs": [],
   "source": [
    "# inp = input('Please enter your first name and age, separated by space: ')\n",
    "\n",
    "# fname, age = inp.split()\n"
   ]
  },
  {
   "cell_type": "code",
   "execution_count": 37,
   "id": "b95c60b7",
   "metadata": {},
   "outputs": [
    {
     "name": "stdout",
     "output_type": "stream",
     "text": [
      "Please enter your first name and age, separated by space: Tom 44\n",
      "Tom, you are qualified for the bonus\n"
     ]
    }
   ],
   "source": [
    "fname, age = input('Please enter your first name and age, separated by space: ').split()\n",
    "\n",
    "if int(age) >= 18:\n",
    "    print(f'{fname}, you are qualified for the bonus')\n",
    "else:\n",
    "    print(f'{fname}, you are not qualified for the bonus')\n",
    "    "
   ]
  },
  {
   "cell_type": "code",
   "execution_count": 38,
   "id": "c3e912ad",
   "metadata": {},
   "outputs": [
    {
     "name": "stdout",
     "output_type": "stream",
     "text": [
      "Please enter your first name and age, separated by space: David 18\n",
      "David, you are qualified for bonus3\n"
     ]
    }
   ],
   "source": [
    "fname, age = input('Please enter your first name and age, separated by space: ').split()\n",
    "\n",
    "if int(age) < 18:\n",
    "    print(f'{fname}, you are qualified for bonus1')\n",
    "elif int(age) > 18 and int(age) < 35:\n",
    "    print(f'{fname}, you are qualified for bonus2')\n",
    "else:\n",
    "    print(f'{fname}, you are qualified for bonus3')\n"
   ]
  },
  {
   "cell_type": "code",
   "execution_count": 39,
   "id": "d0c3da75",
   "metadata": {},
   "outputs": [],
   "source": [
    "# Improve code (optimize) by casting age to integer at the start"
   ]
  },
  {
   "cell_type": "code",
   "execution_count": 41,
   "id": "392c87e2",
   "metadata": {},
   "outputs": [
    {
     "name": "stdout",
     "output_type": "stream",
     "text": [
      "Please enter your first name and age, separated by space: Paul 18\n",
      "Paul, you are qualified for bonus2\n"
     ]
    }
   ],
   "source": [
    "fname, age = input('Please enter your first name and age, separated by space: ').split()\n",
    "age = int(age)\n",
    "if age < 18:\n",
    "    print(f'{fname}, you are qualified for bonus1')\n",
    "elif age < 35:\n",
    "    print(f'{fname}, you are qualified for bonus2')\n",
    "else:\n",
    "    print(f'{fname}, you are qualified for bonus3')"
   ]
  },
  {
   "cell_type": "code",
   "execution_count": 42,
   "id": "fb8330cb",
   "metadata": {},
   "outputs": [
    {
     "data": {
      "text/plain": [
       "True"
      ]
     },
     "execution_count": 42,
     "metadata": {},
     "output_type": "execute_result"
    }
   ],
   "source": [
    "out = age == 18\n",
    "out"
   ]
  },
  {
   "cell_type": "code",
   "execution_count": null,
   "id": "2dcac94c",
   "metadata": {},
   "outputs": [],
   "source": []
  },
  {
   "cell_type": "code",
   "execution_count": 43,
   "id": "b3c95547",
   "metadata": {},
   "outputs": [],
   "source": [
    "#range function"
   ]
  },
  {
   "cell_type": "code",
   "execution_count": 45,
   "id": "359a361f",
   "metadata": {},
   "outputs": [
    {
     "name": "stdout",
     "output_type": "stream",
     "text": [
      "0\n",
      "1\n",
      "2\n",
      "3\n",
      "4\n",
      "5\n",
      "6\n",
      "7\n",
      "8\n",
      "9\n"
     ]
    }
   ],
   "source": [
    "for num in range(10):\n",
    "    print(num)"
   ]
  },
  {
   "cell_type": "code",
   "execution_count": 46,
   "id": "77c7bb7b",
   "metadata": {},
   "outputs": [
    {
     "name": "stdout",
     "output_type": "stream",
     "text": [
      "50\n",
      "150\n",
      "250\n",
      "350\n",
      "450\n",
      "550\n",
      "650\n",
      "750\n",
      "850\n",
      "950\n"
     ]
    }
   ],
   "source": [
    "for num in range(50, 1000, 100):\n",
    "    print(num)"
   ]
  },
  {
   "cell_type": "code",
   "execution_count": 47,
   "id": "3ed07165",
   "metadata": {},
   "outputs": [
    {
     "data": {
      "text/plain": [
       "[0, 1, 4, 9, 16, 25, 36, 49, 64, 81]"
      ]
     },
     "execution_count": 47,
     "metadata": {},
     "output_type": "execute_result"
    }
   ],
   "source": [
    "[num ** 2 for num in range(10)]"
   ]
  },
  {
   "cell_type": "code",
   "execution_count": 50,
   "id": "ef2db408",
   "metadata": {},
   "outputs": [
    {
     "data": {
      "text/plain": [
       "[0, 4, 16, 36, 64]"
      ]
     },
     "execution_count": 50,
     "metadata": {},
     "output_type": "execute_result"
    }
   ],
   "source": [
    "[num ** 2 for num in range(10)if num % 2 == 0 ]\n",
    "# square even numbers in range 10"
   ]
  },
  {
   "cell_type": "code",
   "execution_count": null,
   "id": "5ca3dbb8",
   "metadata": {},
   "outputs": [],
   "source": []
  },
  {
   "cell_type": "code",
   "execution_count": 51,
   "id": "2c18b6c9",
   "metadata": {},
   "outputs": [],
   "source": [
    "num = 20"
   ]
  },
  {
   "cell_type": "code",
   "execution_count": 52,
   "id": "8dd5bfbf",
   "metadata": {},
   "outputs": [
    {
     "data": {
      "text/plain": [
       "6.666666666666667"
      ]
     },
     "execution_count": 52,
     "metadata": {},
     "output_type": "execute_result"
    }
   ],
   "source": [
    "num /3 #divides"
   ]
  },
  {
   "cell_type": "code",
   "execution_count": 53,
   "id": "64f781ec",
   "metadata": {},
   "outputs": [
    {
     "data": {
      "text/plain": [
       "6"
      ]
     },
     "execution_count": 53,
     "metadata": {},
     "output_type": "execute_result"
    }
   ],
   "source": [
    "num // 3 #gives whole number"
   ]
  },
  {
   "cell_type": "code",
   "execution_count": 54,
   "id": "c71c0bde",
   "metadata": {},
   "outputs": [
    {
     "data": {
      "text/plain": [
       "2"
      ]
     },
     "execution_count": 54,
     "metadata": {},
     "output_type": "execute_result"
    }
   ],
   "source": [
    "num % 3 #gives remainder"
   ]
  },
  {
   "cell_type": "code",
   "execution_count": 55,
   "id": "8c6f064d",
   "metadata": {},
   "outputs": [],
   "source": [
    "# check if 1454355 is an even number"
   ]
  },
  {
   "cell_type": "code",
   "execution_count": 56,
   "id": "abae4408",
   "metadata": {},
   "outputs": [
    {
     "data": {
      "text/plain": [
       "1"
      ]
     },
     "execution_count": 56,
     "metadata": {},
     "output_type": "execute_result"
    }
   ],
   "source": [
    "1454355 % 2"
   ]
  },
  {
   "cell_type": "code",
   "execution_count": 57,
   "id": "8381a76b",
   "metadata": {},
   "outputs": [
    {
     "name": "stdout",
     "output_type": "stream",
     "text": [
      "False\n"
     ]
    }
   ],
   "source": [
    "if 1454355 % 2 == 0:\n",
    "    print('Even')\n",
    "else:\n",
    "    print('False')"
   ]
  },
  {
   "cell_type": "code",
   "execution_count": null,
   "id": "dce85824",
   "metadata": {},
   "outputs": [],
   "source": []
  }
 ],
 "metadata": {
  "kernelspec": {
   "display_name": "Python 3 (ipykernel)",
   "language": "python",
   "name": "python3"
  },
  "language_info": {
   "codemirror_mode": {
    "name": "ipython",
    "version": 3
   },
   "file_extension": ".py",
   "mimetype": "text/x-python",
   "name": "python",
   "nbconvert_exporter": "python",
   "pygments_lexer": "ipython3",
   "version": "3.9.12"
  }
 },
 "nbformat": 4,
 "nbformat_minor": 5
}
