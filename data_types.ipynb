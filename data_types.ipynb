{
 "cells": [
  {
   "cell_type": "markdown",
   "id": "d1a98c3d",
   "metadata": {},
   "source": [
    "## String"
   ]
  },
  {
   "cell_type": "code",
   "execution_count": 2,
   "id": "34e98f20",
   "metadata": {},
   "outputs": [],
   "source": [
    "name1 = 'Omolewa'\n",
    "name2 = 'Edward'"
   ]
  },
  {
   "cell_type": "code",
   "execution_count": 3,
   "id": "2181c75f",
   "metadata": {},
   "outputs": [
    {
     "data": {
      "text/plain": [
       "'Omolewa'"
      ]
     },
     "execution_count": 3,
     "metadata": {},
     "output_type": "execute_result"
    }
   ],
   "source": [
    "name1"
   ]
  },
  {
   "cell_type": "code",
   "execution_count": 4,
   "id": "348cc598",
   "metadata": {},
   "outputs": [
    {
     "data": {
      "text/plain": [
       "'OmolewaAdaramola'"
      ]
     },
     "execution_count": 4,
     "metadata": {},
     "output_type": "execute_result"
    }
   ],
   "source": [
    "'Omolewa' + \"Adaramola\""
   ]
  },
  {
   "cell_type": "code",
   "execution_count": 5,
   "id": "7ba31681",
   "metadata": {},
   "outputs": [
    {
     "data": {
      "text/plain": [
       "5"
      ]
     },
     "execution_count": 5,
     "metadata": {},
     "output_type": "execute_result"
    }
   ],
   "source": [
    "2 + 3"
   ]
  },
  {
   "cell_type": "code",
   "execution_count": 7,
   "id": "854cbe5c",
   "metadata": {},
   "outputs": [
    {
     "data": {
      "text/plain": [
       "'23'"
      ]
     },
     "execution_count": 7,
     "metadata": {},
     "output_type": "execute_result"
    }
   ],
   "source": [
    "'2' + '3'"
   ]
  },
  {
   "cell_type": "code",
   "execution_count": 8,
   "id": "90215add",
   "metadata": {},
   "outputs": [
    {
     "data": {
      "text/plain": [
       "'OmolewaEdward'"
      ]
     },
     "execution_count": 8,
     "metadata": {},
     "output_type": "execute_result"
    }
   ],
   "source": [
    "name1 + name2"
   ]
  },
  {
   "cell_type": "code",
   "execution_count": 9,
   "id": "3bfa39be",
   "metadata": {},
   "outputs": [],
   "source": [
    "fullname = name1 + name2"
   ]
  },
  {
   "cell_type": "code",
   "execution_count": 10,
   "id": "0501bf5d",
   "metadata": {},
   "outputs": [
    {
     "data": {
      "text/plain": [
       "'OmolewaEdward'"
      ]
     },
     "execution_count": 10,
     "metadata": {},
     "output_type": "execute_result"
    }
   ],
   "source": [
    "fullname"
   ]
  },
  {
   "cell_type": "code",
   "execution_count": null,
   "id": "ba90465f",
   "metadata": {},
   "outputs": [],
   "source": [
    "= and =="
   ]
  },
  {
   "cell_type": "code",
   "execution_count": 11,
   "id": "e4ba6dc7",
   "metadata": {},
   "outputs": [
    {
     "data": {
      "text/plain": [
       "False"
      ]
     },
     "execution_count": 11,
     "metadata": {},
     "output_type": "execute_result"
    }
   ],
   "source": [
    "2 == 3"
   ]
  },
  {
   "cell_type": "code",
   "execution_count": 12,
   "id": "237cc476",
   "metadata": {},
   "outputs": [
    {
     "data": {
      "text/plain": [
       "False"
      ]
     },
     "execution_count": 12,
     "metadata": {},
     "output_type": "execute_result"
    }
   ],
   "source": [
    "name1 == name2"
   ]
  },
  {
   "cell_type": "code",
   "execution_count": 16,
   "id": "6d9bce8b",
   "metadata": {},
   "outputs": [],
   "source": [
    "name1 = 'Omolewa'\n",
    "name2 = 'Bukola'"
   ]
  },
  {
   "cell_type": "code",
   "execution_count": 14,
   "id": "395bd81e",
   "metadata": {},
   "outputs": [
    {
     "data": {
      "text/plain": [
       "False"
      ]
     },
     "execution_count": 14,
     "metadata": {},
     "output_type": "execute_result"
    }
   ],
   "source": [
    "name1 == name2"
   ]
  },
  {
   "cell_type": "code",
   "execution_count": 15,
   "id": "dd4f9aac",
   "metadata": {},
   "outputs": [
    {
     "data": {
      "text/plain": [
       "7"
      ]
     },
     "execution_count": 15,
     "metadata": {},
     "output_type": "execute_result"
    }
   ],
   "source": [
    "len(name1)"
   ]
  },
  {
   "cell_type": "code",
   "execution_count": 17,
   "id": "58032ee6",
   "metadata": {},
   "outputs": [
    {
     "data": {
      "text/plain": [
       "False"
      ]
     },
     "execution_count": 17,
     "metadata": {},
     "output_type": "execute_result"
    }
   ],
   "source": [
    "len(name1) == len(name2)"
   ]
  },
  {
   "cell_type": "code",
   "execution_count": 18,
   "id": "de5ab9ce",
   "metadata": {},
   "outputs": [
    {
     "data": {
      "text/plain": [
       "'OMOLEWA'"
      ]
     },
     "execution_count": 18,
     "metadata": {},
     "output_type": "execute_result"
    }
   ],
   "source": [
    "name1.upper()"
   ]
  },
  {
   "cell_type": "code",
   "execution_count": 19,
   "id": "e14f6b56",
   "metadata": {},
   "outputs": [
    {
     "data": {
      "text/plain": [
       "False"
      ]
     },
     "execution_count": 19,
     "metadata": {},
     "output_type": "execute_result"
    }
   ],
   "source": [
    "name1.isupper()"
   ]
  },
  {
   "cell_type": "code",
   "execution_count": 20,
   "id": "da566307",
   "metadata": {},
   "outputs": [
    {
     "ename": "NameError",
     "evalue": "name 'upper' is not defined",
     "output_type": "error",
     "traceback": [
      "\u001b[1;31m---------------------------------------------------------------------------\u001b[0m",
      "\u001b[1;31mNameError\u001b[0m                                 Traceback (most recent call last)",
      "\u001b[1;32mC:\\Users\\OMOLEW~1\\AppData\\Local\\Temp/ipykernel_41920/1438842720.py\u001b[0m in \u001b[0;36m<module>\u001b[1;34m\u001b[0m\n\u001b[1;32m----> 1\u001b[1;33m \u001b[0mname1\u001b[0m \u001b[1;33m==\u001b[0m \u001b[0mupper\u001b[0m\u001b[1;33m\u001b[0m\u001b[1;33m\u001b[0m\u001b[0m\n\u001b[0m",
      "\u001b[1;31mNameError\u001b[0m: name 'upper' is not defined"
     ]
    }
   ],
   "source": [
    "name1 == upper"
   ]
  },
  {
   "cell_type": "code",
   "execution_count": 22,
   "id": "09be05ec",
   "metadata": {},
   "outputs": [
    {
     "data": {
      "text/plain": [
       "True"
      ]
     },
     "execution_count": 22,
     "metadata": {},
     "output_type": "execute_result"
    }
   ],
   "source": [
    "name1.count(\"O\") == name2.count(\"o\")"
   ]
  },
  {
   "cell_type": "code",
   "execution_count": 23,
   "id": "75ecf0a6",
   "metadata": {},
   "outputs": [
    {
     "data": {
      "text/plain": [
       "1"
      ]
     },
     "execution_count": 23,
     "metadata": {},
     "output_type": "execute_result"
    }
   ],
   "source": [
    "name2.count(\"o\")"
   ]
  },
  {
   "cell_type": "code",
   "execution_count": 24,
   "id": "fbe543e7",
   "metadata": {},
   "outputs": [
    {
     "data": {
      "text/plain": [
       "1"
      ]
     },
     "execution_count": 24,
     "metadata": {},
     "output_type": "execute_result"
    }
   ],
   "source": [
    "name1.count(\"O\")"
   ]
  },
  {
   "cell_type": "code",
   "execution_count": 25,
   "id": "b87c3e93",
   "metadata": {},
   "outputs": [
    {
     "data": {
      "text/plain": [
       "True"
      ]
     },
     "execution_count": 25,
     "metadata": {},
     "output_type": "execute_result"
    }
   ],
   "source": [
    "1 == 1"
   ]
  },
  {
   "cell_type": "code",
   "execution_count": 26,
   "id": "6e703449",
   "metadata": {},
   "outputs": [
    {
     "data": {
      "text/plain": [
       "str"
      ]
     },
     "execution_count": 26,
     "metadata": {},
     "output_type": "execute_result"
    }
   ],
   "source": [
    "type(name1)"
   ]
  },
  {
   "cell_type": "code",
   "execution_count": 27,
   "id": "08ce2df7",
   "metadata": {},
   "outputs": [
    {
     "data": {
      "text/plain": [
       "int"
      ]
     },
     "execution_count": 27,
     "metadata": {},
     "output_type": "execute_result"
    }
   ],
   "source": [
    "type(23300)"
   ]
  },
  {
   "cell_type": "code",
   "execution_count": 28,
   "id": "7c0936c2",
   "metadata": {},
   "outputs": [
    {
     "data": {
      "text/plain": [
       "False"
      ]
     },
     "execution_count": 28,
     "metadata": {},
     "output_type": "execute_result"
    }
   ],
   "source": [
    "type(name1) == type(235)"
   ]
  },
  {
   "cell_type": "code",
   "execution_count": 29,
   "id": "81852bc4",
   "metadata": {},
   "outputs": [
    {
     "data": {
      "text/plain": [
       "'Omolewa'"
      ]
     },
     "execution_count": 29,
     "metadata": {},
     "output_type": "execute_result"
    }
   ],
   "source": [
    "name1"
   ]
  },
  {
   "cell_type": "code",
   "execution_count": 30,
   "id": "a135a171",
   "metadata": {},
   "outputs": [
    {
     "data": {
      "text/plain": [
       "'o'"
      ]
     },
     "execution_count": 30,
     "metadata": {},
     "output_type": "execute_result"
    }
   ],
   "source": [
    "name1[2]"
   ]
  },
  {
   "cell_type": "code",
   "execution_count": 31,
   "id": "0f7ff6c9",
   "metadata": {},
   "outputs": [
    {
     "data": {
      "text/plain": [
       "'e'"
      ]
     },
     "execution_count": 31,
     "metadata": {},
     "output_type": "execute_result"
    }
   ],
   "source": [
    "name1[4]"
   ]
  },
  {
   "cell_type": "code",
   "execution_count": 32,
   "id": "4f7c2815",
   "metadata": {},
   "outputs": [
    {
     "data": {
      "text/plain": [
       "'a'"
      ]
     },
     "execution_count": 32,
     "metadata": {},
     "output_type": "execute_result"
    }
   ],
   "source": [
    "name1[-1]"
   ]
  },
  {
   "cell_type": "code",
   "execution_count": 33,
   "id": "fe40f618",
   "metadata": {},
   "outputs": [],
   "source": [
    "# slicing in python"
   ]
  },
  {
   "cell_type": "code",
   "execution_count": 34,
   "id": "318364a5",
   "metadata": {},
   "outputs": [],
   "source": [
    "name = 'ADARAMOLA BUKOLA'"
   ]
  },
  {
   "cell_type": "code",
   "execution_count": 35,
   "id": "fbc79fa1",
   "metadata": {},
   "outputs": [
    {
     "data": {
      "text/plain": [
       "'DRML '"
      ]
     },
     "execution_count": 35,
     "metadata": {},
     "output_type": "execute_result"
    }
   ],
   "source": [
    "name[1:10:2]"
   ]
  },
  {
   "cell_type": "code",
   "execution_count": 36,
   "id": "d2a47b04",
   "metadata": {},
   "outputs": [
    {
     "data": {
      "text/plain": [
       "'ARO K'"
      ]
     },
     "execution_count": 36,
     "metadata": {},
     "output_type": "execute_result"
    }
   ],
   "source": [
    "name[0:15:3]"
   ]
  },
  {
   "cell_type": "code",
   "execution_count": 37,
   "id": "75f55649",
   "metadata": {},
   "outputs": [
    {
     "data": {
      "text/plain": [
       "'ARO K'"
      ]
     },
     "execution_count": 37,
     "metadata": {},
     "output_type": "execute_result"
    }
   ],
   "source": [
    "name[:15:3]"
   ]
  },
  {
   "cell_type": "code",
   "execution_count": 38,
   "id": "8a1408d5",
   "metadata": {},
   "outputs": [
    {
     "data": {
      "text/plain": [
       "'AMBA'"
      ]
     },
     "execution_count": 38,
     "metadata": {},
     "output_type": "execute_result"
    }
   ],
   "source": [
    "name[::5]"
   ]
  },
  {
   "cell_type": "code",
   "execution_count": 39,
   "id": "7f1a724c",
   "metadata": {},
   "outputs": [],
   "source": [
    "name = 'MOM'"
   ]
  },
  {
   "cell_type": "code",
   "execution_count": 40,
   "id": "b934a70e",
   "metadata": {},
   "outputs": [],
   "source": [
    "name = 'OMOLEWA'"
   ]
  },
  {
   "cell_type": "code",
   "execution_count": 41,
   "id": "10526f19",
   "metadata": {},
   "outputs": [
    {
     "data": {
      "text/plain": [
       "'AWELOMO'"
      ]
     },
     "execution_count": 41,
     "metadata": {},
     "output_type": "execute_result"
    }
   ],
   "source": [
    "name[::-1]"
   ]
  },
  {
   "cell_type": "code",
   "execution_count": 42,
   "id": "2057423f",
   "metadata": {},
   "outputs": [
    {
     "data": {
      "text/plain": [
       "False"
      ]
     },
     "execution_count": 42,
     "metadata": {},
     "output_type": "execute_result"
    }
   ],
   "source": [
    "name == name[::-1]"
   ]
  },
  {
   "cell_type": "code",
   "execution_count": 43,
   "id": "336dff2b",
   "metadata": {},
   "outputs": [],
   "source": [
    "name = 'racecar'"
   ]
  },
  {
   "cell_type": "code",
   "execution_count": 46,
   "id": "06dbc7fa",
   "metadata": {},
   "outputs": [
    {
     "data": {
      "text/plain": [
       "True"
      ]
     },
     "execution_count": 46,
     "metadata": {},
     "output_type": "execute_result"
    }
   ],
   "source": [
    "name == name[::-1]"
   ]
  },
  {
   "cell_type": "code",
   "execution_count": null,
   "id": "6cc406f2",
   "metadata": {},
   "outputs": [],
   "source": [
    "name = ''"
   ]
  },
  {
   "cell_type": "code",
   "execution_count": 78,
   "id": "9ed83279",
   "metadata": {},
   "outputs": [],
   "source": [
    "name = 'Omolewa'"
   ]
  },
  {
   "cell_type": "code",
   "execution_count": 79,
   "id": "0d76c766",
   "metadata": {},
   "outputs": [],
   "source": [
    "name += 'ada'"
   ]
  },
  {
   "cell_type": "code",
   "execution_count": 80,
   "id": "01f95b3e",
   "metadata": {},
   "outputs": [
    {
     "data": {
      "text/plain": [
       "'Omolewaada'"
      ]
     },
     "execution_count": 80,
     "metadata": {},
     "output_type": "execute_result"
    }
   ],
   "source": [
    "name"
   ]
  },
  {
   "cell_type": "code",
   "execution_count": 81,
   "id": "195cd52f",
   "metadata": {},
   "outputs": [
    {
     "data": {
      "text/plain": [
       "'Omolewaada'"
      ]
     },
     "execution_count": 81,
     "metadata": {},
     "output_type": "execute_result"
    }
   ],
   "source": [
    "'Omolewa' + 'ada'"
   ]
  },
  {
   "cell_type": "code",
   "execution_count": null,
   "id": "98f67b41",
   "metadata": {},
   "outputs": [],
   "source": []
  },
  {
   "cell_type": "markdown",
   "id": "361ae41b",
   "metadata": {},
   "source": [
    "## list"
   ]
  },
  {
   "cell_type": "code",
   "execution_count": 47,
   "id": "fd66091b",
   "metadata": {},
   "outputs": [],
   "source": [
    "names = []"
   ]
  },
  {
   "cell_type": "code",
   "execution_count": 48,
   "id": "1d0a9596",
   "metadata": {},
   "outputs": [],
   "source": [
    "names.append('Omolewa')"
   ]
  },
  {
   "cell_type": "code",
   "execution_count": 49,
   "id": "b72c7d1b",
   "metadata": {},
   "outputs": [
    {
     "data": {
      "text/plain": [
       "['Omolewa']"
      ]
     },
     "execution_count": 49,
     "metadata": {},
     "output_type": "execute_result"
    }
   ],
   "source": [
    "names"
   ]
  },
  {
   "cell_type": "code",
   "execution_count": 50,
   "id": "de753ca4",
   "metadata": {},
   "outputs": [],
   "source": [
    "names.append('Abiola')"
   ]
  },
  {
   "cell_type": "code",
   "execution_count": 51,
   "id": "fcd5e571",
   "metadata": {},
   "outputs": [
    {
     "data": {
      "text/plain": [
       "['Omolewa', 'Abiola']"
      ]
     },
     "execution_count": 51,
     "metadata": {},
     "output_type": "execute_result"
    }
   ],
   "source": [
    "names"
   ]
  },
  {
   "cell_type": "code",
   "execution_count": 55,
   "id": "c311499e",
   "metadata": {},
   "outputs": [
    {
     "data": {
      "text/plain": [
       "'Obi'"
      ]
     },
     "execution_count": 55,
     "metadata": {},
     "output_type": "execute_result"
    }
   ],
   "source": [
    "names[1]"
   ]
  },
  {
   "cell_type": "code",
   "execution_count": 52,
   "id": "cc3ba844",
   "metadata": {},
   "outputs": [],
   "source": [
    "names.insert(1, 'Obi')"
   ]
  },
  {
   "cell_type": "code",
   "execution_count": 53,
   "id": "0481d61d",
   "metadata": {},
   "outputs": [
    {
     "data": {
      "text/plain": [
       "['Omolewa', 'Obi', 'Abiola']"
      ]
     },
     "execution_count": 53,
     "metadata": {},
     "output_type": "execute_result"
    }
   ],
   "source": [
    "names"
   ]
  },
  {
   "cell_type": "code",
   "execution_count": 56,
   "id": "523c0fa5",
   "metadata": {},
   "outputs": [
    {
     "data": {
      "text/plain": [
       "['Omolewa', 'Obi', 'Abiola']"
      ]
     },
     "execution_count": 56,
     "metadata": {},
     "output_type": "execute_result"
    }
   ],
   "source": [
    "names"
   ]
  },
  {
   "cell_type": "code",
   "execution_count": 57,
   "id": "3e374878",
   "metadata": {},
   "outputs": [],
   "source": [
    "names.remove('Omolewa')"
   ]
  },
  {
   "cell_type": "code",
   "execution_count": 58,
   "id": "7e11d9f9",
   "metadata": {},
   "outputs": [
    {
     "data": {
      "text/plain": [
       "['Obi', 'Abiola']"
      ]
     },
     "execution_count": 58,
     "metadata": {},
     "output_type": "execute_result"
    }
   ],
   "source": [
    "names"
   ]
  },
  {
   "cell_type": "code",
   "execution_count": 59,
   "id": "3f35d24c",
   "metadata": {},
   "outputs": [
    {
     "data": {
      "text/plain": [
       "'Abiola'"
      ]
     },
     "execution_count": 59,
     "metadata": {},
     "output_type": "execute_result"
    }
   ],
   "source": [
    "names.pop(1)"
   ]
  },
  {
   "cell_type": "code",
   "execution_count": 60,
   "id": "02368fe3",
   "metadata": {},
   "outputs": [
    {
     "data": {
      "text/plain": [
       "['Obi']"
      ]
     },
     "execution_count": 60,
     "metadata": {},
     "output_type": "execute_result"
    }
   ],
   "source": [
    "names"
   ]
  },
  {
   "cell_type": "code",
   "execution_count": 61,
   "id": "a1fd2332",
   "metadata": {},
   "outputs": [],
   "source": [
    "names = ['Omolewa', 'Edward', 'James', 'Obi', 'Loko', 'Joseph', 'Abi']"
   ]
  },
  {
   "cell_type": "code",
   "execution_count": 63,
   "id": "983f3e18",
   "metadata": {},
   "outputs": [
    {
     "data": {
      "text/plain": [
       "['Omolewa', 'Edward', 'James', 'Obi']"
      ]
     },
     "execution_count": 63,
     "metadata": {},
     "output_type": "execute_result"
    }
   ],
   "source": [
    "names[:4]"
   ]
  },
  {
   "cell_type": "code",
   "execution_count": 64,
   "id": "6ffcad33",
   "metadata": {},
   "outputs": [
    {
     "data": {
      "text/plain": [
       "['Omolewa', 'Edward', 'James', 'Obi', 'Loko', 'Joseph', 'Abi']"
      ]
     },
     "execution_count": 64,
     "metadata": {},
     "output_type": "execute_result"
    }
   ],
   "source": [
    "names"
   ]
  },
  {
   "cell_type": "code",
   "execution_count": 65,
   "id": "f9479b5d",
   "metadata": {},
   "outputs": [],
   "source": [
    "names = names[:4]"
   ]
  },
  {
   "cell_type": "code",
   "execution_count": 66,
   "id": "11444c1c",
   "metadata": {},
   "outputs": [
    {
     "data": {
      "text/plain": [
       "['Omolewa', 'Edward', 'James', 'Obi']"
      ]
     },
     "execution_count": 66,
     "metadata": {},
     "output_type": "execute_result"
    }
   ],
   "source": [
    "names"
   ]
  },
  {
   "cell_type": "code",
   "execution_count": null,
   "id": "9803330f",
   "metadata": {},
   "outputs": [],
   "source": [
    "names2 = names[:4]"
   ]
  },
  {
   "cell_type": "code",
   "execution_count": 82,
   "id": "84d69634",
   "metadata": {},
   "outputs": [
    {
     "data": {
      "text/plain": [
       "['Omolewa', 'Edward', 'James', 'Obi']"
      ]
     },
     "execution_count": 82,
     "metadata": {},
     "output_type": "execute_result"
    }
   ],
   "source": [
    "names"
   ]
  },
  {
   "cell_type": "code",
   "execution_count": 84,
   "id": "e067cdb5",
   "metadata": {},
   "outputs": [],
   "source": [
    "names2 = ['Niyi', 'Seun']"
   ]
  },
  {
   "cell_type": "code",
   "execution_count": 85,
   "id": "4b761cbd",
   "metadata": {},
   "outputs": [],
   "source": [
    "names += names2 # names = names + names2"
   ]
  },
  {
   "cell_type": "code",
   "execution_count": 86,
   "id": "23116ab6",
   "metadata": {},
   "outputs": [
    {
     "data": {
      "text/plain": [
       "['Omolewa', 'Edward', 'James', 'Obi', 'Niyi', 'Seun']"
      ]
     },
     "execution_count": 86,
     "metadata": {},
     "output_type": "execute_result"
    }
   ],
   "source": [
    "names"
   ]
  },
  {
   "cell_type": "code",
   "execution_count": 87,
   "id": "4d3f9483",
   "metadata": {},
   "outputs": [
    {
     "data": {
      "text/plain": [
       "['Omolewa', 'Edward', 'James', 'Obi', 'Niyi', 'Seun']"
      ]
     },
     "execution_count": 87,
     "metadata": {},
     "output_type": "execute_result"
    }
   ],
   "source": [
    "names"
   ]
  },
  {
   "cell_type": "code",
   "execution_count": 88,
   "id": "8d0f45c2",
   "metadata": {},
   "outputs": [],
   "source": [
    "names3 = ['Femi', 'Biola']"
   ]
  },
  {
   "cell_type": "code",
   "execution_count": 89,
   "id": "f2f0ae7c",
   "metadata": {},
   "outputs": [],
   "source": [
    "names.extend(names3)"
   ]
  },
  {
   "cell_type": "code",
   "execution_count": 90,
   "id": "031098e2",
   "metadata": {},
   "outputs": [
    {
     "data": {
      "text/plain": [
       "['Omolewa', 'Edward', 'James', 'Obi', 'Niyi', 'Seun', 'Femi', 'Biola']"
      ]
     },
     "execution_count": 90,
     "metadata": {},
     "output_type": "execute_result"
    }
   ],
   "source": [
    "names"
   ]
  },
  {
   "cell_type": "code",
   "execution_count": 91,
   "id": "3f8f353a",
   "metadata": {},
   "outputs": [],
   "source": [
    "names1 = ['Omolewa', 'Edward', 'James', 'Obi', 'Niyi', 'Seun']\n",
    "names3 = ['Femi', 'Biola']"
   ]
  },
  {
   "cell_type": "code",
   "execution_count": 92,
   "id": "55787136",
   "metadata": {},
   "outputs": [],
   "source": [
    "names1.append(names3)"
   ]
  },
  {
   "cell_type": "code",
   "execution_count": 93,
   "id": "5792e8b5",
   "metadata": {},
   "outputs": [
    {
     "data": {
      "text/plain": [
       "['Omolewa', 'Edward', 'James', 'Obi', 'Niyi', 'Seun', ['Femi', 'Biola']]"
      ]
     },
     "execution_count": 93,
     "metadata": {},
     "output_type": "execute_result"
    }
   ],
   "source": [
    "names1"
   ]
  },
  {
   "cell_type": "code",
   "execution_count": 100,
   "id": "234f10df",
   "metadata": {},
   "outputs": [
    {
     "data": {
      "text/plain": [
       "'Biola'"
      ]
     },
     "execution_count": 100,
     "metadata": {},
     "output_type": "execute_result"
    }
   ],
   "source": [
    "names1[-1][-1]"
   ]
  },
  {
   "cell_type": "code",
   "execution_count": 98,
   "id": "2fe5f23f",
   "metadata": {},
   "outputs": [
    {
     "data": {
      "text/plain": [
       "'FEMI'"
      ]
     },
     "execution_count": 98,
     "metadata": {},
     "output_type": "execute_result"
    }
   ],
   "source": [
    "names1[6][0].upper()"
   ]
  },
  {
   "cell_type": "code",
   "execution_count": 106,
   "id": "df4d23c2",
   "metadata": {},
   "outputs": [],
   "source": [
    "name = 'Omolewa'"
   ]
  },
  {
   "cell_type": "code",
   "execution_count": 107,
   "id": "961da2bb",
   "metadata": {},
   "outputs": [
    {
     "data": {
      "text/plain": [
       "'a'"
      ]
     },
     "execution_count": 107,
     "metadata": {},
     "output_type": "execute_result"
    }
   ],
   "source": [
    "name[-1]"
   ]
  },
  {
   "cell_type": "code",
   "execution_count": 109,
   "id": "e2bc5f19",
   "metadata": {},
   "outputs": [],
   "source": [
    "numbers = [1, 2, 3, 3, 43, 5, 'Omolewa', [1, 2, 3]]"
   ]
  },
  {
   "cell_type": "code",
   "execution_count": null,
   "id": "16dcf12d",
   "metadata": {},
   "outputs": [],
   "source": []
  },
  {
   "cell_type": "code",
   "execution_count": null,
   "id": "e10c6fbe",
   "metadata": {},
   "outputs": [],
   "source": []
  },
  {
   "cell_type": "code",
   "execution_count": 68,
   "id": "17d4835d",
   "metadata": {},
   "outputs": [],
   "source": [
    "x = 2"
   ]
  },
  {
   "cell_type": "code",
   "execution_count": 69,
   "id": "2626af11",
   "metadata": {},
   "outputs": [],
   "source": [
    "x = x + 4"
   ]
  },
  {
   "cell_type": "code",
   "execution_count": 70,
   "id": "6ae746d5",
   "metadata": {},
   "outputs": [
    {
     "data": {
      "text/plain": [
       "6"
      ]
     },
     "execution_count": 70,
     "metadata": {},
     "output_type": "execute_result"
    }
   ],
   "source": [
    "x"
   ]
  },
  {
   "cell_type": "code",
   "execution_count": 71,
   "id": "d06c0bee",
   "metadata": {},
   "outputs": [],
   "source": [
    "x = 10"
   ]
  },
  {
   "cell_type": "code",
   "execution_count": 72,
   "id": "6662bdea",
   "metadata": {},
   "outputs": [],
   "source": [
    "x += 4"
   ]
  },
  {
   "cell_type": "code",
   "execution_count": 73,
   "id": "39204c4d",
   "metadata": {},
   "outputs": [
    {
     "data": {
      "text/plain": [
       "14"
      ]
     },
     "execution_count": 73,
     "metadata": {},
     "output_type": "execute_result"
    }
   ],
   "source": [
    "x"
   ]
  },
  {
   "cell_type": "code",
   "execution_count": 74,
   "id": "e56d3453",
   "metadata": {},
   "outputs": [],
   "source": [
    "x -= 10 # x = x - 10"
   ]
  },
  {
   "cell_type": "code",
   "execution_count": 75,
   "id": "8d7b1f7e",
   "metadata": {},
   "outputs": [
    {
     "data": {
      "text/plain": [
       "4"
      ]
     },
     "execution_count": 75,
     "metadata": {},
     "output_type": "execute_result"
    }
   ],
   "source": [
    "x"
   ]
  },
  {
   "cell_type": "code",
   "execution_count": 76,
   "id": "def86e4a",
   "metadata": {},
   "outputs": [],
   "source": [
    "x /= 2"
   ]
  },
  {
   "cell_type": "code",
   "execution_count": 77,
   "id": "7aeaabb3",
   "metadata": {},
   "outputs": [
    {
     "data": {
      "text/plain": [
       "2.0"
      ]
     },
     "execution_count": 77,
     "metadata": {},
     "output_type": "execute_result"
    }
   ],
   "source": [
    "x"
   ]
  },
  {
   "cell_type": "code",


   "execution_count": 1,
   "id": "abf0e8e3",
   "metadata": {},
   "outputs": [],
   "source": [
    "x = 30"
   ]
  },
  {
   "cell_type": "code",
   "execution_count": 2,
   "id": "300a8645",
   "metadata": {},
   "outputs": [],
   "source": [
    "x += 30 : #x = x + 30"
   ]
  },
  {
   "cell_type": "code",
   "execution_count": 3,
   "id": "1969333e",
   "metadata": {},
   "outputs": [],
   "source": [
    "x += 1"
   ]
  },
  {
   "cell_type": "code",
   "execution_count": 4,
   "id": "cd6bdd86",
   "metadata": {},
   "outputs": [],
   "source": [
    "name = 'Salma'"
   ]
  },
  {
   "cell_type": "code",
   "execution_count": 5,
   "id": "1b7fe890",
   "metadata": {},
   "outputs": [
    {
     "data": {
      "text/plain": [
       "'Salma'"
      ]
     },
     "execution_count": 5,
     "metadata": {},
     "output_type": "execute_result"
    }
   ],
   "source": [
    "'Salma'"
   ]
  },
  {
   "cell_type": "code",
   "execution_count": 6,
   "id": "6bf6e946",
   "metadata": {},
   "outputs": [
    {
     "data": {
      "text/plain": [
       "81"
      ]
     },
     "execution_count": 6,
     "metadata": {},
     "output_type": "execute_result"
    }
   ],
   "source": [
    "x += 20\n",
    "x"
   ]
  },
  {
   "cell_type": "code",
   "execution_count": 7,
   "id": "0afef3db",
   "metadata": {},
   "outputs": [
    {
     "data": {
      "text/plain": [
       "141"
      ]
     },
     "execution_count": 7,
     "metadata": {},
     "output_type": "execute_result"
    }
   ],
   "source": [
    "x + 60"
   ]
  },
  {
   "cell_type": "code",
   "execution_count": 8,
   "id": "8710a45b",
   "metadata": {},
   "outputs": [],
   "source": [
    "x = x + 100"
   ]
  },
  {
   "cell_type": "code",
   "execution_count": 9,
   "id": "c1be8e44",
   "metadata": {},
   "outputs": [
    {
     "name": "stdout",
     "output_type": "stream",
     "text": [
      "181\n"
     ]
    }
   ],
   "source": [
    "print(x)"
   ]
  },
  {
   "cell_type": "markdown",
   "id": "753537eb",
   "metadata": {},
   "source": [
    "### set"
   ]
  },
  {
   "cell_type": "code",
   "execution_count": 11,
   "id": "dfb5d05e",
   "metadata": {},
   "outputs": [
    {
     "data": {
      "text/plain": [
       "{2, 4, 5, 7}"
      ]
     },
     "execution_count": 11,
     "metadata": {},
     "output_type": "execute_result"
    }
   ],
   "source": [
    "{2, 2, 4, 5, 7, 7}"
   ]
  },
  {
   "cell_type": "code",
   "execution_count": 12,
   "id": "e2127d97",
   "metadata": {},
   "outputs": [],
   "source": [
    "set1 = {2, 2, 4, 5, 7, 7}"
   ]
  },
  {
   "cell_type": "code",
   "execution_count": 14,
   "id": "fa6119e4",
   "metadata": {},
   "outputs": [
    {
     "data": {
      "text/plain": [
       "set"
      ]
     },
     "execution_count": 14,
     "metadata": {},
     "output_type": "execute_result"
    }
   ],
   "source": [
    "type(set1)"
   ]
  },
  {
   "cell_type": "markdown",
   "id": "1114d978",
   "metadata": {},
   "source": [
    "## Tuple"
   ]
  },
  {
   "cell_type": "code",
   "execution_count": 17,
   "id": "e997bd8e",
   "metadata": {},
   "outputs": [],
   "source": [
    "name = ('Omolewa', 'Salma')"
   ]
  },
  {
   "cell_type": "code",
   "execution_count": 18,
   "id": "95b4e751",
   "metadata": {},
   "outputs": [
    {
     "data": {
      "text/plain": [
       "tuple"
      ]
     },
     "execution_count": 18,
     "metadata": {},
     "output_type": "execute_result"
    }
   ],
   "source": [
    "type(name)"
   ]
  },
  {
   "cell_type": "code",
   "execution_count": 22,
   "id": "319dc87b",
   "metadata": {},
   "outputs": [],
   "source": [
    "name2 = ('Omolewa',)"
   ]
  },
  {
   "cell_type": "code",
   "execution_count": 23,
   "id": "eafeb4be",
   "metadata": {},
   "outputs": [
    {
     "data": {
      "text/plain": [
       "tuple"
      ]
     },
     "execution_count": 23,
     "metadata": {},
     "output_type": "execute_result"
    }
   ],
   "source": [
    "type(name2)"
   ]
  },
  {
   "cell_type": "code",
   "execution_count": 24,
   "id": "8bb53b85",
   "metadata": {},
   "outputs": [],
   "source": [
    "## Unpack"
   ]
  },
  {
   "cell_type": "code",
   "execution_count": 25,
   "id": "897ddae8",
   "metadata": {},
   "outputs": [],
   "source": [
    "name1, name2 = ['Omolewa', 'Abiola']"
   ]
  },
  {
   "cell_type": "code",
   "execution_count": 26,
   "id": "41298025",
   "metadata": {},
   "outputs": [
    {
     "data": {
      "text/plain": [
       "'Omolewa'"
      ]
     },
     "execution_count": 26,
     "metadata": {},
     "output_type": "execute_result"
    }
   ],
   "source": [
    "name1"
   ]
  },
  {
   "cell_type": "code",
   "execution_count": 27,
   "id": "560ce01a",
   "metadata": {},
   "outputs": [
    {
     "data": {
      "text/plain": [
       "'Abiola'"
      ]
     },
     "execution_count": 27,
     "metadata": {},
     "output_type": "execute_result"
    }
   ],
   "source": [
    "name2"
   ]
  },
  {
   "cell_type": "code",
   "execution_count": 28,
   "id": "ec23949e",
   "metadata": {},
   "outputs": [],
   "source": [
    "name1, name2 = ('Omolewa', 'Abiola')"
   ]
  },
  {
   "cell_type": "code",
   "execution_count": 29,
   "id": "787c1261",
   "metadata": {},
   "outputs": [
    {
     "data": {
      "text/plain": [
       "'Omolewa'"
      ]
     },
     "execution_count": 29,
     "metadata": {},
     "output_type": "execute_result"
    }
   ],
   "source": [
    "name1"
   ]
  },
  {
   "cell_type": "markdown",
   "id": "ffb6dc37",
   "metadata": {},
   "source": [
    "## Dictionary"
   ]
  },
  {
   "cell_type": "code",
   "execution_count": 37,
   "id": "aec8f2cb",
   "metadata": {},
   "outputs": [],
   "source": [
    "cont_capital = {'Nigeria': 'Abuja', 'USA': 'DC'}"
   ]
  },
  {
   "cell_type": "code",
   "execution_count": 31,
   "id": "69a0a92a",
   "metadata": {},
   "outputs": [
    {
     "data": {
      "text/plain": [
       "{'Nigeria': 'Abuja', 'USA': 'DC'}"
      ]
     },
     "execution_count": 31,
     "metadata": {},
     "output_type": "execute_result"
    }
   ],
   "source": [
    "cont_capital"
   ]
  },
  {
   "cell_type": "code",
   "execution_count": 32,
   "id": "8e2e7134",
   "metadata": {},
   "outputs": [
    {
     "data": {
      "text/plain": [
       "dict_keys(['Nigeria', 'USA'])"
      ]
     },
     "execution_count": 32,
     "metadata": {},
     "output_type": "execute_result"
    }
   ],
   "source": [
    "cont_capital.keys()"
   ]
  },
  {
   "cell_type": "code",
   "execution_count": 33,
   "id": "e5cea1ee",
   "metadata": {},
   "outputs": [
    {
     "data": {
      "text/plain": [
       "dict_values(['Abuja', 'DC'])"
      ]
     },
     "execution_count": 33,
     "metadata": {},
     "output_type": "execute_result"
    }
   ],
   "source": [
    "cont_capital.values()"
   ]
  },
  {
   "cell_type": "code",
   "execution_count": 38,
   "id": "b8a1026c",
   "metadata": {},
   "outputs": [],
   "source": [
    "## Casting"
   ]
  },
  {
   "cell_type": "code",
   "execution_count": 39,
   "id": "0d3bad59",
   "metadata": {},
   "outputs": [],
   "source": [
    "x = '10'"
   ]
  },
  {
   "cell_type": "code",
   "execution_count": 40,
   "id": "e8970981",
   "metadata": {},
   "outputs": [],
   "source": [
    "y = int(x)"
   ]
  },
  {
   "cell_type": "code",
   "execution_count": 42,
   "id": "99481f42",
   "metadata": {},
   "outputs": [
    {
     "data": {
      "text/plain": [
       "int"
      ]
     },
     "execution_count": 42,
     "metadata": {},
     "output_type": "execute_result"
    }
   ],
   "source": [
    "type(y)"
   ]
  },
  {
   "cell_type": "code",
   "execution_count": 43,
   "id": "7492bb4c",
   "metadata": {},
   "outputs": [
    {
     "data": {
      "text/plain": [
       "str"
      ]
     },
     "execution_count": 43,
     "metadata": {},
     "output_type": "execute_result"
    }
   ],
   "source": [
    "type(x)"
   ]
  },
  {
   "cell_type": "code",
   "execution_count": 44,
   "id": "91d83034",
   "metadata": {},
   "outputs": [],
   "source": [
    "x= 'Omolewa'"
   ]
  },
  {
   "cell_type": "code",
   "execution_count": 45,
   "id": "49a0bbb9",
   "metadata": {},
   "outputs": [
    {
     "ename": "ValueError",
     "evalue": "invalid literal for int() with base 10: 'Omolewa'",
     "output_type": "error",
     "traceback": [
      "\u001b[1;31m---------------------------------------------------------------------------\u001b[0m",
      "\u001b[1;31mValueError\u001b[0m                                Traceback (most recent call last)",
      "\u001b[1;32mC:\\Users\\OMOLEW~1\\AppData\\Local\\Temp/ipykernel_20804/173064326.py\u001b[0m in \u001b[0;36m<module>\u001b[1;34m\u001b[0m\n\u001b[1;32m----> 1\u001b[1;33m \u001b[0mint\u001b[0m\u001b[1;33m(\u001b[0m\u001b[0mx\u001b[0m\u001b[1;33m)\u001b[0m\u001b[1;33m\u001b[0m\u001b[1;33m\u001b[0m\u001b[0m\n\u001b[0m",
      "\u001b[1;31mValueError\u001b[0m: invalid literal for int() with base 10: 'Omolewa'"
     ]
    }
   ],
   "source": [
    "int(x)"
   ]
  },
  {
   "cell_type": "code",
   "execution_count": 48,
   "id": "4edcc1ab",
   "metadata": {},
   "outputs": [],
   "source": [
    "x = '123456'"
   ]
  },
  {
   "cell_type": "code",
   "execution_count": 49,
   "id": "7234c44c",
   "metadata": {},
   "outputs": [
    {
     "data": {
      "text/plain": [
       "['1', '2', '3', '4', '5', '6']"
      ]
     },
     "execution_count": 49,
     "metadata": {},
     "output_type": "execute_result"
    }
   ],
   "source": [
    "list(x)"
   ]
  },
  {
   "cell_type": "code",
   "execution_count": 50,
   "id": "95003cd7",
   "metadata": {},
   "outputs": [
    {
     "data": {
      "text/plain": [
       "dict_keys(['Nigeria', 'USA'])"
      ]
     },
     "execution_count": 50,
     "metadata": {},
     "output_type": "execute_result"
    }
   ],
   "source": [
    "cont_capital.keys()"
   ]
  },
  {
   "cell_type": "code",
   "execution_count": 51,
   "id": "7406a578",
   "metadata": {},
   "outputs": [
    {
     "data": {
      "text/plain": [
       "['Nigeria', 'USA']"
      ]
     },
     "execution_count": 51,
     "metadata": {},
     "output_type": "execute_result"
    }
   ],
   "source": [
    "list(cont_capital.keys())"
   ]
  },
  {
   "cell_type": "code",
   "execution_count": 52,
   "id": "d8f699cf",
   "metadata": {},
   "outputs": [
    {
     "data": {
      "text/plain": [
       "dict_keys"
      ]
     },
     "execution_count": 52,
     "metadata": {},
     "output_type": "execute_result"
    }
   ],
   "source": [
    "type(cont_capital.keys())"
   ]
  },
  {
   "cell_type": "code",
   "execution_count": 53,
   "id": "93bda10d",
   "metadata": {},
   "outputs": [
    {
     "data": {
      "text/plain": [
       "{'Nigeria': 'Abuja', 'USA': 'DC'}"
      ]
     },
     "execution_count": 53,
     "metadata": {},
     "output_type": "execute_result"
    }
   ],
   "source": [
    "cont_capital"
   ]
  },
  {
   "cell_type": "code",
   "execution_count": 54,
   "id": "f315b1cc",
   "metadata": {},
   "outputs": [],
   "source": [
    "cont_capital['Cameroun'] = 'Yaounde'"
   ]
  },
  {
   "cell_type": "code",
   "execution_count": 55,
   "id": "2fddc1a8",
   "metadata": {},
   "outputs": [
    {
     "data": {
      "text/plain": [
       "{'Nigeria': 'Abuja', 'USA': 'DC', 'Cameroun': 'Yaounde'}"
      ]
     },
     "execution_count": 55,
     "metadata": {},
     "output_type": "execute_result"
    }
   ],
   "source": [
    "cont_capital"
   ]
  },
  {
   "cell_type": "code",
   "execution_count": 58,
   "id": "cf992214",
   "metadata": {},
   "outputs": [
    {
     "data": {
      "text/plain": [
       "'Abuja'"
      ]
     },
     "execution_count": 58,
     "metadata": {},
     "output_type": "execute_result"
    }
   ],
   "source": [
    "cont_capital['Nigeria']"
   ]
  },
  {
   "cell_type": "code",
   "execution_count": null,
   "id": "a3de6dc9",
   "metadata": {},
   "outputs": [],
   "source": [
    "{'Nigeria': ['Abuja', 'Lagos'], 'USA': ['DC', 'Atlanta'], 'Cameroun': ['Yaounde']}"
   ]
  },
  {
   "cell_type": "code",
   "execution_count": 59,
   "id": "deef7719",
   "metadata": {},
   "outputs": [
    {
     "data": {
      "text/plain": [
       "{'Nigeria': 'Abuja', 'USA': 'DC', 'Cameroun': 'Yaounde'}"
      ]
     },
     "execution_count": 59,
     "metadata": {},
     "output_type": "execute_result"
    }
   ],
   "source": [
    "cont_capital"
   ]
  },
  {
   "cell_type": "code",
   "execution_count": null,
   "id": "3846a17f",
   "metadata": {},
   "outputs": [],
   "source": [
    "cont_capital['Cameroun'] = 'Yaounde'"
   ]
  },
  {
   "cell_type": "code",
   "execution_count": 60,
   "id": "eb857c1e",
   "metadata": {},
   "outputs": [],
   "source": [
    "cont_capital['Nigeria'] = 'Lagos'"
   ]
  },
  {
   "cell_type": "code",
   "execution_count": 61,
   "id": "898fe66c",
   "metadata": {},
   "outputs": [
    {
     "data": {
      "text/plain": [
       "{'Nigeria': 'Lagos', 'USA': 'DC', 'Cameroun': 'Yaounde'}"
      ]
     },
     "execution_count": 61,
     "metadata": {},
     "output_type": "execute_result"
    }
   ],
   "source": [
    "cont_capital"
   ]
  },
  {
   "cell_type": "code",
   "execution_count": 62,
   "id": "a8090daf",
   "metadata": {},
   "outputs": [
    {
     "data": {
      "text/plain": [
       "'Lagos'"
      ]
     },
     "execution_count": 62,
     "metadata": {},
     "output_type": "execute_result"
    }
   ],
   "source": [
    "cont_capital['Nigeria']"
   ]
  },
  {
   "cell_type": "code",
   "execution_count": 63,
   "id": "6d70a55e",
   "metadata": {},
   "outputs": [
    {
     "data": {
      "text/plain": [
       "'Lagos'"
      ]
     },
     "execution_count": 63,
     "metadata": {},
     "output_type": "execute_result"
    }
   ],
   "source": [
    "cont_capital.get('Nigeria')"
   ]
  },
  {
   "cell_type": "code",
   "execution_count": 64,
   "id": "8f833919",
   "metadata": {},
   "outputs": [
    {
     "ename": "KeyError",
     "evalue": "'UK'",
     "output_type": "error",
     "traceback": [
      "\u001b[1;31m---------------------------------------------------------------------------\u001b[0m",
      "\u001b[1;31mKeyError\u001b[0m                                  Traceback (most recent call last)",
      "\u001b[1;32mC:\\Users\\OMOLEW~1\\AppData\\Local\\Temp/ipykernel_20804/89565556.py\u001b[0m in \u001b[0;36m<module>\u001b[1;34m\u001b[0m\n\u001b[1;32m----> 1\u001b[1;33m \u001b[0mcont_capital\u001b[0m\u001b[1;33m[\u001b[0m\u001b[1;34m'UK'\u001b[0m\u001b[1;33m]\u001b[0m\u001b[1;33m\u001b[0m\u001b[1;33m\u001b[0m\u001b[0m\n\u001b[0m",
      "\u001b[1;31mKeyError\u001b[0m: 'UK'"
     ]
    }
   ],
   "source": [
    "cont_capital['UK']"
   ]
  },
  {
   "cell_type": "code",
   "execution_count": 66,
   "id": "8a9fa42f",
   "metadata": {},
   "outputs": [
    {
     "data": {
      "text/plain": [
       "'Value Not Found'"
      ]
     },
     "execution_count": 66,
     "metadata": {},
     "output_type": "execute_result"
    }
   ],
   "source": [
    "cont_capital.get('UK', 'Value Not Found')"
   ]
  },
  {
   "cell_type": "code",
   "execution_count": 67,
   "id": "211ca443",
   "metadata": {},
   "outputs": [
    {
     "data": {
      "text/plain": [
       "dict_items([('Nigeria', 'Lagos'), ('USA', 'DC'), ('Cameroun', 'Yaounde')])"
      ]
     },
     "execution_count": 67,
     "metadata": {},
     "output_type": "execute_result"
    }
   ],
   "source": [
    "cont_capital.items()"
   ]
  },
  {
   "cell_type": "code",
   "execution_count": 71,
   "id": "e2d1028d",
   "metadata": {},
   "outputs": [
    {
     "data": {
      "text/plain": [
       "tuple"
      ]
     },
     "execution_count": 71,
     "metadata": {},
     "output_type": "execute_result"
    }
   ],
   "source": [
    "type(list(cont_capital.items())[1])"
   ]
  },
  {
   "cell_type": "code",
   "execution_count": 75,
   "id": "0cadeadf",
   "metadata": {},
   "outputs": [],
   "source": [
    "cont, capital = list(cont_capital.items())[2]"
   ]
  },
  {
   "cell_type": "code",
   "execution_count": 76,
   "id": "1dce86bb",
   "metadata": {},
   "outputs": [
    {
     "data": {
      "text/plain": [
       "'Cameroun'"
      ]
     },
     "execution_count": 76,
     "metadata": {},
     "output_type": "execute_result"
    }
   ],
   "source": [
    "cont"
   ]
  },
  {
   "cell_type": "code",
   "execution_count": 77,
   "id": "506c4a69",
   "metadata": {},
   "outputs": [
    {
     "data": {
      "text/plain": [
       "'Yaounde'"
      ]
     },
     "execution_count": 77,
     "metadata": {},
     "output_type": "execute_result"
    }
   ],
   "source": [
    "capital"
   ]
  },
  {
   "cell_type": "code",
   "execution_count": 78,
   "id": "17530a6b",
   "metadata": {},
   "outputs": [
    {
     "data": {
      "text/plain": [
       "{'USA': {'GA': 'Atlanta', 'FL': 'Miami'},\n",
       " 'Nigeria': {'Lagos': 'Ikeja', 'Osun': 'Oshogbo'}}"
      ]
     },
     "execution_count": 78,
     "metadata": {},
     "output_type": "execute_result"
    }
   ],
   "source": [
    "{'USA': {'GA': 'Atlanta', 'FL': 'Miami'}, 'Nigeria': {'Lagos': 'Ikeja', 'Osun': 'Oshogbo'}}"
   ]
  },
  {
   "cell_type": "code",
   "execution_count": 79,
   "id": "2acc866a",
   "metadata": {},
   "outputs": [],
   "source": [
    "name = {'USA': {'GA': 'Atlanta', 'FL': 'Miami'}, 'Nigeria': {'Lagos': 'Ikeja', 'Osun': 'Oshogbo'}}"
   ]
  },
  {
   "cell_type": "code",
   "execution_count": 80,
   "id": "829c735b",
   "metadata": {},
   "outputs": [
    {
     "data": {
      "text/plain": [
       "dict_keys(['USA', 'Nigeria'])"
      ]
     },
     "execution_count": 80,
     "metadata": {},
     "output_type": "execute_result"
    }
   ],
   "source": [
    "name.keys()"
   ]
  },
  {
   "cell_type": "code",
   "execution_count": 81,
   "id": "3729240a",
   "metadata": {},
   "outputs": [
    {
     "data": {
      "text/plain": [
       "dict_values([{'GA': 'Atlanta', 'FL': 'Miami'}, {'Lagos': 'Ikeja', 'Osun': 'Oshogbo'}])"
      ]
     },
     "execution_count": 81,
     "metadata": {},
     "output_type": "execute_result"
    }
   ],
   "source": [
    "name.values()"
   ]
  },
  {
   "cell_type": "code",
   "execution_count": 82,
   "id": "7696b72d",
   "metadata": {},
   "outputs": [
    {
     "data": {
      "text/plain": [
       "{'USA': {'GA': 'Atlanta', 'FL': 'Miami'},\n",
       " 'Nigeria': {'Lagos': 'Ikeja', 'Osun': 'Oshogbo'}}"
      ]
     },
     "execution_count": 82,
     "metadata": {},
     "output_type": "execute_result"
    }
   ],
   "source": [
    "name"
   ]
  },
  {
   "cell_type": "code",
   "execution_count": 84,
   "id": "2a69984d",
   "metadata": {},
   "outputs": [
    {
     "data": {
      "text/plain": [
       "'Oshogbo'"
      ]
     },
     "execution_count": 84,
     "metadata": {},
     "output_type": "execute_result"
    }
   ],
   "source": [
    "name['Nigeria']['Osun']"
   ]
  },
  {
   "cell_type": "code",
   "execution_count": 93,
   "id": "d3141f1a",
   "metadata": {},
   "outputs": [
    {
     "data": {
      "text/plain": [
       "'My Age is 90'"
      ]
     },
     "execution_count": 93,
     "metadata": {},
     "output_type": "execute_result"
    }
   ],
   "source": [
    "#f-string\n",
    "age = 90\n",
    "#'My Age is 90'\n",
    "f'Omolewa Age is 90'"
   ]
  },
  {
   "cell_type": "code",
   "execution_count": 95,
   "id": "39a4cbf4",
   "metadata": {},
   "outputs": [
    {
     "name": "stdout",
     "output_type": "stream",
     "text": [
      "My Age is 23 and I want to multiply my age by 10: 230\n",
      "My Age is 45 and I want to multiply my age by 10: 450\n",
      "My Age is 20 and I want to multiply my age by 10: 200\n",
      "My Age is 100 and I want to multiply my age by 10: 1000\n"
     ]
    }
   ],
   "source": [
    "ageage = [23, 45, 20, 100]\n",
    "for a in ageage:\n",
    "    print(f'My Age is {a} and I want to multiply my age by 10: {10 * a}')"
   ]
  },
  {
   "cell_type": "code",
   "execution_count": null,
   "id": "475fcfb3",
   "metadata": {},
   "outputs": [],
   "source": [
    "{'2 * 10': 20, '2 * 20': 40}"
   ]
  },
  {
   "cell_type": "code",
   "execution_count": 89,
   "id": "d3f298b0",
   "metadata": {},
   "outputs": [],
   "source": [
    "num1 = [2, 3, 4]\n",
    "num2 = [10, 20, 30]"
   ]
  },
  {
   "cell_type": "code",
   "execution_count": 109,
   "id": "fd16400c",
   "metadata": {},
   "outputs": [],
   "source": [
    "output = {}\n",
    "for x in num1:\n",
    "    for y in num2:\n",
    "        output[(str(x), str(y))] = x * y"
   ]
  },
  {
   "cell_type": "code",
   "execution_count": 110,
   "id": "d6c1f8bb",
   "metadata": {},
   "outputs": [
    {
     "data": {
      "text/plain": [
       "{('2', '10'): 20,\n",
       " ('2', '20'): 40,\n",
       " ('2', '30'): 60,\n",
       " ('3', '10'): 30,\n",
       " ('3', '20'): 60,\n",
       " ('3', '30'): 90,\n",
       " ('4', '10'): 40,\n",
       " ('4', '20'): 80,\n",
       " ('4', '30'): 120}"
      ]
     },
     "execution_count": 110,
     "metadata": {},
     "output_type": "execute_result"
    }
   ],
   "source": [
    "output"
   ]
  },
  {
   "cell_type": "code",
   "execution_count": 99,
   "id": "77c947eb",
   "metadata": {},
   "outputs": [
    {
     "data": {
      "text/plain": [
       "{11: 50, 10: 50}"
      ]
     },
     "execution_count": 99,
     "metadata": {},
     "output_type": "execute_result"
    }
   ],
   "source": [
    "{11: 50, 10: 50}"
   ]
  },
  {
   "cell_type": "code",
   "execution_count": 111,
   "id": "07b20915",
   "metadata": {},
   "outputs": [],
   "source": [
    "# list comrehension, dictionary comrehension, generator"
   ]
  },
  {
   "cell_type": "code",
   "execution_count": 112,
   "id": "fbba1b2b",
   "metadata": {},
   "outputs": [],
   "source": [
    "#[2, 4, 6, 8, 10] : [20, 40, 60, 80, 100]"
   ]
  },
  {
   "cell_type": "code",
   "execution_count": 117,
   "id": "137a40c3",
   "metadata": {},
   "outputs": [],
   "source": [
    "nums = [2, 4, 6, 8, 10]"
   ]
  },
  {
   "cell_type": "code",
   "execution_count": 120,
   "id": "e385457e",
   "metadata": {},
   "outputs": [
    {
     "data": {
      "text/plain": [
       "[20, 40, 60, 80, 100]"
      ]
     },
     "execution_count": 120,
     "metadata": {},
     "output_type": "execute_result"
    }
   ],
   "source": [
    "[x * 10 for x in nums]"
   ]
  },
  {
   "cell_type": "code",
   "execution_count": 118,
   "id": "467c5af7",
   "metadata": {},
   "outputs": [],
   "source": [
    "output = []\n",
    "for x in nums:\n",
    "    output.append(x * 10)"
   ]
  },
  {
   "cell_type": "code",
   "execution_count": 119,
   "id": "a3279fe9",
   "metadata": {},
   "outputs": [
    {
     "data": {
      "text/plain": [
       "[20, 40, 60, 80, 100]"
      ]
     },
     "execution_count": 119,
     "metadata": {},
     "output_type": "execute_result"
    }
   ],
   "source": [
    "output"
   ]
  },
  {
   "cell_type": "code",
   "execution_count": null,
   "id": "7a9472f9",
   "metadata": {},
   "outputs": [],
   "source": [
    "#[2, 4, 6, 8, 10] : {2: 20, 4: 40, 6: 60, 8: 80, 10: 100}"
   ]
  },
  {
   "cell_type": "code",
   "execution_count": 121,
   "id": "14767e12",
   "metadata": {},
   "outputs": [],
   "source": [
    "output = {}\n",
    "for x in nums:\n",
    "    output[x] = x * 10"
   ]
  },
  {
   "cell_type": "code",
   "execution_count": 122,
   "id": "f074f066",
   "metadata": {},
   "outputs": [
    {
     "data": {
      "text/plain": [
       "{2: 20, 4: 40, 6: 60, 8: 80, 10: 100}"
      ]
     },
     "execution_count": 122,
     "metadata": {},
     "output_type": "execute_result"
    }
   ],
   "source": [
    "output"
   ]
  },
  {
   "cell_type": "code",
   "execution_count": 123,
   "id": "0a9eb6dd",
   "metadata": {},
   "outputs": [
    {
     "data": {
      "text/plain": [
       "{2: 20, 4: 40, 6: 60, 8: 80, 10: 100}"
      ]
     },
     "execution_count": 123,
     "metadata": {},
     "output_type": "execute_result"
    }
   ],
   "source": [
    "{x: x * 10 for x in nums}"
   ]
  },
  {
   "cell_type": "code",
   "execution_count": 124,
   "id": "0762131b",
   "metadata": {},
   "outputs": [],
   "source": [
    "names = ['Omolewa', 'Edward', 'Felix']\n",
    "cash = [10, 20, 30]"
   ]
  },
  {
   "cell_type": "code",
   "execution_count": 125,
   "id": "bb8e712d",
   "metadata": {},
   "outputs": [
    {
     "data": {
      "text/plain": [
       "{'Omolewa': 10, 'Edward': 20, 'Felix': 30}"
      ]
     },
     "execution_count": 125,
     "metadata": {},
     "output_type": "execute_result"
    }
   ],
   "source": [
    "dict(zip(names, cash))"
   ]
  },
  {
   "cell_type": "code",
   "execution_count": 126,
   "id": "71006d43",
   "metadata": {},
   "outputs": [],
   "source": [
    "num1 = [2, 3, 4]\n",
    "num2 = [10, 20, 30]"
   ]
  },
  {
   "cell_type": "code",
   "execution_count": 129,
   "id": "c35f96a0",
   "metadata": {},
   "outputs": [
    {
     "data": {
      "text/plain": [
       "<zip at 0x22c74b7a800>"
      ]
     },
     "execution_count": 129,
     "metadata": {},
     "output_type": "execute_result"
    }
   ],
   "source": [
    "zip(num1, num2)"
   ]
  },
  {
   "cell_type": "code",
   "execution_count": null,
   "id": "d8dcd75d",


