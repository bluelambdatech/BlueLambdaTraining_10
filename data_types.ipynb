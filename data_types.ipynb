{
 "cells": [
  {
   "cell_type": "markdown",
   "id": "d1a98c3d",
   "metadata": {},
   "source": [
    "## String"
   ]
  },
  {
   "cell_type": "code",
   "execution_count": 2,
   "id": "34e98f20",
   "metadata": {},
   "outputs": [],
   "source": [
    "name1 = 'Omolewa'\n",
    "name2 = 'Edward'"
   ]
  },
  {
   "cell_type": "code",
   "execution_count": 3,
   "id": "2181c75f",
   "metadata": {},
   "outputs": [
    {
     "data": {
      "text/plain": [
       "'Omolewa'"
      ]
     },
     "execution_count": 3,
     "metadata": {},
     "output_type": "execute_result"
    }
   ],
   "source": [
    "name1"
   ]
  },
  {
   "cell_type": "code",
   "execution_count": 4,
   "id": "348cc598",
   "metadata": {},
   "outputs": [
    {
     "data": {
      "text/plain": [
       "'OmolewaAdaramola'"
      ]
     },
     "execution_count": 4,
     "metadata": {},
     "output_type": "execute_result"
    }
   ],
   "source": [
    "'Omolewa' + \"Adaramola\""
   ]
  },
  {
   "cell_type": "code",
   "execution_count": 5,
   "id": "7ba31681",
   "metadata": {},
   "outputs": [
    {
     "data": {
      "text/plain": [
       "5"
      ]
     },
     "execution_count": 5,
     "metadata": {},
     "output_type": "execute_result"
    }
   ],
   "source": [
    "2 + 3"
   ]
  },
  {
   "cell_type": "code",
   "execution_count": 7,
   "id": "854cbe5c",
   "metadata": {},
   "outputs": [
    {
     "data": {
      "text/plain": [
       "'23'"
      ]
     },
     "execution_count": 7,
     "metadata": {},
     "output_type": "execute_result"
    }
   ],
   "source": [
    "'2' + '3'"
   ]
  },
  {
   "cell_type": "code",
   "execution_count": 8,
   "id": "90215add",
   "metadata": {},
   "outputs": [
    {
     "data": {
      "text/plain": [
       "'OmolewaEdward'"
      ]
     },
     "execution_count": 8,
     "metadata": {},
     "output_type": "execute_result"
    }
   ],
   "source": [
    "name1 + name2"
   ]
  },
  {
   "cell_type": "code",
   "execution_count": 9,
   "id": "3bfa39be",
   "metadata": {},
   "outputs": [],
   "source": [
    "fullname = name1 + name2"
   ]
  },
  {
   "cell_type": "code",
   "execution_count": 10,
   "id": "0501bf5d",
   "metadata": {},
   "outputs": [
    {
     "data": {
      "text/plain": [
       "'OmolewaEdward'"
      ]
     },
     "execution_count": 10,
     "metadata": {},
     "output_type": "execute_result"
    }
   ],
   "source": [
    "fullname"
   ]
  },
  {
   "cell_type": "code",
   "execution_count": null,
   "id": "ba90465f",
   "metadata": {},
   "outputs": [],
   "source": [
    "= and =="
   ]
  },
  {
   "cell_type": "code",
   "execution_count": 11,
   "id": "e4ba6dc7",
   "metadata": {},
   "outputs": [
    {
     "data": {
      "text/plain": [
       "False"
      ]
     },
     "execution_count": 11,
     "metadata": {},
     "output_type": "execute_result"
    }
   ],
   "source": [
    "2 == 3"
   ]
  },
  {
   "cell_type": "code",
   "execution_count": 12,
   "id": "237cc476",
   "metadata": {},
   "outputs": [
    {
     "data": {
      "text/plain": [
       "False"
      ]
     },
     "execution_count": 12,
     "metadata": {},
     "output_type": "execute_result"
    }
   ],
   "source": [
    "name1 == name2"
   ]
  },
  {
   "cell_type": "code",
   "execution_count": 16,
   "id": "6d9bce8b",
   "metadata": {},
   "outputs": [],
   "source": [
    "name1 = 'Omolewa'\n",
    "name2 = 'Bukola'"
   ]
  },
  {
   "cell_type": "code",
   "execution_count": 14,
   "id": "395bd81e",
   "metadata": {},
   "outputs": [
    {
     "data": {
      "text/plain": [
       "False"
      ]
     },
     "execution_count": 14,
     "metadata": {},
     "output_type": "execute_result"
    }
   ],
   "source": [
    "name1 == name2"
   ]
  },
  {
   "cell_type": "code",
   "execution_count": 15,
   "id": "dd4f9aac",
   "metadata": {},
   "outputs": [
    {
     "data": {
      "text/plain": [
       "7"
      ]
     },
     "execution_count": 15,
     "metadata": {},
     "output_type": "execute_result"
    }
   ],
   "source": [
    "len(name1)"
   ]
  },
  {
   "cell_type": "code",
   "execution_count": 17,
   "id": "58032ee6",
   "metadata": {},
   "outputs": [
    {
     "data": {
      "text/plain": [
       "False"
      ]
     },
     "execution_count": 17,
     "metadata": {},
     "output_type": "execute_result"
    }
   ],
   "source": [
    "len(name1) == len(name2)"
   ]
  },
  {
   "cell_type": "code",
   "execution_count": 18,
   "id": "de5ab9ce",
   "metadata": {},
   "outputs": [
    {
     "data": {
      "text/plain": [
       "'OMOLEWA'"
      ]
     },
     "execution_count": 18,
     "metadata": {},
     "output_type": "execute_result"
    }
   ],
   "source": [
    "name1.upper()"
   ]
  },
  {
   "cell_type": "code",
   "execution_count": 19,
   "id": "e14f6b56",
   "metadata": {},
   "outputs": [
    {
     "data": {
      "text/plain": [
       "False"
      ]
     },
     "execution_count": 19,
     "metadata": {},
     "output_type": "execute_result"
    }
   ],
   "source": [
    "name1.isupper()"
   ]
  },
  {
   "cell_type": "code",
   "execution_count": 22,
   "id": "09be05ec",
   "metadata": {},
   "outputs": [
    {
     "data": {
      "text/plain": [
       "True"
      ]
     },
     "execution_count": 22,
     "metadata": {},
     "output_type": "execute_result"
    }
   ],
   "source": [
    "name1.count(\"O\") == name2.count(\"o\")"
   ]
  },
  {
   "cell_type": "code",
   "execution_count": 23,
   "id": "75ecf0a6",
   "metadata": {},
   "outputs": [
    {
     "data": {
      "text/plain": [
       "1"
      ]
     },
     "execution_count": 23,
     "metadata": {},
     "output_type": "execute_result"
    }
   ],
   "source": [
    "name2.count(\"o\")"
   ]
  },
  {
   "cell_type": "code",
   "execution_count": 24,
   "id": "fbe543e7",
   "metadata": {},
   "outputs": [
    {
     "data": {
      "text/plain": [
       "1"
      ]
     },
     "execution_count": 24,
     "metadata": {},
     "output_type": "execute_result"
    }
   ],
   "source": [
    "name1.count(\"O\")"
   ]
  },
  {
   "cell_type": "code",
   "execution_count": 25,
   "id": "b87c3e93",
   "metadata": {},
   "outputs": [
    {
     "data": {
      "text/plain": [
       "True"
      ]
     },
     "execution_count": 25,
     "metadata": {},
     "output_type": "execute_result"
    }
   ],
   "source": [
    "1 == 1"
   ]
  },
  {
   "cell_type": "code",
   "execution_count": 26,
   "id": "6e703449",
   "metadata": {},
   "outputs": [
    {
     "data": {
      "text/plain": [
       "str"
      ]
     },
     "execution_count": 26,
     "metadata": {},
     "output_type": "execute_result"
    }
   ],
   "source": [
    "type(name1)"
   ]
  },
  {
   "cell_type": "code",
   "execution_count": 27,
   "id": "08ce2df7",
   "metadata": {},
   "outputs": [
    {
     "data": {
      "text/plain": [
       "int"
      ]
     },
     "execution_count": 27,
     "metadata": {},
     "output_type": "execute_result"
    }
   ],
   "source": [
    "type(23300)"
   ]
  },
  {
   "cell_type": "code",
   "execution_count": 28,
   "id": "7c0936c2",
   "metadata": {},
   "outputs": [
    {
     "data": {
      "text/plain": [
       "False"
      ]
     },
     "execution_count": 28,
     "metadata": {},
     "output_type": "execute_result"
    }
   ],
   "source": [
    "type(name1) == type(235)"
   ]
  },
  {
   "cell_type": "code",
   "execution_count": 29,
   "id": "81852bc4",
   "metadata": {},
   "outputs": [
    {
     "data": {
      "text/plain": [
       "'Omolewa'"
      ]
     },
     "execution_count": 29,
     "metadata": {},
     "output_type": "execute_result"
    }
   ],
   "source": [
    "name1"
   ]
  },
  {
   "cell_type": "code",
   "execution_count": 30,
   "id": "a135a171",
   "metadata": {},
   "outputs": [
    {
     "data": {
      "text/plain": [
       "'o'"
      ]
     },
     "execution_count": 30,
     "metadata": {},
     "output_type": "execute_result"
    }
   ],
   "source": [
    "name1[2]"
   ]
  },
  {
   "cell_type": "code",
   "execution_count": 31,
   "id": "0f7ff6c9",
   "metadata": {},
   "outputs": [
    {
     "data": {
      "text/plain": [
       "'e'"
      ]
     },
     "execution_count": 31,
     "metadata": {},
     "output_type": "execute_result"
    }
   ],
   "source": [
    "name1[4]"
   ]
  },
  {
   "cell_type": "code",
   "execution_count": 32,
   "id": "4f7c2815",
   "metadata": {},
   "outputs": [
    {
     "data": {
      "text/plain": [
       "'a'"
      ]
     },
     "execution_count": 32,
     "metadata": {},
     "output_type": "execute_result"
    }
   ],
   "source": [
    "name1[-1]"
   ]
  },
  {
   "cell_type": "code",
   "execution_count": 33,
   "id": "fe40f618",
   "metadata": {},
   "outputs": [],
   "source": [
    "# slicing in python"
   ]
  },
  {
   "cell_type": "code",
   "execution_count": 34,
   "id": "318364a5",
   "metadata": {},
   "outputs": [],
   "source": [
    "name = 'ADARAMOLA BUKOLA'"
   ]
  },
  {
   "cell_type": "code",
   "execution_count": 35,
   "id": "fbc79fa1",
   "metadata": {},
   "outputs": [
    {
     "data": {
      "text/plain": [
       "'DRML '"
      ]
     },
     "execution_count": 35,
     "metadata": {},
     "output_type": "execute_result"
    }
   ],
   "source": [
    "name[1:10:2]"
   ]
  },
  {
   "cell_type": "code",
   "execution_count": 36,
   "id": "d2a47b04",
   "metadata": {},
   "outputs": [
    {
     "data": {
      "text/plain": [
       "'ARO K'"
      ]
     },
     "execution_count": 36,
     "metadata": {},
     "output_type": "execute_result"
    }
   ],
   "source": [
    "name[0:15:3]"
   ]
  },
  {
   "cell_type": "code",
   "execution_count": 37,
   "id": "75f55649",
   "metadata": {},
   "outputs": [
    {
     "data": {
      "text/plain": [
       "'ARO K'"
      ]
     },
     "execution_count": 37,
     "metadata": {},
     "output_type": "execute_result"
    }
   ],
   "source": [
    "name[:15:3]"
   ]
  },
  {
   "cell_type": "code",
   "execution_count": 38,
   "id": "8a1408d5",
   "metadata": {},
   "outputs": [
    {
     "data": {
      "text/plain": [
       "'AMBA'"
      ]
     },
     "execution_count": 38,
     "metadata": {},
     "output_type": "execute_result"
    }
   ],
   "source": [
    "name[::5]"
   ]
  },
  {
   "cell_type": "code",
   "execution_count": 39,
   "id": "7f1a724c",
   "metadata": {},
   "outputs": [],
   "source": [
    "name = 'MOM'"
   ]
  },
  {
   "cell_type": "code",
   "execution_count": 40,
   "id": "b934a70e",
   "metadata": {},
   "outputs": [],
   "source": [
    "name = 'OMOLEWA'"
   ]
  },
  {
   "cell_type": "code",
   "execution_count": 41,
   "id": "10526f19",
   "metadata": {},
   "outputs": [
    {
     "data": {
      "text/plain": [
       "'AWELOMO'"
      ]
     },
     "execution_count": 41,
     "metadata": {},
     "output_type": "execute_result"
    }
   ],
   "source": [
    "name[::-1]"
   ]
  },
  {
   "cell_type": "code",
   "execution_count": 42,
   "id": "2057423f",
   "metadata": {},
   "outputs": [
    {
     "data": {
      "text/plain": [
       "False"
      ]
     },
     "execution_count": 42,
     "metadata": {},
     "output_type": "execute_result"
    }
   ],
   "source": [
    "name == name[::-1]"
   ]
  },
  {
   "cell_type": "code",
   "execution_count": 43,
   "id": "336dff2b",
   "metadata": {},
   "outputs": [],
   "source": [
    "name = 'racecar'"
   ]
  },
  {
   "cell_type": "code",
   "execution_count": 46,
   "id": "06dbc7fa",
   "metadata": {},
   "outputs": [
    {
     "data": {
      "text/plain": [
       "True"
      ]
     },
     "execution_count": 46,
     "metadata": {},
     "output_type": "execute_result"
    }
   ],
   "source": [
    "name == name[::-1]"
   ]
  },
  {
   "cell_type": "code",
   "execution_count": null,
   "id": "6cc406f2",
   "metadata": {},
   "outputs": [],
   "source": [
    "name = ''"
   ]
  },
  {
   "cell_type": "code",
   "execution_count": 78,
   "id": "9ed83279",
   "metadata": {},
   "outputs": [],
   "source": [
    "name = 'Omolewa'"
   ]
  },
  {
   "cell_type": "code",
   "execution_count": 79,
   "id": "0d76c766",
   "metadata": {},
   "outputs": [],
   "source": [
    "name += 'ada'"
   ]
  },
  {
   "cell_type": "code",
   "execution_count": 80,
   "id": "01f95b3e",
   "metadata": {},
   "outputs": [
    {
     "data": {
      "text/plain": [
       "'Omolewaada'"
      ]
     },
     "execution_count": 80,
     "metadata": {},
     "output_type": "execute_result"
    }
   ],
   "source": [
    "name"
   ]
  },
  {
   "cell_type": "code",
   "execution_count": 81,
   "id": "195cd52f",
   "metadata": {},
   "outputs": [
    {
     "data": {
      "text/plain": [
       "'Omolewaada'"
      ]
     },
     "execution_count": 81,
     "metadata": {},
     "output_type": "execute_result"
    }
   ],
   "source": [
    "'Omolewa' + 'ada'"
   ]
  },
  {
   "cell_type": "code",
   "execution_count": null,
   "id": "98f67b41",
   "metadata": {},
   "outputs": [],
   "source": []
  },
  {
   "cell_type": "markdown",
   "id": "361ae41b",
   "metadata": {},
   "source": [
    "## list"
   ]
  },
  {
   "cell_type": "code",
   "execution_count": 47,
   "id": "fd66091b",
   "metadata": {},
   "outputs": [],
   "source": [
    "names = []"
   ]
  },
  {
   "cell_type": "code",
   "execution_count": 48,
   "id": "1d0a9596",
   "metadata": {},
   "outputs": [],
   "source": [
    "names.append('Omolewa')"
   ]
  },
  {
   "cell_type": "code",
   "execution_count": 49,
   "id": "b72c7d1b",
   "metadata": {},
   "outputs": [
    {
     "data": {
      "text/plain": [
       "['Omolewa']"
      ]
     },
     "execution_count": 49,
     "metadata": {},
     "output_type": "execute_result"
    }
   ],
   "source": [
    "names"
   ]
  },
  {
   "cell_type": "code",
   "execution_count": 50,
   "id": "de753ca4",
   "metadata": {},
   "outputs": [],
   "source": [
    "names.append('Abiola')"
   ]
  },
  {
   "cell_type": "code",
   "execution_count": 51,
   "id": "fcd5e571",
   "metadata": {},
   "outputs": [
    {
     "data": {
      "text/plain": [
       "['Omolewa', 'Abiola']"
      ]
     },
     "execution_count": 51,
     "metadata": {},
     "output_type": "execute_result"
    }
   ],
   "source": [
    "names"
   ]
  },
  {
   "cell_type": "code",
   "execution_count": 55,
   "id": "c311499e",
   "metadata": {},
   "outputs": [
    {
     "data": {
      "text/plain": [
       "'Obi'"
      ]
     },
     "execution_count": 55,
     "metadata": {},
     "output_type": "execute_result"
    }
   ],
   "source": [
    "names[1]"
   ]
  },
  {
   "cell_type": "code",
   "execution_count": 52,
   "id": "cc3ba844",
   "metadata": {},
   "outputs": [],
   "source": [
    "names.insert(1, 'Obi')"
   ]
  },
  {
   "cell_type": "code",
   "execution_count": 53,
   "id": "0481d61d",
   "metadata": {},
   "outputs": [
    {
     "data": {
      "text/plain": [
       "['Omolewa', 'Obi', 'Abiola']"
      ]
     },
     "execution_count": 53,
     "metadata": {},
     "output_type": "execute_result"
    }
   ],
   "source": [
    "names"
   ]
  },
  {
   "cell_type": "code",
   "execution_count": 56,
   "id": "523c0fa5",
   "metadata": {},
   "outputs": [
    {
     "data": {
      "text/plain": [
       "['Omolewa', 'Obi', 'Abiola']"
      ]
     },
     "execution_count": 56,
     "metadata": {},
     "output_type": "execute_result"
    }
   ],
   "source": [
    "names"
   ]
  },
  {
   "cell_type": "code",
   "execution_count": 57,
   "id": "3e374878",
   "metadata": {},
   "outputs": [],
   "source": [
    "names.remove('Omolewa')"
   ]
  },
  {
   "cell_type": "code",
   "execution_count": 58,
   "id": "7e11d9f9",
   "metadata": {},
   "outputs": [
    {
     "data": {
      "text/plain": [
       "['Obi', 'Abiola']"
      ]
     },
     "execution_count": 58,
     "metadata": {},
     "output_type": "execute_result"
    }
   ],
   "source": [
    "names"
   ]
  },
  {
   "cell_type": "code",
   "execution_count": 59,
   "id": "3f35d24c",
   "metadata": {},
   "outputs": [
    {
     "data": {
      "text/plain": [
       "'Abiola'"
      ]
     },
     "execution_count": 59,
     "metadata": {},
     "output_type": "execute_result"
    }
   ],
   "source": [
    "names.pop(1)"
   ]
  },
  {
   "cell_type": "code",
   "execution_count": 60,
   "id": "02368fe3",
   "metadata": {},
   "outputs": [
    {
     "data": {
      "text/plain": [
       "['Obi']"
      ]
     },
     "execution_count": 60,
     "metadata": {},
     "output_type": "execute_result"
    }
   ],
   "source": [
    "names"
   ]
  },
  {
   "cell_type": "code",
   "execution_count": 61,
   "id": "a1fd2332",
   "metadata": {},
   "outputs": [],
   "source": [
    "names = ['Omolewa', 'Edward', 'James', 'Obi', 'Loko', 'Joseph', 'Abi']"
   ]
  },
  {
   "cell_type": "code",
   "execution_count": 63,
   "id": "983f3e18",
   "metadata": {},
   "outputs": [
    {
     "data": {
      "text/plain": [
       "['Omolewa', 'Edward', 'James', 'Obi']"
      ]
     },
     "execution_count": 63,
     "metadata": {},
     "output_type": "execute_result"
    }
   ],
   "source": [
    "names[:4]"
   ]
  },
  {
   "cell_type": "code",
   "execution_count": 64,
   "id": "6ffcad33",
   "metadata": {},
   "outputs": [
    {
     "data": {
      "text/plain": [
       "['Omolewa', 'Edward', 'James', 'Obi', 'Loko', 'Joseph', 'Abi']"
      ]
     },
     "execution_count": 64,
     "metadata": {},
     "output_type": "execute_result"
    }
   ],
   "source": [
    "names"
   ]
  },
  {
   "cell_type": "code",
   "execution_count": 65,
   "id": "f9479b5d",
   "metadata": {},
   "outputs": [],
   "source": [
    "names = names[:4]"
   ]
  },
  {
   "cell_type": "code",
   "execution_count": 66,
   "id": "11444c1c",
   "metadata": {},
   "outputs": [
    {
     "data": {
      "text/plain": [
       "['Omolewa', 'Edward', 'James', 'Obi']"
      ]
     },
     "execution_count": 66,
     "metadata": {},
     "output_type": "execute_result"
    }
   ],
   "source": [
    "names"
   ]
  },
  {
   "cell_type": "code",
   "execution_count": null,
   "id": "9803330f",
   "metadata": {},
   "outputs": [],
   "source": [
    "names2 = names[:4]"
   ]
  },
  {
   "cell_type": "code",
   "execution_count": 82,
   "id": "84d69634",
   "metadata": {},
   "outputs": [
    {
     "data": {
      "text/plain": [
       "['Omolewa', 'Edward', 'James', 'Obi']"
      ]
     },
     "execution_count": 82,
     "metadata": {},
     "output_type": "execute_result"
    }
   ],
   "source": [
    "names"
   ]
  },
  {
   "cell_type": "code",
   "execution_count": 84,
   "id": "e067cdb5",
   "metadata": {},
   "outputs": [],
   "source": [
    "names2 = ['Niyi', 'Seun']"
   ]
  },
  {
   "cell_type": "code",
   "execution_count": 85,
   "id": "4b761cbd",
   "metadata": {},
   "outputs": [],
   "source": [
    "names += names2 # names = names + names2"
   ]
  },
  {
   "cell_type": "code",
   "execution_count": 86,
   "id": "23116ab6",
   "metadata": {},
   "outputs": [
    {
     "data": {
      "text/plain": [
       "['Omolewa', 'Edward', 'James', 'Obi', 'Niyi', 'Seun']"
      ]
     },
     "execution_count": 86,
     "metadata": {},
     "output_type": "execute_result"
    }
   ],
   "source": [
    "names"
   ]
  },
  {
   "cell_type": "code",
   "execution_count": 87,
   "id": "4d3f9483",
   "metadata": {},
   "outputs": [
    {
     "data": {
      "text/plain": [
       "['Omolewa', 'Edward', 'James', 'Obi', 'Niyi', 'Seun']"
      ]
     },
     "execution_count": 87,
     "metadata": {},
     "output_type": "execute_result"
    }
   ],
   "source": [
    "names"
   ]
  },
  {
   "cell_type": "code",
   "execution_count": 88,
   "id": "8d0f45c2",
   "metadata": {},
   "outputs": [],
   "source": [
    "names3 = ['Femi', 'Biola']"
   ]
  },
  {
   "cell_type": "code",
   "execution_count": 89,
   "id": "f2f0ae7c",
   "metadata": {},
   "outputs": [],
   "source": [
    "names.extend(names3)"
   ]
  },
  {
   "cell_type": "code",
   "execution_count": 90,
   "id": "031098e2",
   "metadata": {},
   "outputs": [
    {
     "data": {
      "text/plain": [
       "['Omolewa', 'Edward', 'James', 'Obi', 'Niyi', 'Seun', 'Femi', 'Biola']"
      ]
     },
     "execution_count": 90,
     "metadata": {},
     "output_type": "execute_result"
    }
   ],
   "source": [
    "names"
   ]
  },
  {
   "cell_type": "code",
   "execution_count": 91,
   "id": "3f8f353a",
   "metadata": {},
   "outputs": [],
   "source": [
    "names1 = ['Omolewa', 'Edward', 'James', 'Obi', 'Niyi', 'Seun']\n",
    "names3 = ['Femi', 'Biola']"
   ]
  },
  {
   "cell_type": "code",
   "execution_count": 92,
   "id": "55787136",
   "metadata": {},
   "outputs": [],
   "source": [
    "names1.append(names3)"
   ]
  },
  {
   "cell_type": "code",
   "execution_count": 93,
   "id": "5792e8b5",
   "metadata": {},
   "outputs": [
    {
     "data": {
      "text/plain": [
       "['Omolewa', 'Edward', 'James', 'Obi', 'Niyi', 'Seun', ['Femi', 'Biola']]"
      ]
     },
     "execution_count": 93,
     "metadata": {},
     "output_type": "execute_result"
    }
   ],
   "source": [
    "names1"
   ]
  },
  {
   "cell_type": "code",
   "execution_count": 100,
   "id": "234f10df",
   "metadata": {},
   "outputs": [
    {
     "data": {
      "text/plain": [
       "'Biola'"
      ]
     },
     "execution_count": 100,
     "metadata": {},
     "output_type": "execute_result"
    }
   ],
   "source": [
    "names1[-1][-1]"
   ]
  },
  {
   "cell_type": "code",
   "execution_count": 98,
   "id": "2fe5f23f",
   "metadata": {},
   "outputs": [
    {
     "data": {
      "text/plain": [
       "'FEMI'"
      ]
     },
     "execution_count": 98,
     "metadata": {},
     "output_type": "execute_result"
    }
   ],
   "source": [
    "names1[6][0].upper()"
   ]
  },
  {
   "cell_type": "code",
   "execution_count": 106,
   "id": "df4d23c2",
   "metadata": {},
   "outputs": [],
   "source": [
    "name = 'Omolewa'"
   ]
  },
  {
   "cell_type": "code",
   "execution_count": 107,
   "id": "961da2bb",
   "metadata": {},
   "outputs": [
    {
     "data": {
      "text/plain": [
       "'a'"
      ]
     },
     "execution_count": 107,
     "metadata": {},
     "output_type": "execute_result"
    }
   ],
   "source": [
    "name[-1]"
   ]
  },
  {
   "cell_type": "code",
   "execution_count": 109,
   "id": "e2bc5f19",
   "metadata": {},
   "outputs": [],
   "source": [
    "numbers = [1, 2, 3, 3, 43, 5, 'Omolewa', [1, 2, 3]]"
   ]
  },
  {
   "cell_type": "code",
   "execution_count": null,
   "id": "16dcf12d",
   "metadata": {},
   "outputs": [],
   "source": []
  },
  {
   "cell_type": "code",
   "execution_count": null,
   "id": "e10c6fbe",
   "metadata": {},
   "outputs": [],
   "source": []
  },
  {
   "cell_type": "code",
   "execution_count": 68,
   "id": "17d4835d",
   "metadata": {},
   "outputs": [],
   "source": [
    "x = 2"
   ]
  },
  {
   "cell_type": "code",
   "execution_count": 69,
   "id": "2626af11",
   "metadata": {},
   "outputs": [],
   "source": [
    "x = x + 4"
   ]
  },
  {
   "cell_type": "code",
   "execution_count": 70,
   "id": "6ae746d5",
   "metadata": {},
   "outputs": [
    {
     "data": {
      "text/plain": [
       "6"
      ]
     },
     "execution_count": 70,
     "metadata": {},
     "output_type": "execute_result"
    }
   ],
   "source": [
    "x"
   ]
  },
  {
   "cell_type": "code",
   "execution_count": 71,
   "id": "d06c0bee",
   "metadata": {},
   "outputs": [],
   "source": [
    "x = 10"
   ]
  },
  {
   "cell_type": "code",
   "execution_count": 72,
   "id": "6662bdea",
   "metadata": {},
   "outputs": [],
   "source": [
    "x += 4"
   ]
  },
  {
   "cell_type": "code",
   "execution_count": 73,
   "id": "39204c4d",
   "metadata": {},
   "outputs": [
    {
     "data": {
      "text/plain": [
       "14"
      ]
     },
     "execution_count": 73,
     "metadata": {},
     "output_type": "execute_result"
    }
   ],
   "source": [
    "x"
   ]
  },
  {
   "cell_type": "code",
   "execution_count": 74,
   "id": "e56d3453",
   "metadata": {},
   "outputs": [],
   "source": [
    "x -= 10 # x = x - 10"
   ]
  },
  {
   "cell_type": "code",
   "execution_count": 75,
   "id": "8d7b1f7e",
   "metadata": {},
   "outputs": [
    {
     "data": {
      "text/plain": [
       "4"
      ]
     },
     "execution_count": 75,
     "metadata": {},
     "output_type": "execute_result"
    }
   ],
   "source": [
    "x"
   ]
  },
  {
   "cell_type": "code",
   "execution_count": 76,
   "id": "def86e4a",
   "metadata": {},
   "outputs": [],
   "source": [
    "x /= 2"
   ]
  },
  {
   "cell_type": "code",
   "execution_count": 77,
   "id": "7aeaabb3",
   "metadata": {},
   "outputs": [
    {
     "data": {
      "text/plain": [
       "2.0"
      ]
     },
     "execution_count": 77,
     "metadata": {},
     "output_type": "execute_result"
    }
   ],
   "source": [
    "x"
   ]
  },
  {
   "cell_type": "code",
   "execution_count": null,
   "id": "abf0e8e3",
   "metadata": {},
   "outputs": [],
   "source": []
  }
 ],
 "metadata": {
  "kernelspec": {
   "display_name": "Python 3 (ipykernel)",
   "language": "python",
   "name": "python3"
  },
  "language_info": {
   "codemirror_mode": {
    "name": "ipython",
    "version": 3
   },
   "file_extension": ".py",
   "mimetype": "text/x-python",
   "name": "python",
   "nbconvert_exporter": "python",
   "pygments_lexer": "ipython3",
   "version": "3.9.12"
  }
 },
 "nbformat": 4,
 "nbformat_minor": 5
}
