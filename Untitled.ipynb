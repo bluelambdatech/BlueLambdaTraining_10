{
 "cells": [
  {
   "cell_type": "code",
   "execution_count": 1,
   "id": "f0f6ff13",
   "metadata": {},
   "outputs": [
    {
     "data": {
      "text/plain": [
       "5"
      ]
     },
     "execution_count": 1,
     "metadata": {},
     "output_type": "execute_result"
    }
   ],
   "source": [
    "2 + 3"
   ]
  },
  {
   "cell_type": "code",
   "execution_count": 2,
   "id": "0b41a36e",
   "metadata": {},
   "outputs": [],
   "source": [
    "name1 = \"Yele\""
   ]
  },
  {
   "cell_type": "code",
   "execution_count": 3,
   "id": "e19cf1d1",
   "metadata": {},
   "outputs": [
    {
     "data": {
      "text/plain": [
       "'Yele'"
      ]
     },
     "execution_count": 3,
     "metadata": {},
     "output_type": "execute_result"
    }
   ],
   "source": [
    "name1"
   ]
  },
  {
   "cell_type": "code",
   "execution_count": null,
   "id": "ab3f3425",
   "metadata": {},
   "outputs": [],
   "source": []
  }
 ],
 "metadata": {
  "kernelspec": {
   "display_name": "Python 3 (ipykernel)",
   "language": "python",
   "name": "python3"
  },
  "language_info": {
   "codemirror_mode": {
    "name": "ipython",
    "version": 3
   },
   "file_extension": ".py",
   "mimetype": "text/x-python",
   "name": "python",
   "nbconvert_exporter": "python",
   "pygments_lexer": "ipython3",
   "version": "3.9.12"
  }
 },
 "nbformat": 4,
 "nbformat_minor": 5
}
