{
 "cells": [
  {
   "cell_type": "markdown",
   "id": "6af76063",
   "metadata": {},
   "source": [
    "# merge two dictionary \n",
    "\n",
    "dict1 = {'Ten': 10, 'Twenty': 20, 'Thirty': 30}\n",
    "dict2 = {'Thirty': 30, 'Fourty': 40, 'Fifty': 50}\n",
    "\n",
    "expected output: {'Ten': 10, 'Twenty': 20, 'Thirty': 30, 'Fourty': 40, 'Fifty': 50}"
   ]
  },
  {
   "cell_type": "code",
   "execution_count": 1,
   "id": "f20252e1",
   "metadata": {},
   "outputs": [],
   "source": [
    "dict1 = {'Ten': 10, 'Twenty': 20, 'Thirty': 10}\n",
    "dict2 = {'Thirty': 30, 'Fourty': 40, 'Fifty': 50}"
   ]
  },
  {
   "cell_type": "code",
   "execution_count": 2,
   "id": "e40c0235",
   "metadata": {},
   "outputs": [],
   "source": [
    "dict1.update(dict2)"
   ]
  },
  {
   "cell_type": "code",
   "execution_count": 3,
   "id": "bcb603ee",
   "metadata": {},
   "outputs": [
    {
     "data": {
      "text/plain": [
       "{'Ten': 10, 'Twenty': 20, 'Thirty': 30, 'Fourty': 40, 'Fifty': 50}"
      ]
     },
     "execution_count": 3,
     "metadata": {},
     "output_type": "execute_result"
    }
   ],
   "source": [
    "dict1"
   ]
  },
  {
   "cell_type": "code",
   "execution_count": 4,
   "id": "3531a504",
   "metadata": {},
   "outputs": [],
   "source": [
    "for key in dict2.keys():\n",
    "    dict1[key] = dict2[key]"
   ]
  },
  {
   "cell_type": "code",
   "execution_count": 5,
   "id": "33cd32de",
   "metadata": {},
   "outputs": [
    {
     "data": {
      "text/plain": [
       "dict_keys(['Ten', 'Twenty', 'Thirty', 'Fourty', 'Fifty'])"
      ]
     },
     "execution_count": 5,
     "metadata": {},
     "output_type": "execute_result"
    }
   ],
   "source": [
    "dict1.keys()\n"
   ]
  },
  {
   "cell_type": "code",
   "execution_count": 6,
   "id": "177317be",
   "metadata": {},
   "outputs": [
    {
     "data": {
      "text/plain": [
       "dict_values([10, 20, 30, 40, 50])"
      ]
     },
     "execution_count": 6,
     "metadata": {},
     "output_type": "execute_result"
    }
   ],
   "source": [
    "dict1.values()"
   ]
  },
  {
   "cell_type": "code",
   "execution_count": 7,
   "id": "71d15d9c",
   "metadata": {},
   "outputs": [
    {
     "data": {
      "text/plain": [
       "10"
      ]
     },
     "execution_count": 7,
     "metadata": {},
     "output_type": "execute_result"
    }
   ],
   "source": [
    "dict1['Ten']"
   ]
  },
  {
   "cell_type": "code",
   "execution_count": 8,
   "id": "b64d12b5",
   "metadata": {},
   "outputs": [],
   "source": [
    "dict1['Hundred'] = 100 ## "
   ]
  },
  {
   "cell_type": "code",
   "execution_count": 9,
   "id": "663310d0",
   "metadata": {},
   "outputs": [
    {
     "data": {
      "text/plain": [
       "{'Ten': 10,\n",
       " 'Twenty': 20,\n",
       " 'Thirty': 30,\n",
       " 'Fourty': 40,\n",
       " 'Fifty': 50,\n",
       " 'Hundred': 100}"
      ]
     },
     "execution_count": 9,
     "metadata": {},
     "output_type": "execute_result"
    }
   ],
   "source": [
    "dict1"
   ]
  },
  {
   "cell_type": "markdown",
   "id": "3cfcb117",
   "metadata": {},
   "source": [
    "# Calculate the cube of all numbers from 1 to a given number\n",
    "Write a program to print the cube of all numbers from 1 to a given number\n",
    "\n",
    "Given:\n",
    "\n",
    "input_number = 6\n",
    "\n",
    "Expected output:\n",
    "\n",
    "Current Number is : 1  and the cube is 1\n",
    "Current Number is : 2  and the cube is 8\n",
    "Current Number is : 3  and the cube is 27\n",
    "Current Number is : 4  and the cube is 64\n",
    "Current Number is : 5  and the cube is 125\n",
    "Current Number is : 6  and the cube is 216"
   ]
  },
  {
   "cell_type": "code",
   "execution_count": 10,
   "id": "0853d91b",
   "metadata": {},
   "outputs": [
    {
     "name": "stdout",
     "output_type": "stream",
     "text": [
      "[1, 8, 27, 64, 125, 216]\n"
     ]
    }
   ],
   "source": [
    "input_number  = [x**3 for x in range(1,7)]\n",
    "print(input_number )\n"
   ]
  },
  {
   "cell_type": "code",
   "execution_count": 11,
   "id": "2c5c97a0",
   "metadata": {},
   "outputs": [],
   "source": [
    "num = range(1, 7)"
   ]
  },
  {
   "cell_type": "code",
   "execution_count": 12,
   "id": "ffd7ebdf",
   "metadata": {},
   "outputs": [
    {
     "name": "stdout",
     "output_type": "stream",
     "text": [
      "1\n",
      "8\n",
      "27\n",
      "64\n",
      "125\n",
      "216\n"
     ]
    }
   ],
   "source": [
    "for x in num:\n",
    "    y = x**3\n",
    "    print(y)"
   ]
  },
  {
   "cell_type": "code",
   "execution_count": 13,
   "id": "1fb85a30",
   "metadata": {},
   "outputs": [
    {
     "name": "stdout",
     "output_type": "stream",
     "text": [
      "[8, 64, 216]\n"
     ]
    },
    {
     "data": {
      "text/plain": [
       "[8, 64, 216, 512, 1000]"
      ]
     },
     "execution_count": 13,
     "metadata": {},
     "output_type": "execute_result"
    }
   ],
   "source": [
    "cubes_by_four = [x**3 for x in range(1,7) if x**3 % 4 == 0]\n",
    ">>> print(cubes_by_four)\n",
    "[8, 64, 216, 512, 1000]"
   ]
  },
  {
   "cell_type": "markdown",
   "id": "706c0901",
   "metadata": {},
   "source": [
    "# Write a Python program to change Brad’s salary to 8500 in the following dictionary.\n",
    "\n",
    "Given:\n",
    "\n",
    "sample_dict = {\n",
    "    'emp1': {'name': 'Jhon', 'salary': 7500},\n",
    "    'emp2': {'name': 'Emma', 'salary': 8000},\n",
    "    'emp3': {'name': 'Brad', 'salary': 500}\n",
    "}\n",
    "Expected output:\n",
    "\n",
    "{\n",
    "   'emp1': {'name': 'Jhon', 'salary': 7500},\n",
    "   'emp2': {'name': 'Emma', 'salary': 8000},\n",
    "   'emp3': {'name': 'Brad', 'salary': 8500}\n",
    "}"
   ]
  },
  {
   "cell_type": "code",
   "execution_count": 14,
   "id": "7bf1e5f7",
   "metadata": {},
   "outputs": [],
   "source": [
    "sample_dict = {\n",
    "    'emp1': {'name': 'Jhon', 'salary': 7500},\n",
    "    'emp2': {'name': 'Emma', 'salary': 8000},\n",
    "    'emp3': {'name': 'Brad', 'salary': 500}\n",
    "}"
   ]
  },
  {
   "cell_type": "code",
   "execution_count": 15,
   "id": "558c0728",
   "metadata": {},
   "outputs": [],
   "source": [
    "sample_dict['emp3']['salary'] =  8500"
   ]
  },
  {
   "cell_type": "code",
   "execution_count": 16,
   "id": "13b6559f",
   "metadata": {},
   "outputs": [
    {
     "data": {
      "text/plain": [
       "{'emp1': {'name': 'Jhon', 'salary': 7500},\n",
       " 'emp2': {'name': 'Emma', 'salary': 8000},\n",
       " 'emp3': {'name': 'Brad', 'salary': 8500}}"
      ]
     },
     "execution_count": 16,
     "metadata": {},
     "output_type": "execute_result"
    }
   ],
   "source": [
    "sample_dict"
   ]
  },
  {
   "cell_type": "code",
   "execution_count": null,
   "id": "c784d307",
   "metadata": {},
   "outputs": [],
   "source": [
    "num = int(input('Enter your number: '))\n",
    "num"
   ]
  },
  {
   "cell_type": "code",
   "execution_count": null,
   "id": "03fa4d0b",
   "metadata": {},
   "outputs": [],
   "source": [
    "num = int(input('Enter your number: '))\n",
    "for n in range(1, num + 1):\n",
    "    print(f'Current Number is :{n}  and the cube is {n ** 3}')\n",
    "    \n",
    "    "
   ]
  },
  {
   "cell_type": "code",
   "execution_count": null,
   "id": "771d5b9c",
   "metadata": {},
   "outputs": [],
   "source": [
    "def bump():\n",
    "    \"\"\"\n",
    "    please enter your age\n",
    "    \"\"\"\n",
    "    # I am printing my name now\n",
    "    print('Omolewa')"
   ]
  },
  {
   "cell_type": "code",
   "execution_count": null,
   "id": "45ee682f",
   "metadata": {},
   "outputs": [],
   "source": [
    "names = ['Omolewa', 'Edward', 'James', 'Obi', 'Loko', 'Joseph', 'Abi']\n"
   ]
  },
  {
   "cell_type": "code",
   "execution_count": null,
   "id": "96881973",
   "metadata": {},
   "outputs": [],
   "source": [
    "names[:4]"
   ]
  },
  {
   "cell_type": "code",
   "execution_count": null,
   "id": "b5709531",
   "metadata": {},
   "outputs": [],
   "source": [
    "names1[-1][-1]"
   ]
  },
  {
   "cell_type": "code",
   "execution_count": null,
   "id": "d68221cc",
   "metadata": {},
   "outputs": [],
   "source": [
    "names1[6][0].upper()"
   ]
  },
  {
   "cell_type": "code",
   "execution_count": null,
   "id": "7a8094a6",
   "metadata": {},
   "outputs": [],
   "source": [
    "name = input(\"Please Enter your name: \")"
   ]
  },
  {
   "cell_type": "code",
   "execution_count": null,
   "id": "8ca96407",
   "metadata": {},
   "outputs": [],
   "source": [
    "age = int(input(\"Please, Enter your Age: \"))"
   ]
  },
  {
   "cell_type": "code",
   "execution_count": null,
   "id": "a815a267",
   "metadata": {},
   "outputs": [],
   "source": [
    "fname = input('Please, enter your first name: ')\n",
    "age = input('Please, enter your Age: ')\n",
    "print(f'{fname}, you are {age} years old')"
   ]
  },
  {
   "cell_type": "code",
   "execution_count": null,
   "id": "30f20349",
   "metadata": {},
   "outputs": [],
   "source": [
    "fname"
   ]
  },
  {
   "cell_type": "code",
   "execution_count": null,
   "id": "7badd090",
   "metadata": {},
   "outputs": [],
   "source": [
    "age"
   ]
  },
  {
   "cell_type": "code",
   "execution_count": null,
   "id": "ac55147f",
   "metadata": {},
   "outputs": [],
   "source": [
    "print(f'{fname}, you are {age} years old')"
   ]
  },
  {
   "cell_type": "code",
   "execution_count": null,
   "id": "b8c0af1d",
   "metadata": {},
   "outputs": [],
   "source": [
    "print(fname, \"you are\", age, \"years old\")"
   ]
  },
  {
   "cell_type": "code",
   "execution_count": null,
   "id": "47fbd966",
   "metadata": {},
   "outputs": [],
   "source": [
    "inp = input('Please, enter your first name and Age, sepearted by space: ')"
   ]
  },
  {
   "cell_type": "code",
   "execution_count": null,
   "id": "4a506a5d",
   "metadata": {},
   "outputs": [],
   "source": []
  },
  {
   "cell_type": "code",
   "execution_count": null,
   "id": "d294f043",
   "metadata": {},
   "outputs": [],
   "source": []
  },
  {
   "cell_type": "code",
   "execution_count": null,
   "id": "c5782955",
   "metadata": {},
   "outputs": [],
   "source": []
  },
  {
   "cell_type": "code",
   "execution_count": null,
   "id": "7c49cce4",
   "metadata": {},
   "outputs": [],
   "source": []
  }
 ],
 "metadata": {
  "kernelspec": {
   "display_name": "Python 3 (ipykernel)",
   "language": "python",
   "name": "python3"
  },
  "language_info": {
   "codemirror_mode": {
    "name": "ipython",
    "version": 3
   },
   "file_extension": ".py",
   "mimetype": "text/x-python",
   "name": "python",
   "nbconvert_exporter": "python",
   "pygments_lexer": "ipython3",
   "version": "3.9.12"
  }
 },
 "nbformat": 4,
 "nbformat_minor": 5
}
