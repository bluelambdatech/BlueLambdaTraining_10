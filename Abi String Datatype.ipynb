{
 "cells": [
  {
   "cell_type": "markdown",
   "id": "fcea76eb",
   "metadata": {},
   "source": [
    "# My First Code"
   ]
  },
  {
   "cell_type": "markdown",
   "id": "f02386c6",
   "metadata": {},
   "source": [
    "## My First Code"
   ]
  },
  {
   "cell_type": "markdown",
   "id": "fbbf3294",
   "metadata": {},
   "source": [
    "## My First Code"
   ]
  },
  {
   "cell_type": "markdown",
   "id": "d48ce541",
   "metadata": {},
   "source": [
    "### My First Code"
   ]
  },
  {
   "cell_type": "markdown",
   "id": "450b7597",
   "metadata": {},
   "source": [
    "#### My First Code"
   ]
  },
  {
   "cell_type": "markdown",
   "id": "9a51279e",
   "metadata": {},
   "source": [
    "## Table 1\n",
    "- Table2"
   ]
  },
  {
   "cell_type": "markdown",
   "id": "6ca54a5b",
   "metadata": {},
   "source": [
    "## **Hello class**"
   ]
  },
  {
   "cell_type": "markdown",
   "id": "b6105070",
   "metadata": {},
   "source": [
    "## _Deer_"
   ]
  },
  {
   "cell_type": "code",
   "execution_count": 5,
   "id": "c78303bf",
   "metadata": {},
   "outputs": [],
   "source": [
    "name1 = 'Abi'\n",
    "name2 = 'Peters'"
   ]
  },
  {
   "cell_type": "code",
   "execution_count": 7,
   "id": "c23ca573",
   "metadata": {},
   "outputs": [
    {
     "data": {
      "text/plain": [
       "'Abi'"
      ]
     },
     "execution_count": 7,
     "metadata": {},
     "output_type": "execute_result"
    }
   ],
   "source": [
    "name1"
   ]
  },
  {
   "cell_type": "code",
   "execution_count": 8,
   "id": "65c9f15f",
   "metadata": {},
   "outputs": [
    {
     "data": {
      "text/plain": [
       "'Peters'"
      ]
     },
     "execution_count": 8,
     "metadata": {},
     "output_type": "execute_result"
    }
   ],
   "source": [
    "name2"
   ]
  },
  {
   "cell_type": "code",
   "execution_count": 11,
   "id": "4cb81d55",
   "metadata": {},
   "outputs": [],
   "source": [
    "fullname = name1 + name2"
   ]
  },
  {
   "cell_type": "code",
   "execution_count": 10,
   "id": "b73be72e",
   "metadata": {},
   "outputs": [
    {
     "data": {
      "text/plain": [
       "'AbiPeters'"
      ]
     },
     "execution_count": 10,
     "metadata": {},
     "output_type": "execute_result"
    }
   ],
   "source": [
    "fullname"
   ]
  },
  {
   "cell_type": "code",
   "execution_count": 12,
   "id": "0ea68e46",
   "metadata": {},
   "outputs": [
    {
     "data": {
      "text/plain": [
       "9"
      ]
     },
     "execution_count": 12,
     "metadata": {},
     "output_type": "execute_result"
    }
   ],
   "source": [
    "len(fullname)"
   ]
  },
  {
   "cell_type": "code",
   "execution_count": 13,
   "id": "977e20d6",
   "metadata": {},
   "outputs": [
    {
     "data": {
      "text/plain": [
       "False"
      ]
     },
     "execution_count": 13,
     "metadata": {},
     "output_type": "execute_result"
    }
   ],
   "source": [
    "len(name1) == len(name2)"
   ]
  },
  {
   "cell_type": "code",
   "execution_count": 14,
   "id": "54c8286d",
   "metadata": {},
   "outputs": [
    {
     "data": {
      "text/plain": [
       "True"
      ]
     },
     "execution_count": 14,
     "metadata": {},
     "output_type": "execute_result"
    }
   ],
   "source": [
    "len(name1)==3"
   ]
  },
  {
   "cell_type": "code",
   "execution_count": 27,
   "id": "820b78ec",
   "metadata": {},
   "outputs": [
    {
     "data": {
      "text/plain": [
       "'ABI'"
      ]
     },
     "execution_count": 27,
     "metadata": {},
     "output_type": "execute_result"
    }
   ],
   "source": [
    "name1.upper()"
   ]
  },
  {
   "cell_type": "code",
   "execution_count": 19,
   "id": "d15bce9c",
   "metadata": {},
   "outputs": [
    {
     "data": {
      "text/plain": [
       "2"
      ]
     },
     "execution_count": 19,
     "metadata": {},
     "output_type": "execute_result"
    }
   ],
   "source": [
    "fullname.count('e')"
   ]
  },
  {
   "cell_type": "code",
   "execution_count": 20,
   "id": "bff5f77b",
   "metadata": {},
   "outputs": [
    {
     "data": {
      "text/plain": [
       "str"
      ]
     },
     "execution_count": 20,
     "metadata": {},
     "output_type": "execute_result"
    }
   ],
   "source": [
    "type (name1)"
   ]
  },
  {
   "cell_type": "code",
   "execution_count": 21,
   "id": "8b7c8128",
   "metadata": {},
   "outputs": [
    {
     "data": {
      "text/plain": [
       "int"
      ]
     },
     "execution_count": 21,
     "metadata": {},
     "output_type": "execute_result"
    }
   ],
   "source": [
    "type(12343)"
   ]
  },
  {
   "cell_type": "code",
   "execution_count": 23,
   "id": "d446c4fc",
   "metadata": {},
   "outputs": [
    {
     "data": {
      "text/plain": [
       "str"
      ]
     },
     "execution_count": 23,
     "metadata": {},
     "output_type": "execute_result"
    }
   ],
   "source": [
    "type(\"Box\")"
   ]
  },
  {
   "cell_type": "code",
   "execution_count": 26,
   "id": "5019eed8",
   "metadata": {},
   "outputs": [
    {
     "data": {
      "text/plain": [
       "'r'"
      ]
     },
     "execution_count": 26,
     "metadata": {},
     "output_type": "execute_result"
    }
   ],
   "source": [
    "name2[4]"
   ]
  },
  {
   "cell_type": "code",
   "execution_count": null,
   "id": "e65957bb",
   "metadata": {},
   "outputs": [],
   "source": []
  }
 ],
 "metadata": {
  "kernelspec": {
   "display_name": "Python 3 (ipykernel)",
   "language": "python",
   "name": "python3"
  },
  "language_info": {
   "codemirror_mode": {
    "name": "ipython",
    "version": 3
   },
   "file_extension": ".py",
   "mimetype": "text/x-python",
   "name": "python",
   "nbconvert_exporter": "python",
   "pygments_lexer": "ipython3",
   "version": "3.9.12"
  }
 },
 "nbformat": 4,
 "nbformat_minor": 5
}
