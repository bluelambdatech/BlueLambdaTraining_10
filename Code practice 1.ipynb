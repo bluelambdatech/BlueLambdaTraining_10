{
 "cells": [
  {
   "cell_type": "code",
   "execution_count": 4,
   "id": "758accf8",
   "metadata": {},
   "outputs": [],
   "source": [
    "num = 12345"
   ]
  },
  {
   "cell_type": "code",
   "execution_count": 8,
   "id": "2ba89761",
   "metadata": {},
   "outputs": [
    {
     "ename": "SyntaxError",
     "evalue": "invalid syntax (381946582.py, line 1)",
     "output_type": "error",
     "traceback": [
      "\u001b[1;36m  Input \u001b[1;32mIn [8]\u001b[1;36m\u001b[0m\n\u001b[1;33m    num.\u001b[0m\n\u001b[1;37m        ^\u001b[0m\n\u001b[1;31mSyntaxError\u001b[0m\u001b[1;31m:\u001b[0m invalid syntax\n"
     ]
    }
   ],
   "source": [
    "num."
   ]
  },
  {
   "cell_type": "code",
   "execution_count": 11,
   "id": "1f91505d",
   "metadata": {},
   "outputs": [
    {
     "name": "stdout",
     "output_type": "stream",
     "text": [
      "The reversed number = 54321\n"
     ]
    }
   ],
   "source": [
    "# given number\n",
    "given_num = 12345\n",
    "\n",
    "# Take a variable reverse_number and initialize it to null\n",
    "reverse_number = 0\n",
    "\n",
    "# using while loop to reverse the given number\n",
    "\n",
    "while (given_num > 0):\n",
    "    # implementing the algorithm\n",
    "    # getting the last digit\n",
    "    remainder = given_num % 10\n",
    "    reverse_number = (reverse_number * 10) + remainder\n",
    "    given_num = given_num // 10\n",
    "\n",
    "# Display the result\n",
    "print(\"The reversed number =\", reverse_number)"
   ]
  },
  {
   "cell_type": "code",
   "execution_count": null,
   "id": "0a0903da",
   "metadata": {},
   "outputs": [],
   "source": []
  },
  {
   "cell_type": "markdown",
   "id": "d696ecca",
   "metadata": {},
   "source": [
    "# Use a loop to display elements from a given list present at odd index positions\n",
    "\n",
    "Given:\n",
    "\n",
    "my_list = [10, 20, 30, 40, 50, 60, 70, 80, 90, 100]\n",
    "Note: list index always starts at 0\n"
   ]
  },
  {
   "cell_type": "code",
   "execution_count": 10,
   "id": "31823858",
   "metadata": {},
   "outputs": [
    {
     "name": "stdout",
     "output_type": "stream",
     "text": [
      "20 40 60 80 100 "
     ]
    }
   ],
   "source": [
    "my_list = [10, 20, 30, 40, 50, 60, 70, 80, 90, 100]\n",
    "# stat from index 1 with step 2( means 1, 3, 5, an so on)\n",
    "for i in my_list[1::2]:\n",
    "    print(i, end=\" \")"
   ]
  },
  {
   "cell_type": "code",
   "execution_count": 16,
   "id": "06753fcb",
   "metadata": {},
   "outputs": [],
   "source": [
    "my_list = [10, 20, 30, 40, 50, 60, 70, 80, 90, 100]"
   ]
  },
  {
   "cell_type": "code",
   "execution_count": 13,
   "id": "2a537b86",
   "metadata": {},
   "outputs": [
    {
     "data": {
      "text/plain": [
       "[20, 40, 60, 80, 100]"
      ]
     },
     "execution_count": 13,
     "metadata": {},
     "output_type": "execute_result"
    }
   ],
   "source": [
    "my_list[1::2]"
   ]
  },
  {
   "cell_type": "markdown",
   "id": "079e2bac",
   "metadata": {},
   "source": [
    "Calculate the cube of all numbers from 1 to a given number\n",
    "Write a program to rint the cube of all numbers from 1 to a given number"
   ]
  },
  {
   "cell_type": "code",
   "execution_count": null,
   "id": "8c2ff329",
   "metadata": {},
   "outputs": [],
   "source": [
    "# Python Program to Calculate Cube of a Number\n",
    "\n",
    "number = float(input(\" Please Enter any numeric Value : \"))\n",
    "\n",
    "cube = number * number * number\n",
    "\n",
    "print(\"The Cube of a Given Number {0}  = {1}\".format(number, cube))"
   ]
  },
  {
   "cell_type": "code",
   "execution_count": 15,
   "id": "a0546ddb",
   "metadata": {},
   "outputs": [
    {
     "name": "stdout",
     "output_type": "stream",
     "text": [
      " Please Enter any numeric Value : 3\n",
      "The Cube of a Given Number 3.0  = 27.0\n"
     ]
    }
   ],
   "source": [
    "# Python Program to Calculate Cube of a Number\n",
    "\n",
    "number = float(input(\" Please Enter any numeric Value : \"))\n",
    "\n",
    "cube = number**3\n",
    "\n",
    "print(\"The Cube of a Given Number {0}  = {1}\".format(number, cube))"
   ]
  },
  {
   "cell_type": "code",
   "execution_count": null,
   "id": "3655707b",
   "metadata": {},
   "outputs": [],
   "source": [
    "number = [1,2,3]\n",
    "for i in number:\n",
    "    x = i**3\n",
    "    y = print(\"The Cube of a Given Number is : {}\" .format(x))\n",
    "    "
   ]
  },
  {
   "cell_type": "code",
   "execution_count": null,
   "id": "ccabf176",
   "metadata": {},
   "outputs": [],
   "source": [
    "number = [1,2,3]\n",
    "for i in number:\n",
    "    x = i**3\n",
    "    y = print(\"The Cube of a Given Number {} is : {}\" .format(i, x))\n",
    "    z = print(\"Current Number is : {}  and the cube is {} \" .format(i, x))"
   ]
  },
  {
   "cell_type": "code",
   "execution_count": null,
   "id": "8cbeb9cd",
   "metadata": {},
   "outputs": [],
   "source": [
    "number = [1,2,3]\n",
    "for i in number:\n",
    "    x = i**3\n",
    "    y = print(\"The Cube of a Given Number {} is : {}\" .format(i, x))\n",
    "    z = print(\"Current Number is : {}  and the cube is {} \" .format(i, x))"
   ]
  },
  {
   "cell_type": "code",
   "execution_count": null,
   "id": "bd476d5c",
   "metadata": {},
   "outputs": [],
   "source": [
    "# Write a Python program to check if value 200 exists in the following dictionary.\n",
    "\n",
    "\n",
    "sample_dict = {'a': 100, 'b': 200, 'c': 300}\n",
    "some_key = 200\n",
    "if some_key in sample_dict.keys():\n",
    "    print('200 present in a dict')\n",
    "else:\n",
    "    print('Key doesn\\'t exist')\n",
    "# Returns Key doesn't exist"
   ]
  },
  {
   "cell_type": "code",
   "execution_count": null,
   "id": "dcd08d7c",
   "metadata": {},
   "outputs": [],
   "source": []
  },
  {
   "cell_type": "code",
   "execution_count": null,
   "id": "b3ce57d1",
   "metadata": {},
   "outputs": [],
   "source": []
  },
  {
   "cell_type": "code",
   "execution_count": null,
   "id": "bfa9a58e",
   "metadata": {},
   "outputs": [],
   "source": []
  },
  {
   "cell_type": "code",
   "execution_count": null,
   "id": "03f75e73",
   "metadata": {},
   "outputs": [],
   "source": []
  },
  {
   "cell_type": "code",
   "execution_count": null,
   "id": "8e508dbf",
   "metadata": {},
   "outputs": [],
   "source": []
  }
 ],
 "metadata": {
  "kernelspec": {
   "display_name": "Python 3 (ipykernel)",
   "language": "python",
   "name": "python3"
  },
  "language_info": {
   "codemirror_mode": {
    "name": "ipython",
    "version": 3
   },
   "file_extension": ".py",
   "mimetype": "text/x-python",
   "name": "python",
   "nbconvert_exporter": "python",
   "pygments_lexer": "ipython3",
   "version": "3.9.12"
  }
 },
 "nbformat": 4,
 "nbformat_minor": 5
}
