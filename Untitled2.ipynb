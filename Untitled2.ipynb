{
 "cells": [
  {
   "cell_type": "code",
   "execution_count": 4,
   "id": "23affbf7",
   "metadata": {},
   "outputs": [
    {
     "name": "stdout",
     "output_type": "stream",
     "text": [
      "The Cube of a Given Number 1 is : 1\n",
      "Current Number is : 1  and the cube is 1 \n",
      "The Cube of a Given Number 2 is : 8\n",
      "Current Number is : 2  and the cube is 8 \n",
      "The Cube of a Given Number 3 is : 27\n",
      "Current Number is : 3  and the cube is 27 \n"
     ]
    }
   ],
   "source": [
    "number = [1,2,3]\n",
    "for i in number:\n",
    "    x = i**3\n",
    "    y = print(\"The Cube of a Given Number {} is : {}\" .format(i, x))\n",
    "    z = print(\"Current Number is : {}  and the cube is {} \" .format(i, x))\n",
    "   "
   ]
  },
  {
   "cell_type": "code",
   "execution_count": 6,
   "id": "c00b8e27",
   "metadata": {},
   "outputs": [
    {
     "ename": "SyntaxError",
     "evalue": "invalid syntax (3137017445.py, line 1)",
     "output_type": "error",
     "traceback": [
      "\u001b[1;36m  Input \u001b[1;32mIn [6]\u001b[1;36m\u001b[0m\n\u001b[1;33m    // Function for finding summation\u001b[0m\n\u001b[1;37m    ^\u001b[0m\n\u001b[1;31mSyntaxError\u001b[0m\u001b[1;31m:\u001b[0m invalid syntax\n"
     ]
    }
   ],
   "source": [
    "// Function for finding summation\n",
    "int summation(int n)\n",
    "{\n",
    "    int sum = 0, j = 1;\n",
    "    for (int i = 1; i <= n; i++) {\n",
    "        sum = sum + j;\n",
    " \n",
    "        // Appending a 1 at the end\n",
    "        j = (j * 10) + 1;\n",
    "    }\n",
    " \n",
    "    return sum;\n",
    "}\n",
    " \n",
    "// Driver Code\n",
    "int main()\n",
    "{\n",
    "    int n = 5;\n",
    "    cout << \" \" <<  summation(n);\n",
    "    return 0;\n",
    "}"
   ]
  },
  {
   "cell_type": "code",
   "execution_count": null,
   "id": "556a271f",
   "metadata": {},
   "outputs": [],
   "source": []
  }
 ],
 "metadata": {
  "kernelspec": {
   "display_name": "Python 3 (ipykernel)",
   "language": "python",
   "name": "python3"
  },
  "language_info": {
   "codemirror_mode": {
    "name": "ipython",
    "version": 3
   },
   "file_extension": ".py",
   "mimetype": "text/x-python",
   "name": "python",
   "nbconvert_exporter": "python",
   "pygments_lexer": "ipython3",
   "version": "3.9.12"
  }
 },
 "nbformat": 4,
 "nbformat_minor": 5
}
