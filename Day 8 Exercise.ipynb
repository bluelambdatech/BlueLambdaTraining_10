{
 "cells": [
  {
   "cell_type": "markdown",
   "id": "d16fcd0e",
   "metadata": {},
   "source": [
    "#### Write a Python function that accepts a string and calculate the number of upper case and lower case letters.\n",
    "\n",
    "Sample String: 'The quick Brown Fox'\n",
    "\n",
    "Expected Output:\n",
    "\n",
    "No of Uppercase characters: 3\n",
    "No of Lowerxase characters: 12"
   ]
  },
  {
   "cell_type": "code",
   "execution_count": 4,
   "id": "063c9fdd",
   "metadata": {},
   "outputs": [],
   "source": [
    "def print_count(string):\n",
    "    pass"
   ]
  },
  {
   "cell_type": "code",
   "execution_count": 30,
   "id": "2a7ac61b",
   "metadata": {},
   "outputs": [],
   "source": [
    "inp = 'The quick Brown Fox'"
   ]
  },
  {
   "cell_type": "code",
   "execution_count": 36,
   "id": "291eed92",
   "metadata": {},
   "outputs": [
    {
     "name": "stdout",
     "output_type": "stream",
     "text": [
      "3\n",
      "13\n"
     ]
    }
   ],
   "source": [
    "output_upper = []\n",
    "output_lower = []\n",
    "\n",
    "for char in inp:\n",
    "    output_upper.append(char.isupper())\n",
    "    output_lower.append(char.islower())\n",
    "print(sum(output_upper))\n",
    "print(sum(output_lower))\n"
   ]
  },
  {
   "cell_type": "code",
   "execution_count": 37,
   "id": "532015ae",
   "metadata": {},
   "outputs": [
    {
     "name": "stdout",
     "output_type": "stream",
     "text": [
      "16\n"
     ]
    }
   ],
   "source": [
    "print(len(inp)-sum(output_upper))"
   ]
  },
  {
   "cell_type": "code",
   "execution_count": 38,
   "id": "83af42b1",
   "metadata": {},
   "outputs": [
    {
     "name": "stdout",
     "output_type": "stream",
     "text": [
      "3\n"
     ]
    }
   ],
   "source": [
    "print(sum([char.isupper() for char in inp]))"
   ]
  },
  {
   "cell_type": "code",
   "execution_count": null,
   "id": "8b682401",
   "metadata": {},
   "outputs": [],
   "source": []
  },
  {
   "cell_type": "code",
   "execution_count": null,
   "id": "b9f02cbd",
   "metadata": {},
   "outputs": [],
   "source": []
  },
  {
   "cell_type": "code",
   "execution_count": null,
   "id": "80bc8b1a",
   "metadata": {},
   "outputs": [],
   "source": []
  },
  {
   "cell_type": "markdown",
   "id": "9fa98a56",
   "metadata": {},
   "source": [
    "Write a Python function to calculate the factorial of a number (a non-negative integer). The function accepts the number as an argument"
   ]
  },
  {
   "cell_type": "code",
   "execution_count": null,
   "id": "f4f80854",
   "metadata": {},
   "outputs": [],
   "source": []
  },
  {
   "cell_type": "code",
   "execution_count": null,
   "id": "6e225ea4",
   "metadata": {},
   "outputs": [],
   "source": []
  },
  {
   "cell_type": "code",
   "execution_count": null,
   "id": "de70024d",
   "metadata": {},
   "outputs": [],
   "source": []
  },
  {
   "cell_type": "code",
   "execution_count": null,
   "id": "533b620e",
   "metadata": {},
   "outputs": [],
   "source": []
  },
  {
   "cell_type": "markdown",
   "id": "de861a4f",
   "metadata": {},
   "source": [
    "Write a Python function to check whether a number is perfect or not. \n",
    "Go to the editor\n",
    "According to Wikipedia : In number theory, a perfect number is a positive integer that\n",
    "is equal to the sum of its proper positive divisors, that is, the sum of its positive \n",
    "divisors excluding the number itself (also known as its aliquot sum). Equivalently, a \n",
    "perfect number is a number that is half the sum of all of its positive divisors (\n",
    "including itself).\n",
    "\n",
    "Example : The first perfect number is 6, because 1, 2, and 3 are its proper positive divisors,\n",
    "    and 1 + 2 + 3 = 6. Equivalently, the number 6 is equal to half the sum of all its positive \n",
    "    divisors: ( 1 + 2 + 3 + 6 ) / 2 = 6. The next perfect number is 28 = 1 + 2 + 4 + 7 + 14. \n",
    "    This is followed by the perfect numbers 496 and 8128"
   ]
  },
  {
   "cell_type": "code",
   "execution_count": null,
   "id": "6e07a8aa",
   "metadata": {},
   "outputs": [],
   "source": []
  },
  {
   "cell_type": "code",
   "execution_count": null,
   "id": "dd69749f",
   "metadata": {},
   "outputs": [],
   "source": []
  },
  {
   "cell_type": "code",
   "execution_count": null,
   "id": "fbf1a361",
   "metadata": {},
   "outputs": [],
   "source": []
  },
  {
   "cell_type": "code",
   "execution_count": null,
   "id": "1670fe01",
   "metadata": {},
   "outputs": [],
   "source": []
  },
  {
   "cell_type": "code",
   "execution_count": null,
   "id": "11cffbe7",
   "metadata": {},
   "outputs": [],
   "source": []
  },
  {
   "cell_type": "markdown",
   "id": "a3c1bd4a",
   "metadata": {},
   "source": [
    "Write a Python program that accepts a hyphen-separated sequence of words as input and prints the words in a hyphen-separated sequence after sorting them alphabetically. \n",
    "Go to the editor\n",
    "Sample Items : green-red-yellow-black-white\n",
    "Expected Result : black-green-red-white-yellow"
   ]
  },
  {
   "cell_type": "code",
   "execution_count": 19,
   "id": "e07be968",
   "metadata": {},
   "outputs": [
    {
     "name": "stdout",
     "output_type": "stream",
     "text": [
      "Please enter colours, separated by hyphen:- green-red-yellow-black-white\n"
     ]
    }
   ],
   "source": [
    "colors = input(f'Please enter colours, separated by hyphen:- ')"
   ]
  },
  {
   "cell_type": "code",
   "execution_count": 26,
   "id": "c093c177",
   "metadata": {},
   "outputs": [
    {
     "name": "stdout",
     "output_type": "stream",
     "text": [
      "black-green-red-white-yellow\n"
     ]
    }
   ],
   "source": [
    "colors_list = colors.split('-') # split the string at '-' into a list \n",
    "colors_list.sort()  # sort the list\n",
    "output = '-'.join(colors_list)  #join the list items with '-'\n",
    "print(output)"
   ]
  },
  {
   "cell_type": "code",
   "execution_count": null,
   "id": "72418d58",
   "metadata": {},
   "outputs": [],
   "source": []
  },
  {
   "cell_type": "code",
   "execution_count": 28,
   "id": "805cc5eb",
   "metadata": {},
   "outputs": [
    {
     "name": "stdout",
     "output_type": "stream",
     "text": [
      "Please enter colours, separated by hyphen: green-red-yellow-black-white\n"
     ]
    },
    {
     "data": {
      "text/plain": [
       "'black-green-red-white-yellow'"
      ]
     },
     "execution_count": 28,
     "metadata": {},
     "output_type": "execute_result"
    }
   ],
   "source": [
    "def clr_sort(string):\n",
    "    clr_list = colors.split('-')\n",
    "    clr_list.sort()\n",
    "    output = '-'.join(clr_list)\n",
    "    return output\n",
    "\n",
    "sample_colors = input(f'Please enter colours, separated by hyphen: ')\n",
    "\n",
    "clr_sort(sample_colors)"
   ]
  },
  {
   "cell_type": "code",
   "execution_count": null,
   "id": "7d73bf07",
   "metadata": {},
   "outputs": [],
   "source": []
  },
  {
   "cell_type": "code",
   "execution_count": null,
   "id": "1e6ae5c4",
   "metadata": {},
   "outputs": [],
   "source": []
  },
  {
   "cell_type": "markdown",
   "id": "6a8a2756",
   "metadata": {},
   "source": [
    "Write a Python function to multiply all the numbers in a list. Go to the editor\n",
    "Sample List : (8, 2, 3, -1, 7)\n",
    "Expected Output : -336"
   ]
  },
  {
   "cell_type": "code",
   "execution_count": 16,
   "id": "485a908f",
   "metadata": {},
   "outputs": [],
   "source": [
    "def mulpy(a, b, c, d, e):\n",
    "    n = a * b * c * d * e\n",
    "    return n"
   ]
  },
  {
   "cell_type": "code",
   "execution_count": 17,
   "id": "cab0bf14",
   "metadata": {},
   "outputs": [
    {
     "data": {
      "text/plain": [
       "-336"
      ]
     },
     "execution_count": 17,
     "metadata": {},
     "output_type": "execute_result"
    }
   ],
   "source": [
    "mulpy(8,2,3,-1,7)"
   ]
  },
  {
   "cell_type": "code",
   "execution_count": null,
   "id": "f3597c42",
   "metadata": {},
   "outputs": [],
   "source": []
  },
  {
   "cell_type": "markdown",
   "id": "92d03920",
   "metadata": {},
   "source": [
    "Write a Python Function to guess a number between 1 to 9. \n",
    "\n",
    "Go to the editor\n",
    "Note : User is prompted to enter a guess. If the user guesses wrong then the prompt appears again until the guess is correct, on successful guess, user will get a \"Well guessed!\" message, and the program will exit."
   ]
  },
  {
   "cell_type": "code",
   "execution_count": null,
   "id": "bc221735",
   "metadata": {},
   "outputs": [],
   "source": []
  },
  {
   "cell_type": "code",
   "execution_count": null,
   "id": "ddb0acb0",
   "metadata": {},
   "outputs": [],
   "source": []
  },
  {
   "cell_type": "code",
   "execution_count": null,
   "id": "fb3b4738",
   "metadata": {},
   "outputs": [],
   "source": []
  },
  {
   "cell_type": "markdown",
   "id": "249cd65d",
   "metadata": {},
   "source": [
    "Write a Python program to find those numbers which are divisible by 7 and multiple of 5, between 1500 and 2700 \n",
    "(both included)"
   ]
  },
  {
   "cell_type": "code",
   "execution_count": 12,
   "id": "a94c3a2d",
   "metadata": {},
   "outputs": [
    {
     "name": "stdout",
     "output_type": "stream",
     "text": [
      "1505\n",
      "1540\n",
      "1575\n",
      "1610\n",
      "1645\n",
      "1680\n",
      "1715\n",
      "1750\n",
      "1785\n",
      "1820\n",
      "1855\n",
      "1890\n",
      "1925\n",
      "1960\n",
      "1995\n",
      "2030\n",
      "2065\n",
      "2100\n",
      "2135\n",
      "2170\n",
      "2205\n",
      "2240\n",
      "2275\n",
      "2310\n",
      "2345\n",
      "2380\n",
      "2415\n",
      "2450\n",
      "2485\n",
      "2520\n",
      "2555\n",
      "2590\n",
      "2625\n",
      "2660\n",
      "2695\n"
     ]
    }
   ],
   "source": [
    "for x in range(1500,2701):\n",
    "    if (x % 7 == 0 and x % 5 == 0):\n",
    "        print(x)"
   ]
  }
 ],
 "metadata": {
  "kernelspec": {
   "display_name": "Python 3 (ipykernel)",
   "language": "python",
   "name": "python3"
  },
  "language_info": {
   "codemirror_mode": {
    "name": "ipython",
    "version": 3
   },
   "file_extension": ".py",
   "mimetype": "text/x-python",
   "name": "python",
   "nbconvert_exporter": "python",
   "pygments_lexer": "ipython3",
   "version": "3.9.12"
  }
 },
 "nbformat": 4,
 "nbformat_minor": 5
}
