{
 "cells": [
  {
   "cell_type": "code",
   "execution_count": 1,
   "id": "ae32a57a",
   "metadata": {},
   "outputs": [
    {
     "name": "stdout",
     "output_type": "stream",
     "text": [
      "hello world\n"
     ]
    }
   ],
   "source": [
    "print ('hello world')"
   ]
  },
  {
   "cell_type": "code",
   "execution_count": 3,
   "id": "4e2fd0a6",
   "metadata": {},
   "outputs": [],
   "source": [
    "name = ['Oma']"
   ]
  },
  {
   "cell_type": "code",
   "execution_count": 4,
   "id": "294ad695",
   "metadata": {},
   "outputs": [],
   "source": [
    "name1 = 'Mary'\n",
    "name2 = 'Anna'\n",
    "name3 = 'Rosa'"
   ]
  },
  {
   "cell_type": "code",
   "execution_count": 5,
   "id": "3cf4d908",
   "metadata": {},
   "outputs": [
    {
     "data": {
      "text/plain": [
       "'Mary'"
      ]
     },
     "execution_count": 5,
     "metadata": {},
     "output_type": "execute_result"
    }
   ],
   "source": [
    "name1"
   ]
  },
  {
   "cell_type": "code",
   "execution_count": null,
   "id": "d1125c21",
   "metadata": {},
   "outputs": [],
   "source": []
  }
 ],
 "metadata": {
  "kernelspec": {
   "display_name": "Python 3 (ipykernel)",
   "language": "python",
   "name": "python3"
  },
  "language_info": {
   "codemirror_mode": {
    "name": "ipython",
    "version": 3
   },
   "file_extension": ".py",
   "mimetype": "text/x-python",
   "name": "python",
   "nbconvert_exporter": "python",
   "pygments_lexer": "ipython3",
   "version": "3.9.12"
  }
 },
 "nbformat": 4,
 "nbformat_minor": 5
}
