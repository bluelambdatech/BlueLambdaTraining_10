{
 "cells": [
  {
   "cell_type": "code",
   "execution_count": 1,
   "id": "ae32a57a",
   "metadata": {},
   "outputs": [
    {
     "name": "stdout",
     "output_type": "stream",
     "text": [
      "hello world\n"
     ]
    }
   ],
   "source": [
    "print ('hello world')"
   ]
  },
  {
   "cell_type": "code",
   "execution_count": 3,
   "id": "4e2fd0a6",
   "metadata": {},
   "outputs": [],
   "source": [
    "name = ['Oma']"
   ]
  },
  {
   "cell_type": "code",
   "execution_count": 4,
   "id": "294ad695",
   "metadata": {},
   "outputs": [],
   "source": [
    "name1 = 'Mary'\n",
    "name2 = 'Anna'\n",
    "name3 = 'Rosa'"
   ]
  },
  {
   "cell_type": "code",
   "execution_count": 5,
   "id": "3cf4d908",
   "metadata": {},
   "outputs": [
    {
     "data": {
      "text/plain": [
       "'Mary'"
      ]
     },
     "execution_count": 5,
     "metadata": {},
     "output_type": "execute_result"
    }
   ],
   "source": [
    "name1"
   ]
  },
  {
   "cell_type": "code",
   "execution_count": 10,
   "id": "d1125c21",
   "metadata": {},
   "outputs": [
    {
     "data": {
      "text/plain": [
       "5"
      ]
     },
     "execution_count": 10,
     "metadata": {},
     "output_type": "execute_result"
    }
   ],
   "source": [
    "5"
   ]
  },
  {
   "cell_type": "code",
   "execution_count": 11,
   "id": "b825bcea",
   "metadata": {},
   "outputs": [
    {
     "data": {
      "text/plain": [
       "'56'"
      ]
     },
     "execution_count": 11,
     "metadata": {},
     "output_type": "execute_result"
    }
   ],
   "source": [
    "'5' + '6'"
   ]
  },
  {
   "cell_type": "code",
   "execution_count": 13,
   "id": "5914856f",
   "metadata": {},
   "outputs": [
    {
     "data": {
      "text/plain": [
       "'5.05.0'"
      ]
     },
     "execution_count": 13,
     "metadata": {},
     "output_type": "execute_result"
    }
   ],
   "source": [
    "'5.0' + '5.0'"
   ]
  },
  {
   "cell_type": "code",
   "execution_count": 14,
   "id": "33b775a4",
   "metadata": {},
   "outputs": [
    {
     "data": {
      "text/plain": [
       "10"
      ]
     },
     "execution_count": 14,
     "metadata": {},
     "output_type": "execute_result"
    }
   ],
   "source": [
    "5+5"
   ]
  },
  {
   "cell_type": "code",
   "execution_count": 15,
   "id": "1f23bc66",
   "metadata": {},
   "outputs": [
    {
     "data": {
      "text/plain": [
       "10.0"
      ]
     },
     "execution_count": 15,
     "metadata": {},
     "output_type": "execute_result"
    }
   ],
   "source": [
    "5.0 + 5.0"
   ]
  },
  {
   "cell_type": "code",
   "execution_count": 16,
   "id": "b55827ee",
   "metadata": {},
   "outputs": [
    {
     "data": {
      "text/plain": [
       "10"
      ]
     },
     "execution_count": 16,
     "metadata": {},
     "output_type": "execute_result"
    }
   ],
   "source": [
    "int (\"5\") + int (\"5\")"
   ]
  },
  {
   "cell_type": "code",
   "execution_count": 17,
   "id": "592a5296",
   "metadata": {},
   "outputs": [
    {
     "data": {
      "text/plain": [
       "'Hello World'"
      ]
     },
     "execution_count": 17,
     "metadata": {},
     "output_type": "execute_result"
    }
   ],
   "source": [
    "\"Hello World\""
   ]
  },
  {
   "cell_type": "code",
   "execution_count": 18,
   "id": "2ea385eb",
   "metadata": {},
   "outputs": [
    {
     "data": {
      "text/plain": [
       "'hello world'"
      ]
     },
     "execution_count": 18,
     "metadata": {},
     "output_type": "execute_result"
    }
   ],
   "source": [
    "'hello world'"
   ]
  },
  {
   "cell_type": "code",
   "execution_count": 19,
   "id": "73ad6185",
   "metadata": {},
   "outputs": [
    {
     "data": {
      "text/plain": [
       "\"don't copy\""
      ]
     },
     "execution_count": 19,
     "metadata": {},
     "output_type": "execute_result"
    }
   ],
   "source": [
    "\"don't copy\""
   ]
  },
  {
   "cell_type": "code",
   "execution_count": 21,
   "id": "c0bbd97a",
   "metadata": {},
   "outputs": [
    {
     "data": {
      "text/plain": [
       "\"don't copy\""
      ]
     },
     "execution_count": 21,
     "metadata": {},
     "output_type": "execute_result"
    }
   ],
   "source": [
    "\"don't copy\" "
   ]
  },
  {
   "cell_type": "code",
   "execution_count": 22,
   "id": "13e6ee94",
   "metadata": {},
   "outputs": [
    {
     "data": {
      "text/plain": [
       "'she said \"I wont\"'"
      ]
     },
     "execution_count": 22,
     "metadata": {},
     "output_type": "execute_result"
    }
   ],
   "source": [
    "'she said \"I wont\"'"
   ]
  },
  {
   "cell_type": "code",
   "execution_count": 26,
   "id": "f136acd5",
   "metadata": {},
   "outputs": [
    {
     "data": {
      "text/plain": [
       "5"
      ]
     },
     "execution_count": 26,
     "metadata": {},
     "output_type": "execute_result"
    }
   ],
   "source": [
    "int ('5')"
   ]
  },
  {
   "cell_type": "code",
   "execution_count": 27,
   "id": "86f8a340",
   "metadata": {},
   "outputs": [
    {
     "data": {
      "text/plain": [
       "'HelloWorld'"
      ]
     },
     "execution_count": 27,
     "metadata": {},
     "output_type": "execute_result"
    }
   ],
   "source": [
    "\"Hello\" + \"World\""
   ]
  },
  {
   "cell_type": "code",
   "execution_count": 32,
   "id": "1a44e69f",
   "metadata": {},
   "outputs": [
    {
     "data": {
      "text/plain": [
       "'this costs 11 dollars'"
      ]
     },
     "execution_count": 32,
     "metadata": {},
     "output_type": "execute_result"
    }
   ],
   "source": [
    "\"this costs \"  + str(6+5) + \" dollars\""
   ]
  },
  {
   "cell_type": "raw",
   "id": "55171a6e",
   "metadata": {},
   "source": [
    "str ('5)"
   ]
  },
  {
   "cell_type": "code",
   "execution_count": 34,
   "id": "cef7ce25",
   "metadata": {},
   "outputs": [
    {
     "data": {
      "text/plain": [
       "'5'"
      ]
     },
     "execution_count": 34,
     "metadata": {},
     "output_type": "execute_result"
    }
   ],
   "source": [
    "str ('5')"
   ]
  },
  {
   "cell_type": "code",
   "execution_count": 36,
   "id": "26cbcd5f",
   "metadata": {},
   "outputs": [
    {
     "data": {
      "text/plain": [
       "'Hello:Nick'"
      ]
     },
     "execution_count": 36,
     "metadata": {},
     "output_type": "execute_result"
    }
   ],
   "source": [
    "\"Hello:Nick\""
   ]
  },
  {
   "cell_type": "code",
   "execution_count": 38,
   "id": "f73c49ec",
   "metadata": {},
   "outputs": [
    {
     "data": {
      "text/plain": [
       "['Hello', 'Nick']"
      ]
     },
     "execution_count": 38,
     "metadata": {},
     "output_type": "execute_result"
    }
   ],
   "source": [
    "\"Hello:Nick\".split(\":\")"
   ]
  },
  {
   "cell_type": "code",
   "execution_count": 40,
   "id": "7e2259ae",
   "metadata": {},
   "outputs": [
    {
     "data": {
      "text/plain": [
       "'My name is Nick'"
      ]
     },
     "execution_count": 40,
     "metadata": {},
     "output_type": "execute_result"
    }
   ],
   "source": [
    "\"My name is \" +  \"Hello:Nick\".split(\":\")[1]"
   ]
  },
  {
   "cell_type": "code",
   "execution_count": 41,
   "id": "a29a9863",
   "metadata": {},
   "outputs": [
    {
     "data": {
      "text/plain": [
       "True"
      ]
     },
     "execution_count": 41,
     "metadata": {},
     "output_type": "execute_result"
    }
   ],
   "source": [
    "True"
   ]
  },
  {
   "cell_type": "code",
   "execution_count": 42,
   "id": "26907bb2",
   "metadata": {},
   "outputs": [
    {
     "data": {
      "text/plain": [
       "True"
      ]
     },
     "execution_count": 42,
     "metadata": {},
     "output_type": "execute_result"
    }
   ],
   "source": [
    "5==5"
   ]
  },
  {
   "cell_type": "code",
   "execution_count": 44,
   "id": "5cc919b8",
   "metadata": {},
   "outputs": [
    {
     "data": {
      "text/plain": [
       "False"
      ]
     },
     "execution_count": 44,
     "metadata": {},
     "output_type": "execute_result"
    }
   ],
   "source": [
    "5 == 4"
   ]
  },
  {
   "cell_type": "code",
   "execution_count": 48,
   "id": "1a8ca2e3",
   "metadata": {},
   "outputs": [
    {
     "data": {
      "text/plain": [
       "True"
      ]
     },
     "execution_count": 48,
     "metadata": {},
     "output_type": "execute_result"
    }
   ],
   "source": [
    "\"this\" == \"this\""
   ]
  },
  {
   "cell_type": "code",
   "execution_count": 49,
   "id": "963a906a",
   "metadata": {},
   "outputs": [
    {
     "data": {
      "text/plain": [
       "['Movies', 'Games', 'Python', 'Tennis']"
      ]
     },
     "execution_count": 49,
     "metadata": {},
     "output_type": "execute_result"
    }
   ],
   "source": [
    "[\"Movies\", \"Games\", \"Python\", \"Tennis\" ]"
   ]
  },
  {
   "cell_type": "code",
   "execution_count": 65,
   "id": "d974d312",
   "metadata": {},
   "outputs": [
    {
     "data": {
      "text/plain": [
       "'Tennis'"
      ]
     },
     "execution_count": 65,
     "metadata": {},
     "output_type": "execute_result"
    }
   ],
   "source": [
    "[\"Movies\", \"Games\", \"Python\", \"Tennis\"] [3]"
   ]
  },
  {
   "cell_type": "code",
   "execution_count": 55,
   "id": "cf4a12ee",
   "metadata": {},
   "outputs": [
    {
     "name": "stdout",
     "output_type": "stream",
     "text": [
      "I Love Tennis\n"
     ]
    }
   ],
   "source": [
    "print (\"I Love \" +[\"Movies\", \"Games\", \"Python\", \"Tennis\"] [3])"
   ]
  },
  {
   "cell_type": "code",
   "execution_count": 57,
   "id": "b01b0caa",
   "metadata": {},
   "outputs": [
    {
     "name": "stdout",
     "output_type": "stream",
     "text": [
      "I Love 21\n"
     ]
    }
   ],
   "source": [
    "print (\"I Love \" +[\"Movies\", \"Games\", str(21), \"Python\", \"Tennis\"] [2])"
   ]
  },
  {
   "cell_type": "code",
   "execution_count": 58,
   "id": "684d9095",
   "metadata": {},
   "outputs": [
    {
     "name": "stdout",
     "output_type": "stream",
     "text": [
      "I Love 21\n"
     ]
    }
   ],
   "source": [
    "print (\"I Love \" +[\"Movies\", \"Games\", '21', \"Python\", \"Tennis\"] [2])"
   ]
  },
  {
   "cell_type": "code",
   "execution_count": 62,
   "id": "e6a040e1",
   "metadata": {},
   "outputs": [
    {
     "data": {
      "text/plain": [
       "{'name': 'Tyler', 'age': 27, 'hobby': 'tennis'}"
      ]
     },
     "execution_count": 62,
     "metadata": {},
     "output_type": "execute_result"
    }
   ],
   "source": [
    "{\"name\": \"Tyler\", \"age\": 27, \"hobby\": \"tennis\"}"
   ]
  },
  {
   "cell_type": "code",
   "execution_count": 64,
   "id": "9acef3d7",
   "metadata": {},
   "outputs": [
    {
     "data": {
      "text/plain": [
       "'Tyler'"
      ]
     },
     "execution_count": 64,
     "metadata": {},
     "output_type": "execute_result"
    }
   ],
   "source": [
    "{\"name\": \"Tyler\", \"age\": 27, \"hobby\": \"tennis\"} [\"name\"]"
   ]
  },
  {
   "cell_type": "code",
   "execution_count": 66,
   "id": "0cedde76",
   "metadata": {},
   "outputs": [
    {
     "data": {
      "text/plain": [
       "'tennis'"
      ]
     },
     "execution_count": 66,
     "metadata": {},
     "output_type": "execute_result"
    }
   ],
   "source": [
    "{\"name\": \"Tyler\", \"age\": 27, \"hobby\": \"tennis\"} [\"hobby\"]"
   ]
  },
  {
   "cell_type": "code",
   "execution_count": 67,
   "id": "eede4024",
   "metadata": {},
   "outputs": [],
   "source": [
    "A= \"Hello\""
   ]
  },
  {
   "cell_type": "code",
   "execution_count": 69,
   "id": "542a9398",
   "metadata": {},
   "outputs": [
    {
     "name": "stdout",
     "output_type": "stream",
     "text": [
      "Hello\n"
     ]
    }
   ],
   "source": [
    "print (A)"
   ]
  },
  {
   "cell_type": "code",
   "execution_count": 76,
   "id": "04761243",
   "metadata": {},
   "outputs": [],
   "source": [
    "greeting = \"Hello everyone!\""
   ]
  },
  {
   "cell_type": "code",
   "execution_count": 78,
   "id": "29a4dbd7",
   "metadata": {},
   "outputs": [
    {
     "name": "stdout",
     "output_type": "stream",
     "text": [
      "Hello everyone!\n"
     ]
    }
   ],
   "source": [
    "print (greeting)"
   ]
  },
  {
   "cell_type": "code",
   "execution_count": 79,
   "id": "9d232217",
   "metadata": {},
   "outputs": [],
   "source": [
    "greeting = greeting.split(\" \") [0]"
   ]
  },
  {
   "cell_type": "code",
   "execution_count": 81,
   "id": "b2dd0f6c",
   "metadata": {},
   "outputs": [
    {
     "name": "stdout",
     "output_type": "stream",
     "text": [
      "Hello\n"
     ]
    }
   ],
   "source": [
    "print (greeting)"
   ]
  },
  {
   "cell_type": "code",
   "execution_count": 83,
   "id": "ee62451b",
   "metadata": {},
   "outputs": [
    {
     "name": "stdout",
     "output_type": "stream",
     "text": [
      "Hello Tyler\n"
     ]
    }
   ],
   "source": [
    "print (greeting + \" Tyler\")"
   ]
  },
  {
   "cell_type": "code",
   "execution_count": 84,
   "id": "01b75434",
   "metadata": {},
   "outputs": [
    {
     "data": {
      "text/plain": [
       "5"
      ]
     },
     "execution_count": 84,
     "metadata": {},
     "output_type": "execute_result"
    }
   ],
   "source": [
    "len (greeting)"
   ]
  },
  {
   "cell_type": "code",
   "execution_count": 85,
   "id": "98515413",
   "metadata": {},
   "outputs": [
    {
     "data": {
      "text/plain": [
       "5"
      ]
     },
     "execution_count": 85,
     "metadata": {},
     "output_type": "execute_result"
    }
   ],
   "source": [
    "len (greeting)"
   ]
  },
  {
   "cell_type": "code",
   "execution_count": 86,
   "id": "7deef4f9",
   "metadata": {},
   "outputs": [],
   "source": [
    "greeting = \"Hello everyone!\""
   ]
  },
  {
   "cell_type": "code",
   "execution_count": 87,
   "id": "022e8abe",
   "metadata": {},
   "outputs": [
    {
     "data": {
      "text/plain": [
       "15"
      ]
     },
     "execution_count": 87,
     "metadata": {},
     "output_type": "execute_result"
    }
   ],
   "source": [
    "len (greeting)"
   ]
  },
  {
   "cell_type": "code",
   "execution_count": 94,
   "id": "712e120f",
   "metadata": {},
   "outputs": [
    {
     "data": {
      "text/plain": [
       "[1, 2, 3, 4, 5, 6, 7, 9, 9]"
      ]
     },
     "execution_count": 94,
     "metadata": {},
     "output_type": "execute_result"
    }
   ],
   "source": [
    "sorted([2,5,7,9,3,6,9,4,1])"
   ]
  },
  {
   "cell_type": "code",
   "execution_count": 97,
   "id": "5e954596",
   "metadata": {},
   "outputs": [
    {
     "data": {
      "text/plain": [
       "['ball', 'cart', 'dog', 'train']"
      ]
     },
     "execution_count": 97,
     "metadata": {},
     "output_type": "execute_result"
    }
   ],
   "source": [
    "sorted([\"ball\", \"cart\", \"train\", \"dog\"])"
   ]
  },
  {
   "cell_type": "code",
   "execution_count": 100,
   "id": "517ba727",
   "metadata": {},
   "outputs": [
    {
     "data": {
      "text/plain": [
       "['5.9', '6', '8.3', 'Dog', 'Horse', 'ball', 'cart', 'train']"
      ]
     },
     "execution_count": 100,
     "metadata": {},
     "output_type": "execute_result"
    }
   ],
   "source": [
    "sorted([\"ball\", \"cart\", \"Horse\", \"train\", \"Dog\", \"5.9\",\"6\", \"8.3\"])"
   ]
  },
  {
   "cell_type": "code",
   "execution_count": 106,
   "id": "02139775",
   "metadata": {},
   "outputs": [],
   "source": [
    "def my_funct():\n",
    "    print (\"This is my new function!!\")\n",
    "    print (\"Second string\")"
   ]
  },
  {
   "cell_type": "code",
   "execution_count": 107,
   "id": "555c720e",
   "metadata": {},
   "outputs": [
    {
     "name": "stdout",
     "output_type": "stream",
     "text": [
      "This is my new function!!\n",
      "Second string\n"
     ]
    }
   ],
   "source": [
    "my_funct()"
   ]
  },
  {
   "cell_type": "code",
   "execution_count": 113,
   "id": "8c6a25c0",
   "metadata": {},
   "outputs": [],
   "source": [
    "def my_funct(str1, str2):\n",
    "    print (\"str1\")\n",
    "    print (\" str2\")"
   ]
  },
  {
   "cell_type": "code",
   "execution_count": 115,
   "id": "e4b38a97",
   "metadata": {},
   "outputs": [
    {
     "name": "stdout",
     "output_type": "stream",
     "text": [
      "str1\n",
      " str2\n"
     ]
    }
   ],
   "source": [
    "my_funct(\"This is my new function!!\",\"Second string\")"
   ]
  },
  {
   "cell_type": "code",
   "execution_count": 121,
   "id": "577f2958",
   "metadata": {},
   "outputs": [],
   "source": [
    "def print_something(name, age):\n",
    "    print(\"My name is \" + name + \" and my age is \" + str(age))"
   ]
  },
  {
   "cell_type": "code",
   "execution_count": 122,
   "id": "d312a08b",
   "metadata": {},
   "outputs": [
    {
     "name": "stdout",
     "output_type": "stream",
     "text": [
      "My name is Tyler and my age is 22\n"
     ]
    }
   ],
   "source": [
    "print_something(\"Tyler\",22)"
   ]
  },
  {
   "cell_type": "code",
   "execution_count": 126,
   "id": "a126678e",
   "metadata": {},
   "outputs": [],
   "source": [
    "def print_something(name, age):\n",
    "    print(\"My name is\", name, \"and my age is\", age)"
   ]
  },
  {
   "cell_type": "code",
   "execution_count": 127,
   "id": "1d7499a2",
   "metadata": {},
   "outputs": [
    {
     "name": "stdout",
     "output_type": "stream",
     "text": [
      "My name is Tyler and my age is 22\n"
     ]
    }
   ],
   "source": [
    "print_something(\"Tyler\",22)"
   ]
  },
  {
   "cell_type": "code",
   "execution_count": 136,
   "id": "59653456",
   "metadata": {},
   "outputs": [],
   "source": [
    "def print_something(name = \"Person\", age = \"unknown\"):\n",
    "    print(\"My name is\", name, \"and my age is\", age)"
   ]
  },
  {
   "cell_type": "code",
   "execution_count": 138,
   "id": "ba5a9d3d",
   "metadata": {},
   "outputs": [
    {
     "name": "stdout",
     "output_type": "stream",
     "text": [
      "My name is None and my age is 27\n"
     ]
    }
   ],
   "source": [
    "print_something(None,27)"
   ]
  },
  {
   "cell_type": "code",
   "execution_count": 139,
   "id": "76ddddc5",
   "metadata": {},
   "outputs": [
    {
     "name": "stdout",
     "output_type": "stream",
     "text": [
      "My name is None and my age is unknown\n"
     ]
    }
   ],
   "source": [
    "print_something(None)"
   ]
  },
  {
   "cell_type": "code",
   "execution_count": 140,
   "id": "db2c9b96",
   "metadata": {},
   "outputs": [
    {
     "name": "stdout",
     "output_type": "stream",
     "text": [
      "My name is 27 and my age is unknown\n"
     ]
    }
   ],
   "source": [
    "print_something(27)"
   ]
  },
  {
   "cell_type": "code",
   "execution_count": 141,
   "id": "7eb2157e",
   "metadata": {},
   "outputs": [
    {
     "name": "stdout",
     "output_type": "stream",
     "text": [
      "My name is Person and my age is unknown\n"
     ]
    }
   ],
   "source": [
    "print_something()"
   ]
  },
  {
   "cell_type": "code",
   "execution_count": 142,
   "id": "adbb871d",
   "metadata": {},
   "outputs": [
    {
     "name": "stdout",
     "output_type": "stream",
     "text": [
      "My name is Tyler and my age is 22\n"
     ]
    }
   ],
   "source": [
    "print_something(age =22, name = \"Tyler\")"
   ]
  },
  {
   "cell_type": "code",
   "execution_count": 161,
   "id": "4315ee0b",
   "metadata": {},
   "outputs": [],
   "source": [
    "def do_math (num1, num2):\n",
    "    return num1 + num2\n",
    "        "
   ]
  },
  {
   "cell_type": "code",
   "execution_count": 162,
   "id": "b445b39c",
   "metadata": {},
   "outputs": [
    {
     "data": {
      "text/plain": [
       "12"
      ]
     },
     "execution_count": 162,
     "metadata": {},
     "output_type": "execute_result"
    }
   ],
   "source": [
    "do_math(5,7)"
   ]
  },
  {
   "cell_type": "code",
   "execution_count": 169,
   "id": "943671c5",
   "metadata": {},
   "outputs": [],
   "source": [
    "math1 = do_math(5,7)\n",
    "math2 = do_math(11,34)"
   ]
  },
  {
   "cell_type": "code",
   "execution_count": 172,
   "id": "b4dab03c",
   "metadata": {},
   "outputs": [
    {
     "name": "stdout",
     "output_type": "stream",
     "text": [
      "12 45\n"
     ]
    }
   ],
   "source": [
    "print (math1, math2)"
   ]
  },
  {
   "cell_type": "code",
   "execution_count": 175,
   "id": "c9f7076f",
   "metadata": {},
   "outputs": [
    {
     "name": "stdout",
     "output_type": "stream",
     "text": [
      "sum is 12 and other sum is 45\n"
     ]
    }
   ],
   "source": [
    "print (\"sum is\", math1,\"and other sum is\",  math2)"
   ]
  },
  {
   "cell_type": "code",
   "execution_count": 182,
   "id": "eab41209",
   "metadata": {},
   "outputs": [],
   "source": [
    "check = True"
   ]
  },
  {
   "cell_type": "code",
   "execution_count": 201,
   "id": "a5db022c",
   "metadata": {},
   "outputs": [
    {
     "name": "stdout",
     "output_type": "stream",
     "text": [
      "This is false\n"
     ]
    }
   ],
   "source": [
    "if check == False:\n",
    "    print (\"This is false\")"
   ]
  },
  {
   "cell_type": "code",
   "execution_count": 202,
   "id": "c8d20faf",
   "metadata": {},
   "outputs": [
    {
     "name": "stdout",
     "output_type": "stream",
     "text": [
      "This is false\n"
     ]
    }
   ],
   "source": [
    "if check == False:\n",
    "    print (\"This is false\")\n",
    "else:\n",
    "    print(\"This is actually true\")"
   ]
  },
  {
   "cell_type": "code",
   "execution_count": null,
   "id": "0ea30fad",
   "metadata": {},
   "outputs": [],
   "source": []
  },
  {
   "cell_type": "code",
   "execution_count": 207,
   "id": "96520fe3",
   "metadata": {},
   "outputs": [
    {
     "name": "stdout",
     "output_type": "stream",
     "text": [
      "This is actually true\n"
     ]
    }
   ],
   "source": [
    "if check == True:\n",
    "    print (\"This is false\")\n",
    "else:\n",
    "    print(\"This is actually true\")"
   ]
  },
  {
   "cell_type": "code",
   "execution_count": 208,
   "id": "eecb3ac8",
   "metadata": {},
   "outputs": [
    {
     "name": "stdout",
     "output_type": "stream",
     "text": [
      "This is false\n"
     ]
    }
   ],
   "source": [
    "if check == False:\n",
    "    print (\"This is false\")"
   ]
  },
  {
   "cell_type": "code",
   "execution_count": 214,
   "id": "173d26f4",
   "metadata": {},
   "outputs": [
    {
     "name": "stdout",
     "output_type": "stream",
     "text": [
      "This is actually true\n"
     ]
    }
   ],
   "source": [
    "if check == True:\n",
    "    print (\"This is false\")\n",
    "elif check == \"Checkers\":\n",
    "    print (\"These are Checkers\")\n",
    "elif check == \"Toys\":\n",
    "    print (\"These are Toys\")\n",
    "else:\n",
    "    print(\"This is actually true\")"
   ]
  },
  {
   "cell_type": "code",
   "execution_count": 200,
   "id": "8167120e",
   "metadata": {},
   "outputs": [
    {
     "name": "stdout",
     "output_type": "stream",
     "text": [
      "This is false\n"
     ]
    }
   ],
   "source": [
    "if check == False:\n",
    "    print (\"This is false\")"
   ]
  },
  {
   "cell_type": "code",
   "execution_count": 223,
   "id": "64547ffa",
   "metadata": {},
   "outputs": [],
   "source": [
    "check = \"Checkers\""
   ]
  },
  {
   "cell_type": "code",
   "execution_count": 224,
   "id": "13690828",
   "metadata": {},
   "outputs": [
    {
     "name": "stdout",
     "output_type": "stream",
     "text": [
      "These are Checkers\n"
     ]
    }
   ],
   "source": [
    "if check == True:\n",
    "    print (\"This is false\")\n",
    "elif check == \"Checkers\":\n",
    "    print (\"These are Checkers\")\n",
    "elif check == \"Toys\":\n",
    "    print (\"These are Toys\")\n",
    "else:\n",
    "    print(\"This is actually true\")"
   ]
  },
  {
   "cell_type": "code",
   "execution_count": 225,
   "id": "eae12a95",
   "metadata": {},
   "outputs": [],
   "source": [
    "numbers = [1, 2, 3, 4, 5, 6]"
   ]
  },
  {
   "cell_type": "code",
   "execution_count": 228,
   "id": "82c916c2",
   "metadata": {},
   "outputs": [
    {
     "name": "stdout",
     "output_type": "stream",
     "text": [
      "1\n",
      "2\n",
      "3\n",
      "4\n",
      "5\n",
      "6\n"
     ]
    }
   ],
   "source": [
    "for item in numbers:\n",
    "    print (item)"
   ]
  },
  {
   "cell_type": "code",
   "execution_count": 229,
   "id": "05b1b294",
   "metadata": {},
   "outputs": [],
   "source": [
    "numbers = [\"Tyler\", \"Someone\", \"Person\",\"Age\"]"
   ]
  },
  {
   "cell_type": "code",
   "execution_count": 230,
   "id": "fc5dad81",
   "metadata": {},
   "outputs": [
    {
     "name": "stdout",
     "output_type": "stream",
     "text": [
      "Tyler\n",
      "Someone\n",
      "Person\n",
      "Age\n"
     ]
    }
   ],
   "source": [
    "for item in numbers:\n",
    "    print (item)"
   ]
  },
  {
   "cell_type": "code",
   "execution_count": 231,
   "id": "4d02c31c",
   "metadata": {},
   "outputs": [
    {
     "name": "stdout",
     "output_type": "stream",
     "text": [
      "This Persons name is Tyler\n",
      "This Persons name is Someone\n",
      "This Persons name is Person\n",
      "This Persons name is Age\n"
     ]
    }
   ],
   "source": [
    "for item in numbers:\n",
    "    print (\"This Persons name is\", item)"
   ]
  },
  {
   "cell_type": "code",
   "execution_count": 232,
   "id": "3a40e248",
   "metadata": {},
   "outputs": [],
   "source": [
    "run = True\n",
    "current = 1"
   ]
  },
  {
   "cell_type": "code",
   "execution_count": 233,
   "id": "ee0ddcbe",
   "metadata": {},
   "outputs": [
    {
     "name": "stdout",
     "output_type": "stream",
     "text": [
      "1\n",
      "2\n",
      "3\n",
      "4\n",
      "5\n",
      "6\n",
      "7\n",
      "8\n",
      "9\n",
      "10\n",
      "11\n",
      "12\n",
      "13\n",
      "14\n",
      "15\n",
      "16\n",
      "17\n",
      "18\n",
      "19\n",
      "20\n",
      "21\n",
      "22\n",
      "23\n",
      "24\n",
      "25\n",
      "26\n",
      "27\n",
      "28\n",
      "29\n",
      "30\n",
      "31\n",
      "32\n",
      "33\n",
      "34\n",
      "35\n",
      "36\n",
      "37\n",
      "38\n",
      "39\n",
      "40\n",
      "41\n",
      "42\n",
      "43\n",
      "44\n",
      "45\n",
      "46\n",
      "47\n",
      "48\n",
      "49\n",
      "50\n",
      "51\n",
      "52\n",
      "53\n",
      "54\n",
      "55\n",
      "56\n",
      "57\n",
      "58\n",
      "59\n",
      "60\n",
      "61\n",
      "62\n",
      "63\n",
      "64\n",
      "65\n",
      "66\n",
      "67\n",
      "68\n",
      "69\n",
      "70\n",
      "71\n",
      "72\n",
      "73\n",
      "74\n",
      "75\n",
      "76\n",
      "77\n",
      "78\n",
      "79\n",
      "80\n",
      "81\n",
      "82\n",
      "83\n",
      "84\n",
      "85\n",
      "86\n",
      "87\n",
      "88\n",
      "89\n",
      "90\n",
      "91\n",
      "92\n",
      "93\n",
      "94\n",
      "95\n",
      "96\n",
      "97\n",
      "98\n",
      "99\n"
     ]
    }
   ],
   "source": [
    "while run:\n",
    "    if current == 100:\n",
    "        run= False\n",
    "    else:\n",
    "        print (current)\n",
    "        current += 1"
   ]
  },
  {
   "cell_type": "code",
   "execution_count": null,
   "id": "3948e3fd",
   "metadata": {},
   "outputs": [],
   "source": []
  }
 ],
 "metadata": {
  "kernelspec": {
   "display_name": "Python 3 (ipykernel)",
   "language": "python",
   "name": "python3"
  },
  "language_info": {
   "codemirror_mode": {
    "name": "ipython",
    "version": 3
   },
   "file_extension": ".py",
   "mimetype": "text/x-python",
   "name": "python",
   "nbconvert_exporter": "python",
   "pygments_lexer": "ipython3",
   "version": "3.9.12"
  }
 },
 "nbformat": 4,
 "nbformat_minor": 5
}
