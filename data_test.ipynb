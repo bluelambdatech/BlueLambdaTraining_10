{
 "cells": [
  {
   "cell_type": "code",
   "execution_count": 1,
   "id": "ae32a57a",
   "metadata": {},
   "outputs": [
    {
     "name": "stdout",
     "output_type": "stream",
     "text": [
      "hello world\n"
     ]
    }
   ],
   "source": [
    "print ('hello world')"
   ]
  },
  {
   "cell_type": "code",
   "execution_count": 3,
   "id": "4e2fd0a6",
   "metadata": {},
   "outputs": [],
   "source": [
    "name = ['Oma']"
   ]
  },
  {
   "cell_type": "code",
   "execution_count": 4,
   "id": "294ad695",
   "metadata": {},
   "outputs": [],
   "source": [
    "name1 = 'Mary'\n",
    "name2 = 'Anna'\n",
    "name3 = 'Rosa'"
   ]
  },
  {
   "cell_type": "code",
   "execution_count": 5,
   "id": "3cf4d908",
   "metadata": {},
   "outputs": [
    {
     "data": {
      "text/plain": [
       "'Mary'"
      ]
     },
     "execution_count": 5,
     "metadata": {},
     "output_type": "execute_result"
    }
   ],
   "source": [
    "name1"
   ]
  },
  {
   "cell_type": "code",
   "execution_count": 10,
   "id": "d1125c21",
   "metadata": {},
   "outputs": [
    {
     "data": {
      "text/plain": [
       "5"
      ]
     },
     "execution_count": 10,
     "metadata": {},
     "output_type": "execute_result"
    }
   ],
   "source": [
    "5"
   ]
  },
  {
   "cell_type": "code",
   "execution_count": 11,
   "id": "d1f55a97",
   "metadata": {},
   "outputs": [
    {
     "data": {
      "text/plain": [
       "'56'"
      ]
     },
     "execution_count": 11,
     "metadata": {},
     "output_type": "execute_result"
    }
   ],
   "source": [
    "'5' + '6'"
   ]
  },
  {
   "cell_type": "code",
   "execution_count": 13,
   "id": "b47b0027",
   "metadata": {},
   "outputs": [
    {
     "data": {
      "text/plain": [
       "'5.05.0'"
      ]
     },
     "execution_count": 13,
     "metadata": {},
     "output_type": "execute_result"
    }
   ],
   "source": [
    "'5.0' + '5.0'"
   ]
  },
  {
   "cell_type": "code",
   "execution_count": 14,
   "id": "cab9741b",
   "metadata": {},
   "outputs": [
    {
     "data": {
      "text/plain": [
       "10"
      ]
     },
     "execution_count": 14,
     "metadata": {},
     "output_type": "execute_result"
    }
   ],
   "source": [
    "5+5"
   ]
  },
  {
   "cell_type": "code",
   "execution_count": 15,
   "id": "a6215a1f",
   "metadata": {},
   "outputs": [
    {
     "data": {
      "text/plain": [
       "10.0"
      ]
     },
     "execution_count": 15,
     "metadata": {},
     "output_type": "execute_result"
    }
   ],
   "source": [
    "5.0 + 5.0"
   ]
  },
  {
   "cell_type": "code",
   "execution_count": 16,
   "id": "e0b80b6f",
   "metadata": {},
   "outputs": [
    {
     "data": {
      "text/plain": [
       "10"
      ]
     },
     "execution_count": 16,
     "metadata": {},
     "output_type": "execute_result"
    }
   ],
   "source": [
    "int (\"5\") + int (\"5\")"
   ]
  },
  {
   "cell_type": "code",
   "execution_count": 17,
   "id": "dbdbdc0b",
   "metadata": {},
   "outputs": [
    {
     "data": {
      "text/plain": [
       "'Hello World'"
      ]
     },
     "execution_count": 17,
     "metadata": {},
     "output_type": "execute_result"
    }
   ],
   "source": [
    "\"Hello World\""
   ]
  },
  {
   "cell_type": "code",
   "execution_count": 18,
   "id": "cda95a57",
   "metadata": {},
   "outputs": [
    {
     "data": {
      "text/plain": [
       "'hello world'"
      ]
     },
     "execution_count": 18,
     "metadata": {},
     "output_type": "execute_result"
    }
   ],
   "source": [
    "'hello world'"
   ]
  },
  {
   "cell_type": "code",
   "execution_count": 19,
   "id": "3c6e22f4",
   "metadata": {},
   "outputs": [
    {
     "data": {
      "text/plain": [
       "\"don't copy\""
      ]
     },
     "execution_count": 19,
     "metadata": {},
     "output_type": "execute_result"
    }
   ],
   "source": [
    "\"don't copy\""
   ]
  },
  {
   "cell_type": "code",
   "execution_count": 21,
   "id": "a533012b",
   "metadata": {},
   "outputs": [
    {
     "data": {
      "text/plain": [
       "\"don't copy\""
      ]
     },
     "execution_count": 21,
     "metadata": {},
     "output_type": "execute_result"
    }
   ],
   "source": [
    "\"don't copy\" "
   ]
  },
  {
   "cell_type": "code",
   "execution_count": 22,
   "id": "f64ae150",
   "metadata": {},
   "outputs": [
    {
     "data": {
      "text/plain": [
       "'she said \"I wont\"'"
      ]
     },
     "execution_count": 22,
     "metadata": {},
     "output_type": "execute_result"
    }
   ],
   "source": [
    "'she said \"I wont\"'"
   ]
  },
  {
   "cell_type": "code",
   "execution_count": 26,
   "id": "80da198a",
   "metadata": {},
   "outputs": [
    {
     "data": {
      "text/plain": [
       "5"
      ]
     },
     "execution_count": 26,
     "metadata": {},
     "output_type": "execute_result"
    }
   ],
   "source": [
    "int ('5')"
   ]
  },
  {
   "cell_type": "code",
   "execution_count": 27,
   "id": "722e895f",
   "metadata": {},
   "outputs": [
    {
     "data": {
      "text/plain": [
       "'HelloWorld'"
      ]
     },
     "execution_count": 27,
     "metadata": {},
     "output_type": "execute_result"
    }
   ],
   "source": [
    "\"Hello\" + \"World\""
   ]
  },
  {
   "cell_type": "code",
   "execution_count": 32,
   "id": "7b2da05c",
   "metadata": {},
   "outputs": [
    {
     "data": {
      "text/plain": [
       "'this costs 11 dollars'"
      ]
     },
     "execution_count": 32,
     "metadata": {},
     "output_type": "execute_result"
    }
   ],
   "source": [
    "\"this costs \"  + str(6+5) + \" dollars\""
   ]
  },
  {
   "cell_type": "raw",
   "id": "bcc57164",
   "metadata": {},
   "source": [
    "str ('5)"
   ]
  },
  {
   "cell_type": "code",
   "execution_count": 34,
   "id": "1590c6f2",
   "metadata": {},
   "outputs": [
    {
     "data": {
      "text/plain": [
       "'5'"
      ]
     },
     "execution_count": 34,
     "metadata": {},
     "output_type": "execute_result"
    }
   ],
   "source": [
    "str ('5')"
   ]
  },
  {
   "cell_type": "code",
   "execution_count": 36,
   "id": "31db4c09",
   "metadata": {},
   "outputs": [
    {
     "data": {
      "text/plain": [
       "'Hello:Nick'"
      ]
     },
     "execution_count": 36,
     "metadata": {},
     "output_type": "execute_result"
    }
   ],
   "source": [
    "\"Hello:Nick\""
   ]
  },
  {
   "cell_type": "code",
   "execution_count": 38,
   "id": "3c2fa868",
   "metadata": {},
   "outputs": [
    {
     "data": {
      "text/plain": [
       "['Hello', 'Nick']"
      ]
     },
     "execution_count": 38,
     "metadata": {},
     "output_type": "execute_result"
    }
   ],
   "source": [
    "\"Hello:Nick\".split(\":\")"
   ]
  },
  {
   "cell_type": "code",
   "execution_count": 40,
   "id": "d3b53b59",
   "metadata": {},
   "outputs": [
    {
     "data": {
      "text/plain": [
       "'My name is Nick'"
      ]
     },
     "execution_count": 40,
     "metadata": {},
     "output_type": "execute_result"
    }
   ],
   "source": [
    "\"My name is \" +  \"Hello:Nick\".split(\":\")[1]"
   ]
  },
  {
   "cell_type": "code",
   "execution_count": 41,
   "id": "daa500b5",
   "metadata": {},
   "outputs": [
    {
     "data": {
      "text/plain": [
       "True"
      ]
     },
     "execution_count": 41,
     "metadata": {},
     "output_type": "execute_result"
    }
   ],
   "source": [
    "True"
   ]
  },
  {
   "cell_type": "code",
   "execution_count": 42,
   "id": "38d1299f",
   "metadata": {},
   "outputs": [
    {
     "data": {
      "text/plain": [
       "True"
      ]
     },
     "execution_count": 42,
     "metadata": {},
     "output_type": "execute_result"
    }
   ],
   "source": [
    "5==5"
   ]
  },
  {
   "cell_type": "code",
   "execution_count": 44,
   "id": "c955b801",
   "metadata": {},
   "outputs": [
    {
     "data": {
      "text/plain": [
       "False"
      ]
     },
     "execution_count": 44,
     "metadata": {},
     "output_type": "execute_result"
    }
   ],
   "source": [
    "5 == 4"
   ]
  },
  {
   "cell_type": "code",
   "execution_count": 48,
   "id": "fb9e4a43",
   "metadata": {},
   "outputs": [
    {
     "data": {
      "text/plain": [
       "True"
      ]
     },
     "execution_count": 48,
     "metadata": {},
     "output_type": "execute_result"
    }
   ],
   "source": [
    "\"this\" == \"this\""
   ]
  },
  {
   "cell_type": "code",
   "execution_count": 49,
   "id": "035608fc",
   "metadata": {},
   "outputs": [
    {
     "data": {
      "text/plain": [
       "['Movies', 'Games', 'Python', 'Tennis']"
      ]
     },
     "execution_count": 49,
     "metadata": {},
     "output_type": "execute_result"
    }
   ],
   "source": [
    "[\"Movies\", \"Games\", \"Python\", \"Tennis\" ]"
   ]
  },
  {
   "cell_type": "code",
   "execution_count": 65,
   "id": "2c33998e",
   "metadata": {},
   "outputs": [
    {
     "data": {
      "text/plain": [
       "'Tennis'"
      ]
     },
     "execution_count": 65,
     "metadata": {},
     "output_type": "execute_result"
    }
   ],
   "source": [
    "[\"Movies\", \"Games\", \"Python\", \"Tennis\"] [3]"
   ]
  },
  {
   "cell_type": "code",
   "execution_count": 55,
   "id": "5bada04a",
   "metadata": {},
   "outputs": [
    {
     "name": "stdout",
     "output_type": "stream",
     "text": [
      "I Love Tennis\n"
     ]
    }
   ],
   "source": [
    "print (\"I Love \" +[\"Movies\", \"Games\", \"Python\", \"Tennis\"] [3])"
   ]
  },
  {
   "cell_type": "code",
   "execution_count": 57,
   "id": "da215171",
   "metadata": {},
   "outputs": [
    {
     "name": "stdout",
     "output_type": "stream",
     "text": [
      "I Love 21\n"
     ]
    }
   ],
   "source": [
    "print (\"I Love \" +[\"Movies\", \"Games\", str(21), \"Python\", \"Tennis\"] [2])"
   ]
  },
  {
   "cell_type": "code",
   "execution_count": 58,
   "id": "eb1ae4a4",
   "metadata": {},
   "outputs": [
    {
     "name": "stdout",
     "output_type": "stream",
     "text": [
      "I Love 21\n"
     ]
    }
   ],
   "source": [
    "print (\"I Love \" +[\"Movies\", \"Games\", '21', \"Python\", \"Tennis\"] [2])"
   ]
  },
  {
   "cell_type": "code",
   "execution_count": 62,
   "id": "f069a43f",
   "metadata": {},
   "outputs": [
    {
     "data": {
      "text/plain": [
       "{'name': 'Tyler', 'age': 27, 'hobby': 'tennis'}"
      ]
     },
     "execution_count": 62,
     "metadata": {},
     "output_type": "execute_result"
    }
   ],
   "source": [
    "{\"name\": \"Tyler\", \"age\": 27, \"hobby\": \"tennis\"}"
   ]
  },
  {
   "cell_type": "code",
   "execution_count": 64,
   "id": "96b9498c",
   "metadata": {},
   "outputs": [
    {
     "data": {
      "text/plain": [
       "'Tyler'"
      ]
     },
     "execution_count": 64,
     "metadata": {},
     "output_type": "execute_result"
    }
   ],
   "source": [
    "{\"name\": \"Tyler\", \"age\": 27, \"hobby\": \"tennis\"} [\"name\"]"
   ]
  },
  {
   "cell_type": "code",
   "execution_count": 66,
   "id": "8286b93c",
   "metadata": {},
   "outputs": [
    {
     "data": {
      "text/plain": [
       "'tennis'"
      ]
     },
     "execution_count": 66,
     "metadata": {},
     "output_type": "execute_result"
    }
   ],
   "source": [
    "{\"name\": \"Tyler\", \"age\": 27, \"hobby\": \"tennis\"} [\"hobby\"]"
   ]
  },
  {
   "cell_type": "code",
   "execution_count": 67,
   "id": "4e3f366f",
   "metadata": {},
   "outputs": [],
   "source": [
    "A= \"Hello\""
   ]
  },
  {
   "cell_type": "code",
   "execution_count": 69,
   "id": "d61ed2ca",
   "metadata": {},
   "outputs": [
    {
     "name": "stdout",
     "output_type": "stream",
     "text": [
      "Hello\n"
     ]
    }
   ],
   "source": [
    "print (A)"
   ]
  },
  {
   "cell_type": "code",
   "execution_count": 76,
   "id": "72e891cc",
   "metadata": {},
   "outputs": [],
   "source": [
    "greeting = \"Hello everyone!\""
   ]
  },
  {
   "cell_type": "code",
   "execution_count": 78,
   "id": "f73b9fa7",
   "metadata": {},
   "outputs": [
    {
     "name": "stdout",
     "output_type": "stream",
     "text": [
      "Hello everyone!\n"
     ]
    }
   ],
   "source": [
    "print (greeting)"
   ]
  },
  {
   "cell_type": "code",
   "execution_count": 79,
   "id": "aa91986e",
   "metadata": {},
   "outputs": [],
   "source": [
    "greeting = greeting.split(\" \") [0]"
   ]
  },
  {
   "cell_type": "code",
   "execution_count": 81,
   "id": "3926c614",
   "metadata": {},
   "outputs": [
    {
     "name": "stdout",
     "output_type": "stream",
     "text": [
      "Hello\n"
     ]
    }
   ],
   "source": [
    "print (greeting)"
   ]
  },
  {
   "cell_type": "code",
   "execution_count": 83,
   "id": "2164dc2c",
   "metadata": {},
   "outputs": [
    {
     "name": "stdout",
     "output_type": "stream",
     "text": [
      "Hello Tyler\n"
     ]
    }
   ],
   "source": [
    "print (greeting + \" Tyler\")"
   ]
  },
  {
   "cell_type": "code",
   "execution_count": 84,
   "id": "65762fc5",
   "metadata": {},
   "outputs": [
    {
     "data": {
      "text/plain": [
       "5"
      ]
     },
     "execution_count": 84,
     "metadata": {},
     "output_type": "execute_result"
    }
   ],
   "source": [
    "len (greeting)"
   ]
  },
  {
   "cell_type": "code",
   "execution_count": 85,
   "id": "9b3c628c",
   "metadata": {},
   "outputs": [
    {
     "data": {
      "text/plain": [
       "5"
      ]
     },
     "execution_count": 85,
     "metadata": {},
     "output_type": "execute_result"
    }
   ],
   "source": [
    "len (greeting)"
   ]
  },
  {
   "cell_type": "code",
   "execution_count": 86,
   "id": "41473e60",
   "metadata": {},
   "outputs": [],
   "source": [
    "greeting = \"Hello everyone!\""
   ]
  },
  {
   "cell_type": "code",
   "execution_count": 87,
   "id": "316aaa11",
   "metadata": {},
   "outputs": [
    {
     "data": {
      "text/plain": [
       "15"
      ]
     },
     "execution_count": 87,
     "metadata": {},
     "output_type": "execute_result"
    }
   ],
   "source": [
    "len (greeting)"
   ]
  },
  {
   "cell_type": "code",
   "execution_count": 94,
   "id": "9a94c59d",
   "metadata": {},
   "outputs": [
    {
     "data": {
      "text/plain": [
       "[1, 2, 3, 4, 5, 6, 7, 9, 9]"
      ]
     },
     "execution_count": 94,
     "metadata": {},
     "output_type": "execute_result"
    }
   ],
   "source": [
    "sorted([2,5,7,9,3,6,9,4,1])"
   ]
  },
  {
   "cell_type": "code",
   "execution_count": 97,
   "id": "999c1315",
   "metadata": {},
   "outputs": [
    {
     "data": {
      "text/plain": [
       "['ball', 'cart', 'dog', 'train']"
      ]
     },
     "execution_count": 97,
     "metadata": {},
     "output_type": "execute_result"
    }
   ],
   "source": [
    "sorted([\"ball\", \"cart\", \"train\", \"dog\"])"
   ]
  },
  {
   "cell_type": "code",
   "execution_count": 100,
   "id": "24bcceef",
   "metadata": {},
   "outputs": [
    {
     "data": {
      "text/plain": [
       "['5.9', '6', '8.3', 'Dog', 'Horse', 'ball', 'cart', 'train']"
      ]
     },
     "execution_count": 100,
     "metadata": {},
     "output_type": "execute_result"
    }
   ],
   "source": [
    "sorted([\"ball\", \"cart\", \"Horse\", \"train\", \"Dog\", \"5.9\",\"6\", \"8.3\"])"
   ]
  },
  {
   "cell_type": "code",
   "execution_count": 106,
   "id": "6a4d29d7",
   "metadata": {},
   "outputs": [],
   "source": [
    "def my_funct():\n",
    "    print (\"This is my new function!!\")\n",
    "    print (\"Second string\")"
   ]
  },
  {
   "cell_type": "code",
   "execution_count": 107,
   "id": "3c523627",
   "metadata": {},
   "outputs": [
    {
     "name": "stdout",
     "output_type": "stream",
     "text": [
      "This is my new function!!\n",
      "Second string\n"
     ]
    }
   ],
   "source": [
    "my_funct()"
   ]
  },
  {
   "cell_type": "code",
   "execution_count": 113,
   "id": "5b2fa7b4",
   "metadata": {},
   "outputs": [],
   "source": [
    "def my_funct(str1, str2):\n",
    "    print (\"str1\")\n",
    "    print (\" str2\")"
   ]
  },
  {
   "cell_type": "code",
   "execution_count": 115,
   "id": "52588af4",
   "metadata": {},
   "outputs": [
    {
     "name": "stdout",
     "output_type": "stream",
     "text": [
      "str1\n",
      " str2\n"
     ]
    }
   ],
   "source": [
    "my_funct(\"This is my new function!!\",\"Second string\")"
   ]
  },
  {
   "cell_type": "code",
   "execution_count": 121,
   "id": "e85ab112",
   "metadata": {},
   "outputs": [],
   "source": [
    "def print_something(name, age):\n",
    "    print(\"My name is \" + name + \" and my age is \" + str(age))"
   ]
  },
  {
   "cell_type": "code",
   "execution_count": 122,
   "id": "c4983a61",
   "metadata": {},
   "outputs": [
    {
     "name": "stdout",
     "output_type": "stream",
     "text": [
      "My name is Tyler and my age is 22\n"
     ]
    }
   ],
   "source": [
    "print_something(\"Tyler\",22)"
   ]
  },
  {
   "cell_type": "code",
   "execution_count": 126,
   "id": "bd60f5da",
   "metadata": {},
   "outputs": [],
   "source": [
    "def print_something(name, age):\n",
    "    print(\"My name is\", name, \"and my age is\", age)"
   ]
  },
  {
   "cell_type": "code",
   "execution_count": 127,
   "id": "64f12be6",
   "metadata": {},
   "outputs": [
    {
     "name": "stdout",
     "output_type": "stream",
     "text": [
      "My name is Tyler and my age is 22\n"
     ]
    }
   ],
   "source": [
    "print_something(\"Tyler\",22)"
   ]
  },
  {
   "cell_type": "code",
   "execution_count": 136,
   "id": "1ffa71c3",
   "metadata": {},
   "outputs": [],
   "source": [
    "def print_something(name = \"Person\", age = \"unknown\"):\n",
    "    print(\"My name is\", name, \"and my age is\", age)"
   ]
  },
  {
   "cell_type": "code",
   "execution_count": 138,
   "id": "45ef35ef",
   "metadata": {},
   "outputs": [
    {
     "name": "stdout",
     "output_type": "stream",
     "text": [
      "My name is None and my age is 27\n"
     ]
    }
   ],
   "source": [
    "print_something(None,27)"
   ]
  },
  {
   "cell_type": "code",
   "execution_count": 139,
   "id": "da9bfcd3",
   "metadata": {},
   "outputs": [
    {
     "name": "stdout",
     "output_type": "stream",
     "text": [
      "My name is None and my age is unknown\n"
     ]
    }
   ],
   "source": [
    "print_something(None)"
   ]
  },
  {
   "cell_type": "code",
   "execution_count": 140,
   "id": "d85738c3",
   "metadata": {},
   "outputs": [
    {
     "name": "stdout",
     "output_type": "stream",
     "text": [
      "My name is 27 and my age is unknown\n"
     ]
    }
   ],
   "source": [
    "print_something(27)"
   ]
  },
  {
   "cell_type": "code",
   "execution_count": 141,
   "id": "79f5c905",
   "metadata": {},
   "outputs": [
    {
     "name": "stdout",
     "output_type": "stream",
     "text": [
      "My name is Person and my age is unknown\n"
     ]
    }
   ],
   "source": [
    "print_something()"
   ]
  },
  {
   "cell_type": "code",
   "execution_count": 142,
   "id": "c4e7ec7c",
   "metadata": {},
   "outputs": [
    {
     "name": "stdout",
     "output_type": "stream",
     "text": [
      "My name is Tyler and my age is 22\n"
     ]
    }
   ],
   "source": [
    "print_something(age =22, name = \"Tyler\")"
   ]
  },
  {
   "cell_type": "code",
   "execution_count": 161,
   "id": "9e5a7e62",
   "metadata": {},
   "outputs": [],
   "source": [
    "def do_math (num1, num2):\n",
    "    return num1 + num2\n",
    "        "
   ]
  },
  {
   "cell_type": "code",
   "execution_count": 162,
   "id": "7344c0cb",
   "metadata": {},
   "outputs": [
    {
     "data": {
      "text/plain": [
       "12"
      ]
     },
     "execution_count": 162,
     "metadata": {},
     "output_type": "execute_result"
    }
   ],
   "source": [
    "do_math(5,7)"
   ]
  },
  {
   "cell_type": "code",
   "execution_count": 169,
   "id": "bd90cef5",
   "metadata": {},
   "outputs": [],
   "source": [
    "math1 = do_math(5,7)\n",
    "math2 = do_math(11,34)"
   ]
  },
  {
   "cell_type": "code",
   "execution_count": 172,
   "id": "353f0211",
   "metadata": {},
   "outputs": [
    {
     "name": "stdout",
     "output_type": "stream",
     "text": [
      "12 45\n"
     ]
    }
   ],
   "source": [
    "print (math1, math2)"
   ]
  },
  {
   "cell_type": "code",
   "execution_count": 175,
   "id": "8c7eb725",
   "metadata": {},
   "outputs": [
    {
     "name": "stdout",
     "output_type": "stream",
     "text": [
      "sum is 12 and other sum is 45\n"
     ]
    }
   ],
   "source": [
    "print (\"sum is\", math1,\"and other sum is\",  math2)"
   ]
  },
  {
   "cell_type": "code",
   "execution_count": 182,
   "id": "761207d9",
   "metadata": {},
   "outputs": [],
   "source": [
    "check = True"
   ]
  },
  {
   "cell_type": "code",
   "execution_count": 236,
   "id": "bf5ebb6d",
   "metadata": {},
   "outputs": [],
   "source": [
    "if check == False:\n",
    "    print (\"This is false\")"
   ]
  },
  {
   "cell_type": "code",
   "execution_count": 235,
   "id": "03fa2f87",
   "metadata": {},
   "outputs": [
    {
     "name": "stdout",
     "output_type": "stream",
     "text": [
      "This is actually true\n"
     ]
    }
   ],
   "source": [
    "if check == False:\n",
    "    print (\"This is false\")\n",
    "else:\n",
    "    print(\"This is actually true\")"
   ]
  },
  {
   "cell_type": "code",
   "execution_count": null,
   "id": "628336bd",
   "metadata": {},
   "outputs": [],
   "source": []
  },
  {
   "cell_type": "code",
   "execution_count": 207,
   "id": "2f109c18",
   "metadata": {},
   "outputs": [
    {
     "name": "stdout",
     "output_type": "stream",
     "text": [
      "This is actually true\n"
     ]
    }
   ],
   "source": [
    "if check == True:\n",
    "    print (\"This is false\")\n",
    "else:\n",
    "    print(\"This is actually true\")"
   ]
  },
  {
   "cell_type": "code",
   "execution_count": 208,
   "id": "fc5201f8",
   "metadata": {},
   "outputs": [
    {
     "name": "stdout",
     "output_type": "stream",
     "text": [
      "This is false\n"
     ]
    }
   ],
   "source": [
    "if check == False:\n",
    "    print (\"This is false\")"
   ]
  },
  {
   "cell_type": "code",
   "execution_count": 214,
   "id": "3f8c01b3",
   "metadata": {},
   "outputs": [
    {
     "name": "stdout",
     "output_type": "stream",
     "text": [
      "This is actually true\n"
     ]
    }
   ],
   "source": [
    "if check == True:\n",
    "    print (\"This is false\")\n",
    "elif check == \"Checkers\":\n",
    "    print (\"These are Checkers\")\n",
    "elif check == \"Toys\":\n",
    "    print (\"These are Toys\")\n",
    "else:\n",
    "    print(\"This is actually true\")"
   ]
  },
  {
   "cell_type": "code",
   "execution_count": 200,
   "id": "500ea9f4",
   "metadata": {},
   "outputs": [
    {
     "name": "stdout",
     "output_type": "stream",
     "text": [
      "This is false\n"
     ]
    }
   ],
   "source": [
    "if check == False:\n",
    "    print (\"This is false\")"
   ]
  },
  {
   "cell_type": "code",
   "execution_count": 223,
   "id": "c7d4380f",
   "metadata": {},
   "outputs": [],
   "source": [
    "check = \"Checkers\""
   ]
  },
  {
   "cell_type": "code",
   "execution_count": 224,
   "id": "9f2dec20",
   "metadata": {},
   "outputs": [
    {
     "name": "stdout",
     "output_type": "stream",
     "text": [
      "These are Checkers\n"
     ]
    }
   ],
   "source": [
    "if check == True:\n",
    "    print (\"This is false\")\n",
    "elif check == \"Checkers\":\n",
    "    print (\"These are Checkers\")\n",
    "elif check == \"Toys\":\n",
    "    print (\"These are Toys\")\n",
    "else:\n",
    "    print(\"This is actually true\")"
   ]
  },
  {
   "cell_type": "code",
   "execution_count": 225,
   "id": "345e011a",
   "metadata": {},
   "outputs": [],
   "source": [
    "numbers = [1, 2, 3, 4, 5, 6]"
   ]
  },
  {
   "cell_type": "code",
   "execution_count": 228,
   "id": "5db0b060",
   "metadata": {},
   "outputs": [
    {
     "name": "stdout",
     "output_type": "stream",
     "text": [
      "1\n",
      "2\n",
      "3\n",
      "4\n",
      "5\n",
      "6\n"
     ]
    }
   ],
   "source": [
    "for item in numbers:\n",
    "    print (item)"
   ]
  },
  {
   "cell_type": "code",
   "execution_count": 229,
   "id": "910e176c",
   "metadata": {},
   "outputs": [],
   "source": [
    "numbers = [\"Tyler\", \"Someone\", \"Person\",\"Age\"]"
   ]
  },
  {
   "cell_type": "code",
   "execution_count": 230,
   "id": "e3c91530",
   "metadata": {},
   "outputs": [
    {
     "name": "stdout",
     "output_type": "stream",
     "text": [
      "Tyler\n",
      "Someone\n",
      "Person\n",
      "Age\n"
     ]
    }
   ],
   "source": [
    "for item in numbers:\n",
    "    print (item)"
   ]
  },
  {
   "cell_type": "code",
   "execution_count": 231,
   "id": "d8c7f786",
   "metadata": {},
   "outputs": [
    {
     "name": "stdout",
     "output_type": "stream",
     "text": [
      "This Persons name is Tyler\n",
      "This Persons name is Someone\n",
      "This Persons name is Person\n",
      "This Persons name is Age\n"
     ]
    }
   ],
   "source": [
    "for item in numbers:\n",
    "    print (\"This Persons name is\", item)"
   ]
  },
  {
   "cell_type": "code",
   "execution_count": null,
   "id": "fca4f413",
   "metadata": {},
   "outputs": [],
   "source": [
    "run = True\n",
    "current = 1"
   ]
  },
  {
   "cell_type": "code",
   "execution_count": null,
   "id": "0b05333b",
   "metadata": {},
   "outputs": [],
   "source": [
    "while run:\n",
    "    if current == 100:\n",
    "        run= False\n",
    "    else:\n",
    "        print (current)\n",
    "        current += 1"
   ]
  },
  {
   "cell_type": "code",
   "execution_count": null,
   "id": "2585572f",
   "metadata": {},
   "outputs": [],
   "source": []
  },
  {
   "cell_type": "code",
   "execution_count": null,
   "id": "d9cbf395",
   "metadata": {},
   "outputs": [],
   "source": []
  }
 ],
 "metadata": {
  "kernelspec": {
   "display_name": "Python 3 (ipykernel)",
   "language": "python",
   "name": "python3"
  },
  "language_info": {
   "codemirror_mode": {
    "name": "ipython",
    "version": 3
   },
   "file_extension": ".py",
   "mimetype": "text/x-python",
   "name": "python",
   "nbconvert_exporter": "python",
   "pygments_lexer": "ipython3",
   "version": "3.9.12"
  }
 },
 "nbformat": 4,
 "nbformat_minor": 5
}
