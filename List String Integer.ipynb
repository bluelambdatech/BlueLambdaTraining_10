{
 "cells": [
  {
   "cell_type": "markdown",
   "id": "99adc7ba",
   "metadata": {},
   "source": [
    "##ListTrng"
   ]
  },
  {
   "cell_type": "markdown",
   "id": "0f14c433",
   "metadata": {},
   "source": [
    "# ListTrg"
   ]
  },
  {
   "cell_type": "code",
   "execution_count": 6,
   "id": "e6291e92",
   "metadata": {},
   "outputs": [],
   "source": [
    "names=[]"
   ]
  },
  {
   "cell_type": "code",
   "execution_count": 7,
   "id": "ce8aa963",
   "metadata": {},
   "outputs": [],
   "source": [
    "names.append('OMOLEWA')"
   ]
  },
  {
   "cell_type": "code",
   "execution_count": 8,
   "id": "703f8456",
   "metadata": {},
   "outputs": [
    {
     "data": {
      "text/plain": [
       "['OMOLEWA']"
      ]
     },
     "execution_count": 8,
     "metadata": {},
     "output_type": "execute_result"
    }
   ],
   "source": [
    "names"
   ]
  },
  {
   "cell_type": "code",
   "execution_count": 9,
   "id": "84875d65",
   "metadata": {},
   "outputs": [],
   "source": [
    "names.append('ABIOLA')"
   ]
  },
  {
   "cell_type": "code",
   "execution_count": 10,
   "id": "656145c7",
   "metadata": {},
   "outputs": [
    {
     "data": {
      "text/plain": [
       "['OMOLEWA', 'ABIOLA']"
      ]
     },
     "execution_count": 10,
     "metadata": {},
     "output_type": "execute_result"
    }
   ],
   "source": [
    "names"
   ]
  },
  {
   "cell_type": "code",
   "execution_count": 11,
   "id": "4f819d3b",
   "metadata": {},
   "outputs": [],
   "source": [
    "names.insert(1,\"Obi\")"
   ]
  },
  {
   "cell_type": "code",
   "execution_count": 12,
   "id": "76437af4",
   "metadata": {},
   "outputs": [
    {
     "data": {
      "text/plain": [
       "['OMOLEWA', 'Obi', 'ABIOLA']"
      ]
     },
     "execution_count": 12,
     "metadata": {},
     "output_type": "execute_result"
    }
   ],
   "source": [
    "names"
   ]
  },
  {
   "cell_type": "code",
   "execution_count": 13,
   "id": "cab4d813",
   "metadata": {},
   "outputs": [],
   "source": [
    "names.insert(2, 'Loko')"
   ]
  },
  {
   "cell_type": "code",
   "execution_count": 14,
   "id": "c6ff1e9a",
   "metadata": {},
   "outputs": [
    {
     "data": {
      "text/plain": [
       "['OMOLEWA', 'Obi', 'Loko', 'ABIOLA']"
      ]
     },
     "execution_count": 14,
     "metadata": {},
     "output_type": "execute_result"
    }
   ],
   "source": [
    "names"
   ]
  },
  {
   "cell_type": "code",
   "execution_count": 17,
   "id": "9f1b50b2",
   "metadata": {},
   "outputs": [
    {
     "data": {
      "text/plain": [
       "'Loko'"
      ]
     },
     "execution_count": 17,
     "metadata": {},
     "output_type": "execute_result"
    }
   ],
   "source": [
    "names.pop(2)"
   ]
  },
  {
   "cell_type": "code",
   "execution_count": 18,
   "id": "3dd21a47",
   "metadata": {},
   "outputs": [
    {
     "data": {
      "text/plain": [
       "['OMOLEWA', 'Obi', 'ABIOLA']"
      ]
     },
     "execution_count": 18,
     "metadata": {},
     "output_type": "execute_result"
    }
   ],
   "source": [
    "names"
   ]
  },
  {
   "cell_type": "code",
   "execution_count": 20,
   "id": "52855f81",
   "metadata": {},
   "outputs": [],
   "source": [
    "names.remove(\"Obi\")"
   ]
  },
  {
   "cell_type": "code",
   "execution_count": 21,
   "id": "67cad4e9",
   "metadata": {},
   "outputs": [
    {
     "data": {
      "text/plain": [
       "['OMOLEWA', 'ABIOLA']"
      ]
     },
     "execution_count": 21,
     "metadata": {},
     "output_type": "execute_result"
    }
   ],
   "source": [
    "names"
   ]
  },
  {
   "cell_type": "code",
   "execution_count": 22,
   "id": "585f4d7a",
   "metadata": {},
   "outputs": [],
   "source": [
    "names='Omolewa','Edwode','Ogechi','Caroline', 'Salma','Charmaine'"
   ]
  },
  {
   "cell_type": "code",
   "execution_count": 24,
   "id": "b67570c9",
   "metadata": {},
   "outputs": [
    {
     "data": {
      "text/plain": [
       "('Omolewa', 'Edwode', 'Ogechi', 'Caroline')"
      ]
     },
     "execution_count": 24,
     "metadata": {},
     "output_type": "execute_result"
    }
   ],
   "source": [
    "names[:4]"
   ]
  },
  {
   "cell_type": "code",
   "execution_count": 25,
   "id": "8874f2fd",
   "metadata": {},
   "outputs": [
    {
     "data": {
      "text/plain": [
       "('Omolewa', 'Edwode', 'Ogechi', 'Caroline', 'Salma')"
      ]
     },
     "execution_count": 25,
     "metadata": {},
     "output_type": "execute_result"
    }
   ],
   "source": [
    "names[:5]"
   ]
  },
  {
   "cell_type": "code",
   "execution_count": null,
   "id": "66ec435a",
   "metadata": {},
   "outputs": [],
   "source": []
  }
 ],
 "metadata": {
  "kernelspec": {
   "display_name": "Python 3 (ipykernel)",
   "language": "python",
   "name": "python3"
  },
  "language_info": {
   "codemirror_mode": {
    "name": "ipython",
    "version": 3
   },
   "file_extension": ".py",
   "mimetype": "text/x-python",
   "name": "python",
   "nbconvert_exporter": "python",
   "pygments_lexer": "ipython3",
   "version": "3.9.12"
  }
 },
 "nbformat": 4,
 "nbformat_minor": 5
}
