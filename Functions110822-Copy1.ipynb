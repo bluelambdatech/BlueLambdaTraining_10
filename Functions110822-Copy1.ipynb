{
 "cells": [
  {
   "cell_type": "markdown",
   "id": "e0e74b15",
   "metadata": {},
   "source": [
    "### Functions with Mosh"
   ]
  },
  {
   "cell_type": "code",
   "execution_count": 22,
   "id": "7c98201f",
   "metadata": {},
   "outputs": [
    {
     "name": "stdout",
     "output_type": "stream",
     "text": [
      "Hi there\n",
      "Welcome aboard\n"
     ]
    }
   ],
   "source": [
    "def greet():\n",
    "    print('Hi there')\n",
    "    print('Welcome aboard')\n",
    "    \n",
    "greet()"
   ]
  },
  {
   "cell_type": "code",
   "execution_count": null,
   "id": "d6cff666",
   "metadata": {},
   "outputs": [],
   "source": []
  },
  {
   "cell_type": "code",
   "execution_count": 26,
   "id": "9fb4ae70",
   "metadata": {},
   "outputs": [
    {
     "name": "stdout",
     "output_type": "stream",
     "text": [
      "Hi Abi, Oyenekan\n",
      "Welcome aboard\n",
      "Hi John, Smith\n",
      "Welcome aboard\n",
      "Hi Lamby, Wamby\n",
      "Welcome aboard\n"
     ]
    }
   ],
   "source": [
    "def greet(first_name, last_name):\n",
    "    print(f'Hi {first_name}, {last_name}')\n",
    "    print('Welcome aboard')\n",
    "    \n",
    "    \n",
    "greet('Abi', 'Oyenekan')\n",
    "greet('John', 'Smith')\n",
    "greet('Lamby', 'Wamby')"
   ]
  },
  {
   "cell_type": "code",
   "execution_count": null,
   "id": "32ba8c84",
   "metadata": {},
   "outputs": [],
   "source": [
    "def greet(name):\n",
    "    print(f'Hi {name}')\n",
    "    "
   ]
  },
  {
   "cell_type": "code",
   "execution_count": null,
   "id": "21931318",
   "metadata": {},
   "outputs": [],
   "source": [
    "def get_greeting():\n",
    "    return f'Hi {name}'\n",
    "\n",
    "message = get_greeting()"
   ]
  },
  {
   "cell_type": "code",
   "execution_count": 46,
   "id": "359907d8",
   "metadata": {},
   "outputs": [
    {
     "name": "stdout",
     "output_type": "stream",
     "text": [
      "120\n"
     ]
    }
   ],
   "source": [
    "def multiply(*numbers):\n",
    "    total=1\n",
    "    for number in numbers:\n",
    "        total *= number\n",
    "        \n",
    "    return total\n",
    "\n",
    "\n",
    "print(multiply(2,3,4,5))\n",
    "    "
   ]
  },
  {
   "cell_type": "code",
   "execution_count": 50,
   "id": "e56220e2",
   "metadata": {},
   "outputs": [
    {
     "name": "stdout",
     "output_type": "stream",
     "text": [
      "{'id': 1, 'name': 'John', 'age': 22}\n"
     ]
    }
   ],
   "source": [
    "def save_user(**user):\n",
    "    print(user)\n",
    "    \n",
    "    \n",
    "save_user(id = 1, name = \"John\", age = 22)"
   ]
  },
  {
   "cell_type": "code",
   "execution_count": 59,
   "id": "9767bbf5",
   "metadata": {},
   "outputs": [
    {
     "name": "stdout",
     "output_type": "stream",
     "text": [
      "fizzbuzz\n"
     ]
    }
   ],
   "source": [
    "def fizz_buzz(input):\n",
    "    if input %3==0 and input %5==0:\n",
    "        return \"fizzbuzz\"\n",
    "    if input%3==0:\n",
    "        return \"fizz\"\n",
    "    if input%5==0:\n",
    "        return \"buzz\"\n",
    "    return input\n",
    "    \n",
    "    \n",
    "    \n",
    "print(fizz_buzz(30))"
   ]
  },
  {
   "cell_type": "markdown",
   "id": "20bc01be",
   "metadata": {},
   "source": [
    "### BMI Calculator"
   ]
  },
  {
   "cell_type": "code",
   "execution_count": 69,
   "id": "03170d8e",
   "metadata": {},
   "outputs": [],
   "source": [
    "name1 ='YK'\n",
    "height_m1 = 2\n",
    "weight_kg1 = 90\n",
    "\n",
    "name2 = 'YKs Sister'\n",
    "height_m2 = 1.8\n",
    "weight_kg2 = 70\n",
    "\n",
    "name3 = 'YKs Brother'\n",
    "height_m3 = 2.5\n",
    "weight_kg3 = 160\n",
    "\n",
    "\n",
    "def bmi_calculator (name, height_m, weight_kg):\n",
    "    bmi = weight_kg / (height_m **2)\n",
    "    print(\"bmi: \")\n",
    "    print(bmi)\n",
    "    if bmi <25:\n",
    "        return name + \", You are not overweight\"\n",
    "    if bmi >25:\n",
    "        return name + \", You are overweight\"\n",
    "    "
   ]
  },
  {
   "cell_type": "code",
   "execution_count": 70,
   "id": "e0d224c2",
   "metadata": {},
   "outputs": [
    {
     "name": "stdout",
     "output_type": "stream",
     "text": [
      "bmi: \n",
      "22.5\n",
      "bmi: \n",
      "21.604938271604937\n",
      "bmi: \n",
      "25.6\n"
     ]
    }
   ],
   "source": [
    "result1 = bmi_calculator (name1, height_m1, weight_kg1)\n",
    "result2 = bmi_calculator (name2, height_m2, weight_kg2)\n",
    "result3 = bmi_calculator (name3, height_m3, weight_kg3)"
   ]
  },
  {
   "cell_type": "code",
   "execution_count": 71,
   "id": "2dc5d763",
   "metadata": {},
   "outputs": [
    {
     "name": "stdout",
     "output_type": "stream",
     "text": [
      "YK, You are not overweight\n",
      "YKs Sister, You are not overweight\n",
      "YKs Brother, You are overweight\n"
     ]
    }
   ],
   "source": [
    "print(result1)\n",
    "print(result2)\n",
    "print(result3)"
   ]
  },
  {
   "cell_type": "code",
   "execution_count": null,
   "id": "6aff5226",
   "metadata": {},
   "outputs": [],
   "source": []
  }
 ],
 "metadata": {
  "kernelspec": {
   "display_name": "Python 3 (ipykernel)",
   "language": "python",
   "name": "python3"
  },
  "language_info": {
   "codemirror_mode": {
    "name": "ipython",
    "version": 3
   },
   "file_extension": ".py",
   "mimetype": "text/x-python",
   "name": "python",
   "nbconvert_exporter": "python",
   "pygments_lexer": "ipython3",
   "version": "3.9.12"
  }
 },
 "nbformat": 4,
 "nbformat_minor": 5
}
