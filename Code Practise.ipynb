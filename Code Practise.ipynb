{
 "cells": [
  {
   "cell_type": "markdown",
   "id": "536e57e6",
   "metadata": {},
   "source": [
    "# merge two dictionary \n",
    "\n",
    "dict1 = {'Ten': 10, 'Twenty': 20, 'Thirty': 30}\n",
    "dict2 = {'Thirty': 30, 'Fourty': 40, 'Fifty': 50}\n",
    "\n",
    "expected output: {'Ten': 10, 'Twenty': 20, 'Thirty': 30, 'Fourty': 40, 'Fifty': 50}\n"
   ]
  },
  {
   "cell_type": "code",
   "execution_count": 1,
   "id": "ea5735dc",
   "metadata": {},
   "outputs": [],
   "source": [
    "dict1 = {'Ten': 10, 'Twenty': 20, 'Thirty': 30}\n",
    "dict2 = {'Thirty': 30, 'Fourty': 40, 'Fifty': 50}"
   ]
  },
  {
   "cell_type": "code",
   "execution_count": 3,
   "id": "a3e3e39f",
   "metadata": {},
   "outputs": [],
   "source": [
    "dict1.update(dict2)"
   ]
  },
  {
   "cell_type": "code",
   "execution_count": 4,
   "id": "cf761491",
   "metadata": {},
   "outputs": [
    {
     "data": {
      "text/plain": [
       "{'Ten': 10, 'Twenty': 20, 'Thirty': 30, 'Fourty': 40, 'Fifty': 50}"
      ]
     },
     "execution_count": 4,
     "metadata": {},
     "output_type": "execute_result"
    }
   ],
   "source": [
    "dict1"
   ]
  },
  {
   "cell_type": "code",
   "execution_count": 6,
   "id": "7906f1bd",
   "metadata": {},
   "outputs": [],
   "source": [
    "for key in dict2.keys():\n",
    "    dict1[key] = dict2[key]"
   ]
  },
  {
   "cell_type": "code",
   "execution_count": null,
   "id": "c1826f78",
   "metadata": {},
   "outputs": [],
   "source": [
    "key = Thirty"
   ]
  },
  {
   "cell_type": "markdown",
   "id": "42976541",
   "metadata": {},
   "source": [
    "# Write a Python program to change Brad’s salary to 8500 in the following dictionary.\n",
    "\n",
    "Given:\n",
    "\n",
    "sample_dict = {\n",
    "    'emp1': {'name': 'Jhon', 'salary': 7500},\n",
    "    'emp2': {'name': 'Emma', 'salary': 8000},\n",
    "    'emp3': {'name': 'Brad', 'salary': 500}\n",
    "}\n",
    "Expected output:\n",
    "\n",
    "{\n",
    "   'emp1': {'name': 'Jhon', 'salary': 7500},\n",
    "   'emp2': {'name': 'Emma', 'salary': 8000},\n",
    "   'emp3': {'name': 'Brad', 'salary': 8500}\n",
    "}"
   ]
  },
  {
   "cell_type": "code",
   "execution_count": 19,
   "id": "9d5a845a",
   "metadata": {},
   "outputs": [],
   "source": [
    "sample_dict = {\n",
    "    'emp1': {'name': 'Jhon', 'salary': 7500},\n",
    "    'emp2': {'name': 'Emma', 'salary': 8000},\n",
    "    'emp3': {'name': 'Brad', 'salary': 500}\n",
    "}"
   ]
  },
  {
   "cell_type": "code",
   "execution_count": 16,
   "id": "c0800bdc",
   "metadata": {},
   "outputs": [],
   "source": []
  },
  {
   "cell_type": "code",
   "execution_count": 23,
   "id": "bada26be",
   "metadata": {},
   "outputs": [],
   "source": [
    "sample_dict['emp3']['salary'] = 8500"
   ]
  },
  {
   "cell_type": "code",
   "execution_count": 24,
   "id": "5395eed4",
   "metadata": {},
   "outputs": [
    {
     "data": {
      "text/plain": [
       "{'emp1': {'name': 'Jhon', 'salary': 7500},\n",
       " 'emp2': {'name': 'Emma', 'salary': 8000},\n",
       " 'emp3': {'name': 'Brad', 'salary': 8500}}"
      ]
     },
     "execution_count": 24,
     "metadata": {},
     "output_type": "execute_result"
    }
   ],
   "source": [
    "sample_dict"
   ]
  },
  {
   "cell_type": "code",
   "execution_count": 7,
   "id": "9a67aeb8",
   "metadata": {},
   "outputs": [
    {
     "data": {
      "text/plain": [
       "{'Ten': 10, 'Twenty': 20, 'Thirty': 30, 'Fourty': 40, 'Fifty': 50}"
      ]
     },
     "execution_count": 7,
     "metadata": {},
     "output_type": "execute_result"
    }
   ],
   "source": [
    "dict1"
   ]
  },
  {
   "cell_type": "code",
   "execution_count": 8,
   "id": "bc517f2e",
   "metadata": {},
   "outputs": [
    {
     "data": {
      "text/plain": [
       "dict_keys(['Thirty', 'Fourty', 'Fifty'])"
      ]
     },
     "execution_count": 8,
     "metadata": {},
     "output_type": "execute_result"
    }
   ],
   "source": [
    "dict2.keys()"
   ]
  },
  {
   "cell_type": "code",
   "execution_count": 2,
   "id": "d98e7bf2",
   "metadata": {},
   "outputs": [],
   "source": [
    "d = {'a': 1, 'b': 2}\n",
    "r = {'a': 3, 'c': 4}"
   ]
  },
  {
   "cell_type": "code",
   "execution_count": 9,
   "id": "06a1590f",
   "metadata": {},
   "outputs": [],
   "source": [
    "dict1 = {'Ten': 10, 'Twenty': 20, 'Thirty': 30}"
   ]
  },
  {
   "cell_type": "code",
   "execution_count": 10,
   "id": "e7d0a148",
   "metadata": {},
   "outputs": [
    {
     "data": {
      "text/plain": [
       "dict_keys(['Ten', 'Twenty', 'Thirty'])"
      ]
     },
     "execution_count": 10,
     "metadata": {},
     "output_type": "execute_result"
    }
   ],
   "source": [
    "dict1.keys()"
   ]
  },
  {
   "cell_type": "code",
   "execution_count": 11,
   "id": "4a70e472",
   "metadata": {},
   "outputs": [
    {
     "data": {
      "text/plain": [
       "dict_values([10, 20, 30])"
      ]
     },
     "execution_count": 11,
     "metadata": {},
     "output_type": "execute_result"
    }
   ],
   "source": [
    "dict1.values()"
   ]
  },
  {
   "cell_type": "code",
   "execution_count": 12,
   "id": "0e739e9d",
   "metadata": {},
   "outputs": [
    {
     "data": {
      "text/plain": [
       "10"
      ]
     },
     "execution_count": 12,
     "metadata": {},
     "output_type": "execute_result"
    }
   ],
   "source": [
    "dict1['Ten']"
   ]
  },
  {
   "cell_type": "code",
   "execution_count": 13,
   "id": "55d8d130",
   "metadata": {},
   "outputs": [],
   "source": [
    "dict1['Hundred'] = 100"
   ]
  },
  {
   "cell_type": "code",
   "execution_count": 14,
   "id": "8f8cebf4",
   "metadata": {},
   "outputs": [
    {
     "data": {
      "text/plain": [
       "{'Ten': 10, 'Twenty': 20, 'Thirty': 30, 'Hundred': 100}"
      ]
     },
     "execution_count": 14,
     "metadata": {},
     "output_type": "execute_result"
    }
   ],
   "source": [
    "dict1"
   ]
  },
  {
   "cell_type": "markdown",
   "id": "a1663fbf",
   "metadata": {},
   "source": [
    "# Calculate the cube of all numbers from 1 to a given number\n",
    "Write a program to print the cube of all numbers from 1 to a given number\n",
    "\n",
    "Given:\n",
    "\n",
    "input_number = 6\n",
    "\n",
    "Expected output:\n",
    "\n",
    "Current Number is : 1  and the cube is 1\n",
    "Current Number is : 2  and the cube is 8\n",
    "Current Number is : 3  and the cube is 27\n",
    "Current Number is : 4  and the cube is 64\n",
    "Current Number is : 5  and the cube is 125\n",
    "Current Number is : 6  and the cube is 216"
   ]
  },
  {
   "cell_type": "code",
   "execution_count": 29,
   "id": "696138c5",
   "metadata": {},
   "outputs": [
    {
     "name": "stdout",
     "output_type": "stream",
     "text": [
      "Enter your number: 20\n"
     ]
    }
   ],
   "source": [
    "num = int(input('Enter your number: '))"
   ]
  },
  {
   "cell_type": "code",
   "execution_count": 30,
   "id": "c5ce5636",
   "metadata": {},
   "outputs": [
    {
     "data": {
      "text/plain": [
       "20"
      ]
     },
     "execution_count": 30,
     "metadata": {},
     "output_type": "execute_result"
    }
   ],
   "source": [
    "num"
   ]
  },
  {
   "cell_type": "code",
   "execution_count": 40,
   "id": "10e4a449",
   "metadata": {},
   "outputs": [
    {
     "name": "stdout",
     "output_type": "stream",
     "text": [
      "Enter your number: 20\n",
      "Current Number is :1  and the cube is 1\n",
      "Current Number is :2  and the cube is 8\n",
      "Current Number is :3  and the cube is 27\n",
      "Current Number is :4  and the cube is 64\n",
      "Current Number is :5  and the cube is 125\n",
      "Current Number is :6  and the cube is 216\n",
      "Current Number is :7  and the cube is 343\n",
      "Current Number is :8  and the cube is 512\n",
      "Current Number is :9  and the cube is 729\n",
      "Current Number is :10  and the cube is 1000\n",
      "Current Number is :11  and the cube is 1331\n",
      "Current Number is :12  and the cube is 1728\n",
      "Current Number is :13  and the cube is 2197\n",
      "Current Number is :14  and the cube is 2744\n",
      "Current Number is :15  and the cube is 3375\n",
      "Current Number is :16  and the cube is 4096\n",
      "Current Number is :17  and the cube is 4913\n",
      "Current Number is :18  and the cube is 5832\n",
      "Current Number is :19  and the cube is 6859\n",
      "Current Number is :20  and the cube is 8000\n"
     ]
    }
   ],
   "source": [
    "num = int(input('Enter your number: '))\n",
    "for n in range(1, num + 1):\n",
    "    print(f'Current Number is :{n}  and the cube is {n ** 3}')\n",
    "    "
   ]
  },
  {
   "cell_type": "code",
   "execution_count": null,
   "id": "b0f1a7c3",
   "metadata": {},
   "outputs": [],
   "source": []
  },
  {
   "cell_type": "code",
   "execution_count": null,
   "id": "bfaa4323",
   "metadata": {},
   "outputs": [],
   "source": []
  },
  {
   "cell_type": "code",
   "execution_count": null,
   "id": "5719bf0d",
   "metadata": {},
   "outputs": [],
   "source": []
  },
  {
   "cell_type": "code",
   "execution_count": null,
   "id": "bdeae861",
   "metadata": {},
   "outputs": [],
   "source": []
  },
  {
   "cell_type": "code",
   "execution_count": null,
   "id": "472120a2",
   "metadata": {},
   "outputs": [],
   "source": []
  },
  {
   "cell_type": "code",
   "execution_count": null,
   "id": "a3e02804",
   "metadata": {},
   "outputs": [],
   "source": []
  },
  {
   "cell_type": "code",
   "execution_count": null,
   "id": "c8d6629f",
   "metadata": {},
   "outputs": [],
   "source": []
  },
  {
   "cell_type": "code",
   "execution_count": 27,
   "id": "e21ebed1",
   "metadata": {},
   "outputs": [],
   "source": [
    "def bump():\n",
    "    \"\"\"\n",
    "    please enter your age\n",
    "    \"\"\"\n",
    "    # I am printing my name now\n",
    "    print('Omolewa')"
   ]
  },
  {
   "cell_type": "code",
   "execution_count": null,
   "id": "ee7aa34c",
   "metadata": {},
   "outputs": [],
   "source": [
    "bump"
   ]
  }
 ],
 "metadata": {
  "kernelspec": {
   "display_name": "Python 3 (ipykernel)",
   "language": "python",
   "name": "python3"
  },
  "language_info": {
   "codemirror_mode": {
    "name": "ipython",
    "version": 3
   },
   "file_extension": ".py",
   "mimetype": "text/x-python",
   "name": "python",
   "nbconvert_exporter": "python",
   "pygments_lexer": "ipython3",
   "version": "3.9.7"
  }
 },
 "nbformat": 4,
 "nbformat_minor": 5
}
