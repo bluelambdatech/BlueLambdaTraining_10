{
 "cells": [
  {
   "cell_type": "code",
   "execution_count": 1,
   "id": "7d6bba7c",
   "metadata": {},
   "outputs": [],
   "source": [
    "# FOR LOOP\n",
    "\n",
    "num1 = [2, 3, 4, 5, 6]\n",
    "num2 = [10, 20, 30, 40]"
   ]
  },
  {
   "cell_type": "code",
   "execution_count": 2,
   "id": "c1691bb5",
   "metadata": {},
   "outputs": [
    {
     "name": "stdout",
     "output_type": "stream",
     "text": [
      "20\n",
      "40\n",
      "60\n",
      "80\n",
      "30\n",
      "60\n",
      "90\n",
      "120\n",
      "40\n",
      "80\n",
      "120\n",
      "160\n",
      "50\n",
      "100\n",
      "150\n",
      "200\n",
      "60\n",
      "120\n",
      "180\n",
      "240\n"
     ]
    }
   ],
   "source": [
    "for x in num1:\n",
    "    for y in num2:\n",
    "        print(x * y)"
   ]
  },
  {
   "cell_type": "code",
   "execution_count": null,
   "id": "b26ad227",
   "metadata": {},
   "outputs": [],
   "source": [
    "# How to Populate A List if this is required for the operation above"
   ]
  },
  {
   "cell_type": "code",
   "execution_count": 3,
   "id": "7be86343",
   "metadata": {},
   "outputs": [],
   "source": [
    "output = []\n",
    "for x in num1:\n",
    "    for y in num2:\n",
    "        output.append(x * y)"
   ]
  },
  {
   "cell_type": "code",
   "execution_count": 4,
   "id": "5bd8ea5a",
   "metadata": {},
   "outputs": [
    {
     "data": {
      "text/plain": [
       "[20,\n",
       " 40,\n",
       " 60,\n",
       " 80,\n",
       " 30,\n",
       " 60,\n",
       " 90,\n",
       " 120,\n",
       " 40,\n",
       " 80,\n",
       " 120,\n",
       " 160,\n",
       " 50,\n",
       " 100,\n",
       " 150,\n",
       " 200,\n",
       " 60,\n",
       " 120,\n",
       " 180,\n",
       " 240]"
      ]
     },
     "execution_count": 4,
     "metadata": {},
     "output_type": "execute_result"
    }
   ],
   "source": [
    "output"
   ]
  },
  {
   "cell_type": "code",
   "execution_count": 6,
   "id": "31b98dd9",
   "metadata": {},
   "outputs": [
    {
     "data": {
      "text/plain": [
       "'My Age is 90'"
      ]
     },
     "execution_count": 6,
     "metadata": {},
     "output_type": "execute_result"
    }
   ],
   "source": [
    "# f-string\n",
    "f'My Age is 90'"
   ]
  },
  {
   "cell_type": "code",
   "execution_count": 7,
   "id": "e628f9d2",
   "metadata": {},
   "outputs": [
    {
     "name": "stdout",
     "output_type": "stream",
     "text": [
      "My age is 23\n",
      "My age is 45\n",
      "My age is 20\n",
      "My age is 100\n"
     ]
    }
   ],
   "source": [
    "age = [23, 45, 20, 100]\n",
    "for a in age:\n",
    "    print(f'My age is {a}')"
   ]
  },
  {
   "cell_type": "code",
   "execution_count": null,
   "id": "083d34b3",
   "metadata": {},
   "outputs": [],
   "source": []
  },
  {
   "cell_type": "code",
   "execution_count": 8,
   "id": "96567f55",
   "metadata": {},
   "outputs": [
    {
     "name": "stdout",
     "output_type": "stream",
     "text": [
      "My age is 23 and I want to multiply my age by 10: 230\n",
      "My age is 45 and I want to multiply my age by 10: 450\n",
      "My age is 20 and I want to multiply my age by 10: 200\n",
      "My age is 100 and I want to multiply my age by 10: 1000\n"
     ]
    }
   ],
   "source": [
    "age = [23, 45, 20, 100]\n",
    "for a in age:\n",
    "    print(f'My age is {a} and I want to multiply my age by 10: {10 * a}')"
   ]
  },
  {
   "cell_type": "code",
   "execution_count": 9,
   "id": "86f80be8",
   "metadata": {},
   "outputs": [],
   "source": [
    "num1 = [2, 3, 4]\n",
    "num2 = [10, 20, 30]"
   ]
  },
  {
   "cell_type": "code",
   "execution_count": 10,
   "id": "04a47211",
   "metadata": {},
   "outputs": [],
   "source": [
    "output = {}\n",
    "for x in num1:\n",
    "    for y in num2:\n",
    "        output[f'{str(x)} * {str(y)}']= x * y"
   ]
  },
  {
   "cell_type": "code",
   "execution_count": null,
   "id": "2f218d00",
   "metadata": {},
   "outputs": [],
   "source": []
  },
  {
   "cell_type": "code",
   "execution_count": 11,
   "id": "f521c7e7",
   "metadata": {},
   "outputs": [
    {
     "data": {
      "text/plain": [
       "{'2 * 10': 20,\n",
       " '2 * 20': 40,\n",
       " '2 * 30': 60,\n",
       " '3 * 10': 30,\n",
       " '3 * 20': 60,\n",
       " '3 * 30': 90,\n",
       " '4 * 10': 40,\n",
       " '4 * 20': 80,\n",
       " '4 * 30': 120}"
      ]
     },
     "execution_count": 11,
     "metadata": {},
     "output_type": "execute_result"
    }
   ],
   "source": [
    "output"
   ]
  },
  {
   "cell_type": "code",
   "execution_count": 12,
   "id": "2f610e2a",
   "metadata": {},
   "outputs": [],
   "source": [
    "# representing output as dictionary using tupples\n",
    "output = {}\n",
    "for x in num1:\n",
    "    for y in num2:\n",
    "        output[(str(x),str(y))] = x * y"
   ]
  },
  {
   "cell_type": "code",
   "execution_count": 13,
   "id": "636cdc43",
   "metadata": {},
   "outputs": [
    {
     "data": {
      "text/plain": [
       "{('2', '10'): 20,\n",
       " ('2', '20'): 40,\n",
       " ('2', '30'): 60,\n",
       " ('3', '10'): 30,\n",
       " ('3', '20'): 60,\n",
       " ('3', '30'): 90,\n",
       " ('4', '10'): 40,\n",
       " ('4', '20'): 80,\n",
       " ('4', '30'): 120}"
      ]
     },
     "execution_count": 13,
     "metadata": {},
     "output_type": "execute_result"
    }
   ],
   "source": [
    "output"
   ]
  },
  {
   "cell_type": "code",
   "execution_count": null,
   "id": "54765494",
   "metadata": {},
   "outputs": [],
   "source": []
  },
  {
   "cell_type": "code",
   "execution_count": null,
   "id": "bed109e4",
   "metadata": {},
   "outputs": [],
   "source": []
  },
  {
   "cell_type": "code",
   "execution_count": 15,
   "id": "3499092f",
   "metadata": {},
   "outputs": [],
   "source": [
    "# Given the list [2, 4, 6, 8, 10] generate the output [20, 40, 60, 80, 100]"
   ]
  },
  {
   "cell_type": "code",
   "execution_count": 16,
   "id": "16cb7c25",
   "metadata": {},
   "outputs": [],
   "source": [
    "nums = [2, 4, 6, 8, 10]\n",
    "nums2 = 10"
   ]
  },
  {
   "cell_type": "code",
   "execution_count": 17,
   "id": "df6e2a17",
   "metadata": {},
   "outputs": [],
   "source": [
    "output = []\n",
    "for x in nums:\n",
    "    output.append(x * nums2)"
   ]
  },
  {
   "cell_type": "code",
   "execution_count": 18,
   "id": "fb8adbc7",
   "metadata": {},
   "outputs": [
    {
     "data": {
      "text/plain": [
       "[20, 40, 60, 80, 100]"
      ]
     },
     "execution_count": 18,
     "metadata": {},
     "output_type": "execute_result"
    }
   ],
   "source": [
    "output"
   ]
  },
  {
   "cell_type": "code",
   "execution_count": 19,
   "id": "1082eb02",
   "metadata": {},
   "outputs": [],
   "source": [
    "# To improve on the code\n",
    "\n",
    "nums = [2, 4, 6, 8, 10]\n",
    "output = []\n",
    "for x in nums:\n",
    "    output.append(x * 10)"
   ]
  },
  {
   "cell_type": "code",
   "execution_count": 20,
   "id": "01cdfcb7",
   "metadata": {},
   "outputs": [
    {
     "data": {
      "text/plain": [
       "[20, 40, 60, 80, 100]"
      ]
     },
     "execution_count": 20,
     "metadata": {},
     "output_type": "execute_result"
    }
   ],
   "source": [
    "output"
   ]
  },
  {
   "cell_type": "code",
   "execution_count": null,
   "id": "54e7a254",
   "metadata": {},
   "outputs": [],
   "source": []
  },
  {
   "cell_type": "code",
   "execution_count": null,
   "id": "7dad3206",
   "metadata": {},
   "outputs": [],
   "source": []
  },
  {
   "cell_type": "code",
   "execution_count": 14,
   "id": "25c896fa",
   "metadata": {},
   "outputs": [],
   "source": [
    "# list comprehension, dictionary comprehension, generator"
   ]
  },
  {
   "cell_type": "code",
   "execution_count": 21,
   "id": "f2b990b0",
   "metadata": {},
   "outputs": [],
   "source": [
    "# To improve on the code use list comprehension\n",
    "\n",
    "nums = [2, 4, 6, 8, 10]"
   ]
  },
  {
   "cell_type": "code",
   "execution_count": 22,
   "id": "38f143d8",
   "metadata": {},
   "outputs": [
    {
     "data": {
      "text/plain": [
       "[20, 40, 60, 80, 100]"
      ]
     },
     "execution_count": 22,
     "metadata": {},
     "output_type": "execute_result"
    }
   ],
   "source": [
    "[x * 10 for x in nums]"
   ]
  },
  {
   "cell_type": "code",
   "execution_count": 15,
   "id": "48a1ed95",
   "metadata": {},
   "outputs": [],
   "source": [
    "# Given the list [2, 4, 6, 8, 10] generate the output {2: 20, 4: 40, 6: 60, 8: 80, 10: 100}"
   ]
  },
  {
   "cell_type": "code",
   "execution_count": 23,
   "id": "03ae20f7",
   "metadata": {},
   "outputs": [],
   "source": [
    "output = {}\n",
    "for x in nums:\n",
    "    output[x] = x * 10"
   ]
  },
  {
   "cell_type": "code",
   "execution_count": 24,
   "id": "3b16828f",
   "metadata": {},
   "outputs": [
    {
     "data": {
      "text/plain": [
       "{2: 20, 4: 40, 6: 60, 8: 80, 10: 100}"
      ]
     },
     "execution_count": 24,
     "metadata": {},
     "output_type": "execute_result"
    }
   ],
   "source": [
    "output"
   ]
  },
  {
   "cell_type": "code",
   "execution_count": null,
   "id": "a278f33d",
   "metadata": {},
   "outputs": [],
   "source": []
  },
  {
   "cell_type": "code",
   "execution_count": null,
   "id": "3dbbe92c",
   "metadata": {},
   "outputs": [],
   "source": []
  },
  {
   "cell_type": "code",
   "execution_count": 25,
   "id": "f3b75425",
   "metadata": {},
   "outputs": [],
   "source": [
    "#To improve the code, use dictionary comprehension"
   ]
  },
  {
   "cell_type": "code",
   "execution_count": 26,
   "id": "0170638d",
   "metadata": {},
   "outputs": [
    {
     "data": {
      "text/plain": [
       "{2: 20, 4: 40, 6: 60, 8: 80, 10: 100}"
      ]
     },
     "execution_count": 26,
     "metadata": {},
     "output_type": "execute_result"
    }
   ],
   "source": [
    "{x: x * 10 for x in nums}"
   ]
  },
  {
   "cell_type": "code",
   "execution_count": null,
   "id": "4e9ebb80",
   "metadata": {},
   "outputs": [],
   "source": []
  },
  {
   "cell_type": "code",
   "execution_count": null,
   "id": "8572d063",
   "metadata": {},
   "outputs": [],
   "source": []
  },
  {
   "cell_type": "code",
   "execution_count": 27,
   "id": "a0af5a46",
   "metadata": {},
   "outputs": [],
   "source": [
    "# Zip"
   ]
  },
  {
   "cell_type": "code",
   "execution_count": 28,
   "id": "1a9d6866",
   "metadata": {},
   "outputs": [],
   "source": [
    "names = ['Omolewa', 'Edward', 'Felix']\n",
    "cash = [10, 20, 30]"
   ]
  },
  {
   "cell_type": "code",
   "execution_count": 29,
   "id": "24931ab9",
   "metadata": {},
   "outputs": [
    {
     "data": {
      "text/plain": [
       "{'Omolewa': 10, 'Edward': 20, 'Felix': 30}"
      ]
     },
     "execution_count": 29,
     "metadata": {},
     "output_type": "execute_result"
    }
   ],
   "source": [
    "dict(zip(names, cash))"
   ]
  },
  {
   "cell_type": "code",
   "execution_count": null,
   "id": "2cec13ac",
   "metadata": {},
   "outputs": [],
   "source": []
  },
  {
   "cell_type": "code",
   "execution_count": null,
   "id": "5f592dde",
   "metadata": {},
   "outputs": [],
   "source": []
  },
  {
   "cell_type": "code",
   "execution_count": 30,
   "id": "b644b1a8",
   "metadata": {},
   "outputs": [],
   "source": [
    "# Assignment"
   ]
  },
  {
   "cell_type": "code",
   "execution_count": 9,
   "id": "52349caf",
   "metadata": {},
   "outputs": [],
   "source": [
    "num1 = [2, 3, 4]\n",
    "num2 = [10, 20, 30]"
   ]
  },
  {
   "cell_type": "code",
   "execution_count": 46,
   "id": "c891a8ea",
   "metadata": {},
   "outputs": [
    {
     "ename": "TypeError",
     "evalue": "'int' object is not iterable",
     "output_type": "error",
     "traceback": [
      "\u001b[0;31m---------------------------------------------------------------------------\u001b[0m",
      "\u001b[0;31mTypeError\u001b[0m                                 Traceback (most recent call last)",
      "Input \u001b[0;32mIn [46]\u001b[0m, in \u001b[0;36m<cell line: 1>\u001b[0;34m()\u001b[0m\n\u001b[1;32m      1\u001b[0m \u001b[38;5;28;01mfor\u001b[39;00m x \u001b[38;5;129;01min\u001b[39;00m num1:\n\u001b[1;32m      2\u001b[0m     \u001b[38;5;28;01mfor\u001b[39;00m y \u001b[38;5;129;01min\u001b[39;00m num2:\n\u001b[0;32m----> 3\u001b[0m         \u001b[38;5;28mdict\u001b[39m(\u001b[38;5;28;43mzip\u001b[39;49m\u001b[43m(\u001b[49m\u001b[38;5;124;43mf\u001b[39;49m\u001b[38;5;124;43m'\u001b[39;49m\u001b[38;5;132;43;01m{\u001b[39;49;00m\u001b[38;5;28;43mstr\u001b[39;49m\u001b[43m(\u001b[49m\u001b[43mx\u001b[49m\u001b[43m)\u001b[49m\u001b[38;5;132;43;01m}\u001b[39;49;00m\u001b[38;5;124;43m * \u001b[39;49m\u001b[38;5;132;43;01m{\u001b[39;49;00m\u001b[38;5;28;43mstr\u001b[39;49m\u001b[43m(\u001b[49m\u001b[43my\u001b[49m\u001b[43m)\u001b[49m\u001b[38;5;132;43;01m}\u001b[39;49;00m\u001b[38;5;124;43m'\u001b[39;49m\u001b[43m,\u001b[49m\u001b[43m \u001b[49m\u001b[43m(\u001b[49m\u001b[43mx\u001b[49m\u001b[43m \u001b[49m\u001b[38;5;241;43m*\u001b[39;49m\u001b[43m \u001b[49m\u001b[43my\u001b[49m\u001b[43m)\u001b[49m\u001b[43m)\u001b[49m)\n",
      "\u001b[0;31mTypeError\u001b[0m: 'int' object is not iterable"
     ]
    }
   ],
   "source": [
    "for x in num1:\n",
    "    for y in num2:\n",
    "        dict(zip(f'{str(x)} * {str(y)}', (x * y)))"
   ]
  },
  {
   "cell_type": "code",
   "execution_count": null,
   "id": "7ab55f42",
   "metadata": {},
   "outputs": [],
   "source": []
  }
 ],
 "metadata": {
  "kernelspec": {
   "display_name": "Python 3 (ipykernel)",
   "language": "python",
   "name": "python3"
  },
  "language_info": {
   "codemirror_mode": {
    "name": "ipython",
    "version": 3
   },
   "file_extension": ".py",
   "mimetype": "text/x-python",
   "name": "python",
   "nbconvert_exporter": "python",
   "pygments_lexer": "ipython3",
   "version": "3.9.12"
  }
 },
 "nbformat": 4,
 "nbformat_minor": 5
}
