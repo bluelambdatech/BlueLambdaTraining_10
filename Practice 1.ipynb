{
 "cells": [
  {
   "cell_type": "markdown",
   "id": "95810946",
   "metadata": {},
   "source": [
    "Write a Python function that accepts a string and calculate the number of upper case letters and lower case letters. Go to the editor\n",
    "Sample String : 'The quick Brow Fox'\n",
    "Expected Output :\n",
    "No. of Upper case characters : 3\n",
    "No. of Lower case Characters : 12"
   ]
  },
  {
   "cell_type": "code",
   "execution_count": 1,
   "id": "6c0f794b",
   "metadata": {},
   "outputs": [
    {
     "name": "stdout",
     "output_type": "stream",
     "text": [
      "No. of Upper case characters : 3,No. of Lower case characters : 12\n"
     ]
    }
   ],
   "source": [
    "def up_low(s):      \n",
    "    u = sum(1 for i in s if i.isupper())\n",
    "    l = sum(1 for i in s if i.islower())\n",
    "    print( \"No. of Upper case characters : %s,No. of Lower case characters : %s\" % (u,l))\n",
    "\n",
    "up_low(\"The quick Brow Fox?\")"
   ]
  },
  {
   "cell_type": "markdown",
   "id": "df803054",
   "metadata": {},
   "source": [
    "Write a Python function to calculate the factorial of a number (a non-negative integer). The function accepts the number as an argument"
   ]
  },
  {
   "cell_type": "code",
   "execution_count": 4,
   "id": "93014319",
   "metadata": {},
   "outputs": [
    {
     "name": "stdout",
     "output_type": "stream",
     "text": [
      "Input a number to compute the factiorial : 5\n",
      "120\n"
     ]
    }
   ],
   "source": [
    "def factorial(n):\n",
    "    if n == 0:\n",
    "        return 1\n",
    "    else:\n",
    "        return n * factorial(n-1)\n",
    "n=int(input(\"Input a number to compute the factiorial : \"))\n",
    "print(factorial(n))"
   ]
  },
  {
   "cell_type": "code",
   "execution_count": 5,
   "id": "1f211b21",
   "metadata": {},
   "outputs": [
    {
     "name": "stdout",
     "output_type": "stream",
     "text": [
      "\n",
      "Factorial of 5:  120\n",
      "\n",
      "Factorial of -12:  Number can't be negative or floating point!\n",
      "\n",
      "Factorial of 1.22:  Number can't be negative or floating point!\n",
      "\n",
      "Factorial of 100:  93326215443944152681699238856266700490715968264381621468592963895217599993229915608941463976156518286253697920827223758251185210916864000000000000000000000000\n"
     ]
    }
   ],
   "source": [
    "def factorial(n):\n",
    "  if not ((n >= 0) and (n % 1 == 0)):\n",
    "    return(\"Number can't be negative or floating point!\")\n",
    "  return 1 if n == 0 else n * factorial(n - 1)\n",
    "\n",
    "print(\"\\nFactorial of 5: \",factorial(5))\n",
    "print(\"\\nFactorial of -12: \",factorial(-12))\n",
    "print(\"\\nFactorial of 1.22: \",factorial(1.22))\n",
    "print(\"\\nFactorial of 100: \",factorial(100))"
   ]
  },
  {
   "cell_type": "markdown",
   "id": "3d8df10c",
   "metadata": {},
   "source": [
    "def perfect_number(n):\n",
    "    sum = 0\n",
    "    for x in range(1, n):\n",
    "        if n % x == 0:\n",
    "            sum += x\n",
    "    return sum == n\n",
    "print(perfect_number(6))"
   ]
  },
  {
   "cell_type": "markdown",
   "id": "6b17f0f2",
   "metadata": {},
   "source": [
    " Write a Python program that accepts a hyphen-separated sequence of words as input and prints the words in a hyphen-separated sequence after sorting them alphabetically. Go to the editor\n",
    "Sample Items : green-red-yellow-black-white\n",
    "Expected Result : black-green-red-white-yellow"
   ]
  },
  {
   "cell_type": "code",
   "execution_count": 7,
   "id": "b81ab7fa",
   "metadata": {},
   "outputs": [
    {
     "name": "stdout",
     "output_type": "stream",
     "text": [
      "green-red-black-white \n",
      "black-green-red-white \n"
     ]
    }
   ],
   "source": [
    "items=[n for n in input().split('-')]\n",
    "items.sort()\n",
    "print('-'.join(items))"
   ]
  },
  {
   "cell_type": "markdown",
   "id": "adcbf1a3",
   "metadata": {},
   "source": [
    "Write a Python function to multiply all the numbers in a list. Go to the editor\n",
    "Sample List : (8, 2, 3, -1, 7)\n",
    "Expected Output : -336"
   ]
  },
  {
   "cell_type": "code",
   "execution_count": 8,
   "id": "2d9da7c6",
   "metadata": {},
   "outputs": [
    {
     "name": "stdout",
     "output_type": "stream",
     "text": [
      "-336\n"
     ]
    }
   ],
   "source": [
    "def multiply(numbers):  \n",
    "    total = 1\n",
    "    for x in numbers:\n",
    "        total *= x  \n",
    "    return total  \n",
    "print(multiply((8, 2, 3, -1, 7)))"
   ]
  },
  {
   "cell_type": "markdown",
   "id": "b5974708",
   "metadata": {},
   "source": [
    "Write a Python Function to guess a number between 1 to 9. Go to the editor\n",
    "Note : User is prompted to enter a guess. If the user guesses wrong then the prompt appears again until the guess is correct, on successful guess, user will get a \"Well guessed!\" message, and the program will exit."
   ]
  },
  {
   "cell_type": "code",
   "execution_count": 10,
   "id": "7516b783",
   "metadata": {},
   "outputs": [
    {
     "name": "stdout",
     "output_type": "stream",
     "text": [
      "Guess a number between 1 and 10 until you get it right : 5\n",
      "Guess a number between 1 and 10 until you get it right : 3\n",
      "Guess a number between 1 and 10 until you get it right : 8\n",
      "Guess a number between 1 and 10 until you get it right : 9\n",
      "Guess a number between 1 and 10 until you get it right : 2\n",
      "Guess a number between 1 and 10 until you get it right : 8\n",
      "Guess a number between 1 and 10 until you get it right : 7\n",
      "Well guessed!\n"
     ]
    }
   ],
   "source": [
    "import random\n",
    "target_num, guess_num = random.randint(1, 10), 0\n",
    "while target_num != guess_num:\n",
    "    guess_num = int(input('Guess a number between 1 and 10 until you get it right : '))\n",
    "print('Well guessed!')"
   ]
  },
  {
   "cell_type": "markdown",
   "id": "8ab727bd",
   "metadata": {},
   "source": [
    "Write a Python program to find those numbers which are divisible by 7 and multiple of 5, between 1500 and 2700 (both included)"
   ]
  },
  {
   "cell_type": "code",
   "execution_count": 11,
   "id": "b72204a6",
   "metadata": {},
   "outputs": [
    {
     "name": "stdout",
     "output_type": "stream",
     "text": [
      "1505,1540,1575,1610,1645,1680,1715,1750,1785,1820,1855,1890,1925,1960,1995,2030,2065,2100,2135,2170,2205,2240,2275,2310,2345,2380,2415,2450,2485,2520,2555,2590,2625,2660,2695\n"
     ]
    }
   ],
   "source": [
    "nl=[]\n",
    "for x in range(1500, 2701):\n",
    "    if (x%7==0) and (x%5==0):\n",
    "        nl.append(str(x))\n",
    "print (','.join(nl))"
   ]
  },
  {
   "cell_type": "code",
   "execution_count": null,
   "id": "20dafbc6",
   "metadata": {},
   "outputs": [],
   "source": []
  }
 ],
 "metadata": {
  "kernelspec": {
   "display_name": "Python 3 (ipykernel)",
   "language": "python",
   "name": "python3"
  },
  "language_info": {
   "codemirror_mode": {
    "name": "ipython",
    "version": 3
   },
   "file_extension": ".py",
   "mimetype": "text/x-python",
   "name": "python",
   "nbconvert_exporter": "python",
   "pygments_lexer": "ipython3",
   "version": "3.9.12"
  }
 },
 "nbformat": 4,
 "nbformat_minor": 5
}
