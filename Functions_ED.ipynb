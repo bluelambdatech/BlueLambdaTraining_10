{
 "cells": [
  {
   "cell_type": "markdown",
   "id": "66801feb",
   "metadata": {},
   "source": [
    "## Creating Custom Functions"
   ]
  },
  {
   "cell_type": "code",
   "execution_count": null,
   "id": "1eff4bfb",
   "metadata": {},
   "outputs": [],
   "source": []
  },
  {
   "cell_type": "code",
   "execution_count": 37,
   "id": "5064b286",
   "metadata": {},
   "outputs": [],
   "source": [
    "def multiply():\n",
    "    print(2 * 3)"
   ]
  },
  {
   "cell_type": "code",
   "execution_count": 2,
   "id": "9d5dabba",
   "metadata": {},
   "outputs": [
    {
     "name": "stdout",
     "output_type": "stream",
     "text": [
      "6\n"
     ]
    }
   ],
   "source": [
    "multiply()"
   ]
  },
  {
   "cell_type": "code",
   "execution_count": 3,
   "id": "23ca9184",
   "metadata": {},
   "outputs": [],
   "source": [
    "def print_name():\n",
    "    print('Omolewa')"
   ]
  },
  {
   "cell_type": "code",
   "execution_count": 4,
   "id": "182340d9",
   "metadata": {},
   "outputs": [
    {
     "name": "stdout",
     "output_type": "stream",
     "text": [
      "Omolewa\n"
     ]
    }
   ],
   "source": [
    "print_name()"
   ]
  },
  {
   "cell_type": "code",
   "execution_count": 5,
   "id": "49157239",
   "metadata": {},
   "outputs": [],
   "source": [
    "def print_name(name):\n",
    "    print(name)"
   ]
  },
  {
   "cell_type": "code",
   "execution_count": 6,
   "id": "ba06b889",
   "metadata": {},
   "outputs": [
    {
     "name": "stdout",
     "output_type": "stream",
     "text": [
      "Edward\n"
     ]
    }
   ],
   "source": [
    "print_name('Edward')"
   ]
  },
  {
   "cell_type": "markdown",
   "id": "a38c81d6",
   "metadata": {},
   "source": [
    "### Positional Argument"
   ]
  },
  {
   "cell_type": "code",
   "execution_count": 11,
   "id": "6413e547",
   "metadata": {},
   "outputs": [],
   "source": [
    "def print_name(name1, name2, name3, name4):\n",
    "    print(name4)"
   ]
  },
  {
   "cell_type": "code",
   "execution_count": 12,
   "id": "8427cb8e",
   "metadata": {},
   "outputs": [
    {
     "name": "stdout",
     "output_type": "stream",
     "text": [
      "Omo\n"
     ]
    }
   ],
   "source": [
    "print_name('Ade', 'Tony', 'David', 'Omo')"
   ]
  },
  {
   "cell_type": "code",
   "execution_count": null,
   "id": "ce372aa4",
   "metadata": {},
   "outputs": [],
   "source": []
  },
  {
   "cell_type": "code",
   "execution_count": null,
   "id": "ceccaf3f",
   "metadata": {},
   "outputs": [],
   "source": [
    "# create a function to print out the last character of a name"
   ]
  },
  {
   "cell_type": "code",
   "execution_count": 18,
   "id": "1fbeae66",
   "metadata": {},
   "outputs": [],
   "source": [
    "def print_char(name):\n",
    "    print(name[-1])"
   ]
  },
  {
   "cell_type": "code",
   "execution_count": 24,
   "id": "a584d20c",
   "metadata": {},
   "outputs": [
    {
     "name": "stdout",
     "output_type": "stream",
     "text": [
      "n\n"
     ]
    }
   ],
   "source": [
    "print_char('Olaitan')"
   ]
  },
  {
   "cell_type": "code",
   "execution_count": null,
   "id": "4d0e4a15",
   "metadata": {},
   "outputs": [],
   "source": []
  },
  {
   "cell_type": "code",
   "execution_count": null,
   "id": "c8276dbd",
   "metadata": {},
   "outputs": [],
   "source": [
    "# create a function to print out in upper case"
   ]
  },
  {
   "cell_type": "code",
   "execution_count": 25,
   "id": "43a38bf6",
   "metadata": {},
   "outputs": [],
   "source": [
    "def print_upper(name):\n",
    "    print(name.upper())"
   ]
  },
  {
   "cell_type": "code",
   "execution_count": 26,
   "id": "4b53af4c",
   "metadata": {},
   "outputs": [
    {
     "name": "stdout",
     "output_type": "stream",
     "text": [
      "CAROLINE\n"
     ]
    }
   ],
   "source": [
    "print_upper('Caroline')"
   ]
  },
  {
   "cell_type": "code",
   "execution_count": null,
   "id": "84d459a4",
   "metadata": {},
   "outputs": [],
   "source": []
  },
  {
   "cell_type": "code",
   "execution_count": null,
   "id": "e40727e4",
   "metadata": {},
   "outputs": [],
   "source": [
    "# Methods using fullstop and tab to view options"
   ]
  },
  {
   "cell_type": "code",
   "execution_count": 32,
   "id": "f95411bb",
   "metadata": {},
   "outputs": [],
   "source": [
    "name = 'Brian'"
   ]
  },
  {
   "cell_type": "code",
   "execution_count": 33,
   "id": "3793c358",
   "metadata": {},
   "outputs": [
    {
     "data": {
      "text/plain": [
       "'Brian'"
      ]
     },
     "execution_count": 33,
     "metadata": {},
     "output_type": "execute_result"
    }
   ],
   "source": [
    "name.capitalize()"
   ]
  },
  {
   "cell_type": "code",
   "execution_count": 35,
   "id": "25e8f24f",
   "metadata": {},
   "outputs": [
    {
     "data": {
      "text/plain": [
       "['Br', 'an']"
      ]
     },
     "execution_count": 35,
     "metadata": {},
     "output_type": "execute_result"
    }
   ],
   "source": [
    "name.split('i')"
   ]
  },
  {
   "cell_type": "code",
   "execution_count": 36,
   "id": "5a5458b0",
   "metadata": {},
   "outputs": [
    {
     "data": {
      "text/plain": [
       "'BRIAN'"
      ]
     },
     "execution_count": 36,
     "metadata": {},
     "output_type": "execute_result"
    }
   ],
   "source": [
    "name.upper()"
   ]
  },
  {
   "cell_type": "code",
   "execution_count": null,
   "id": "907d2307",
   "metadata": {},
   "outputs": [],
   "source": []
  },
  {
   "cell_type": "code",
   "execution_count": null,
   "id": "f31395ae",
   "metadata": {},
   "outputs": [],
   "source": []
  },
  {
   "cell_type": "markdown",
   "id": "c6fb0116",
   "metadata": {},
   "source": [
    "### Keyword Argument"
   ]
  },
  {
   "cell_type": "code",
   "execution_count": 28,
   "id": "62b5ab08",
   "metadata": {},
   "outputs": [],
   "source": [
    "def print_name(name1, name2, name3, name4):\n",
    "    print(name4)"
   ]
  },
  {
   "cell_type": "code",
   "execution_count": 30,
   "id": "1c161f87",
   "metadata": {},
   "outputs": [
    {
     "name": "stdout",
     "output_type": "stream",
     "text": [
      "Ade\n"
     ]
    }
   ],
   "source": [
    "print_name(name4 = 'Ade', name2 = 'Tony', name1 = 'David', name3 = 'Omo')"
   ]
  },
  {
   "cell_type": "code",
   "execution_count": null,
   "id": "c4d0ec45",
   "metadata": {},
   "outputs": [],
   "source": []
  },
  {
   "cell_type": "markdown",
   "id": "8c027bb4",
   "metadata": {},
   "source": [
    "#### Default values of arguments"
   ]
  },
  {
   "cell_type": "code",
   "execution_count": 38,
   "id": "9a6d98b9",
   "metadata": {},
   "outputs": [],
   "source": [
    "def multiply(x=4, y=5):\n",
    "    print(x + y)"
   ]
  },
  {
   "cell_type": "code",
   "execution_count": 39,
   "id": "de175930",
   "metadata": {},
   "outputs": [
    {
     "name": "stdout",
     "output_type": "stream",
     "text": [
      "9\n"
     ]
    }
   ],
   "source": [
    "multiply()"
   ]
  },
  {
   "cell_type": "code",
   "execution_count": 40,
   "id": "18d387c2",
   "metadata": {},
   "outputs": [
    {
     "name": "stdout",
     "output_type": "stream",
     "text": [
      "25\n"
     ]
    }
   ],
   "source": [
    "multiply(x=10, y=15) #you can change the preset values of the arguments when you call a function"
   ]
  },
  {
   "cell_type": "code",
   "execution_count": 41,
   "id": "ccca36d1",
   "metadata": {},
   "outputs": [
    {
     "name": "stdout",
     "output_type": "stream",
     "text": [
      "19\n"
     ]
    }
   ],
   "source": [
    "multiply(y=15) #you can change the preset value of just one argument when you call a function"
   ]
  },
  {
   "cell_type": "code",
   "execution_count": null,
   "id": "c19eca22",
   "metadata": {},
   "outputs": [],
   "source": []
  },
  {
   "cell_type": "markdown",
   "id": "c7c5f2b4",
   "metadata": {},
   "source": [
    "#### Mix of positional argument with default arguments"
   ]
  },
  {
   "cell_type": "code",
   "execution_count": 43,
   "id": "7840fb07",
   "metadata": {},
   "outputs": [],
   "source": [
    " #the positional argument must come ahead of default arguments \n",
    "    \n",
    "def nene(z, x = 4, y = 5):\n",
    "    print(x + y + z)\n",
    "   "
   ]
  },
  {
   "cell_type": "code",
   "execution_count": 44,
   "id": "4b3fe04e",
   "metadata": {},
   "outputs": [
    {
     "name": "stdout",
     "output_type": "stream",
     "text": [
      "21\n"
     ]
    }
   ],
   "source": [
    "nene(12)  # 12 will be assigned to z based on it's position while other arguments retain their default values"
   ]
  },
  {
   "cell_type": "code",
   "execution_count": null,
   "id": "e66cf22b",
   "metadata": {},
   "outputs": [],
   "source": []
  },
  {
   "cell_type": "markdown",
   "id": "97ad6a29",
   "metadata": {},
   "source": [
    "### How to use return"
   ]
  },
  {
   "cell_type": "code",
   "execution_count": 45,
   "id": "cab9cc75",
   "metadata": {},
   "outputs": [],
   "source": [
    "# when return is used, the code will not print the output\n",
    "# when return is used while creating a function the code will not run any other command after that line"
   ]
  },
  {
   "cell_type": "code",
   "execution_count": 46,
   "id": "42861750",
   "metadata": {},
   "outputs": [],
   "source": [
    "# E.G. it will not print Omolewa\n",
    "\n",
    "\n",
    "def nene(z, x = 4, y = 5):\n",
    "    return x + y + z\n",
    "    print('Omolewa')\n",
    "   \n"
   ]
  },
  {
   "cell_type": "code",
   "execution_count": null,
   "id": "fdb1345e",
   "metadata": {},
   "outputs": [],
   "source": []
  },
  {
   "cell_type": "code",
   "execution_count": 47,
   "id": "4be038a5",
   "metadata": {},
   "outputs": [
    {
     "data": {
      "text/plain": [
       "21"
      ]
     },
     "execution_count": 47,
     "metadata": {},
     "output_type": "execute_result"
    }
   ],
   "source": [
    "nene(12)"
   ]
  },
  {
   "cell_type": "code",
   "execution_count": 48,
   "id": "2b36141a",
   "metadata": {},
   "outputs": [],
   "source": [
    "# if we want to for eg multiply the output of the function by 100"
   ]
  },
  {
   "cell_type": "code",
   "execution_count": 49,
   "id": "4ba13059",
   "metadata": {},
   "outputs": [],
   "source": [
    "out = nene(12)"
   ]
  },
  {
   "cell_type": "code",
   "execution_count": 50,
   "id": "0bd62315",
   "metadata": {},
   "outputs": [
    {
     "data": {
      "text/plain": [
       "2100"
      ]
     },
     "execution_count": 50,
     "metadata": {},
     "output_type": "execute_result"
    }
   ],
   "source": [
    "out * 100"
   ]
  },
  {
   "cell_type": "code",
   "execution_count": 51,
   "id": "aef74bd8",
   "metadata": {},
   "outputs": [],
   "source": [
    "# if we had used print to define the function it would not enable us perform the calculation above\n",
    "def nene(z, x = 4, y = 5):\n",
    "    print(x + y + z)"
   ]
  },
  {
   "cell_type": "code",
   "execution_count": 52,
   "id": "f53b1183",
   "metadata": {},
   "outputs": [
    {
     "name": "stdout",
     "output_type": "stream",
     "text": [
      "21\n"
     ]
    }
   ],
   "source": [
    "out = nene(12)"
   ]
  },
  {
   "cell_type": "code",
   "execution_count": 53,
   "id": "6dbea695",
   "metadata": {},
   "outputs": [],
   "source": [
    "out # in this scenario 'out' will not display any value"
   ]
  },
  {
   "cell_type": "code",
   "execution_count": null,
   "id": "ca73ee8e",
   "metadata": {},
   "outputs": [],
   "source": []
  },
  {
   "cell_type": "markdown",
   "id": "21e635ff",
   "metadata": {},
   "source": [
    "### Generator - generates a value or output"
   ]
  },
  {
   "cell_type": "code",
   "execution_count": 54,
   "id": "4746fac4",
   "metadata": {},
   "outputs": [],
   "source": [
    "# This is basically a for loop inside a tuple"
   ]
  },
  {
   "cell_type": "code",
   "execution_count": 55,
   "id": "918bcd19",
   "metadata": {},
   "outputs": [],
   "source": [
    "# E.g\n",
    "\n",
    "gen = (i ** 2 for i in range(5))"
   ]
  },
  {
   "cell_type": "code",
   "execution_count": 56,
   "id": "0ee4c2a3",
   "metadata": {},
   "outputs": [
    {
     "data": {
      "text/plain": [
       "<generator object <genexpr> at 0x7fe6ee4e5580>"
      ]
     },
     "execution_count": 56,
     "metadata": {},
     "output_type": "execute_result"
    }
   ],
   "source": [
    "gen"
   ]
  },
  {
   "cell_type": "code",
   "execution_count": 57,
   "id": "b9d9b153",
   "metadata": {},
   "outputs": [],
   "source": [
    "# To get the values for the generator, use a function called 'next'"
   ]
  },
  {
   "cell_type": "code",
   "execution_count": 58,
   "id": "a561c73f",
   "metadata": {},
   "outputs": [
    {
     "data": {
      "text/plain": [
       "0"
      ]
     },
     "execution_count": 58,
     "metadata": {},
     "output_type": "execute_result"
    }
   ],
   "source": [
    "next(gen) #this will return the 1st value of the genrator"
   ]
  },
  {
   "cell_type": "code",
   "execution_count": 59,
   "id": "c36caa44",
   "metadata": {},
   "outputs": [
    {
     "data": {
      "text/plain": [
       "1"
      ]
     },
     "execution_count": 59,
     "metadata": {},
     "output_type": "execute_result"
    }
   ],
   "source": [
    "next(gen)  # this will return the next value of the generator"
   ]
  },
  {
   "cell_type": "code",
   "execution_count": 60,
   "id": "96ccabe6",
   "metadata": {},
   "outputs": [
    {
     "data": {
      "text/plain": [
       "4"
      ]
     },
     "execution_count": 60,
     "metadata": {},
     "output_type": "execute_result"
    }
   ],
   "source": [
    "next(gen) #this will return the next value of the generator and so on and so forth"
   ]
  },
  {
   "cell_type": "code",
   "execution_count": null,
   "id": "aca0dccb",
   "metadata": {},
   "outputs": [],
   "source": [
    "# How do I display the a specific output instead of sequentially? \n",
    "# What is a generator used for and why?"
   ]
  }
 ],
 "metadata": {
  "kernelspec": {
   "display_name": "Python 3 (ipykernel)",
   "language": "python",
   "name": "python3"
  },
  "language_info": {
   "codemirror_mode": {
    "name": "ipython",
    "version": 3
   },
   "file_extension": ".py",
   "mimetype": "text/x-python",
   "name": "python",
   "nbconvert_exporter": "python",
   "pygments_lexer": "ipython3",
   "version": "3.9.12"
  }
 },
 "nbformat": 4,
 "nbformat_minor": 5
}
