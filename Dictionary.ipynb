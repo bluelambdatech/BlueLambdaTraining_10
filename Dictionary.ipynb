{
 "cells": [
  {
   "cell_type": "markdown",
   "id": "fac5d0eb",
   "metadata": {},
   "source": [
    "## Dictionary"
   ]
  },
  {
   "cell_type": "code",
   "execution_count": 4,
   "id": "6da5390b",
   "metadata": {},
   "outputs": [],
   "source": [
    "Cont_Capital = {'Nigeria': \"Abuja\", 'USA':'DC'}"
   ]
  },
  {
   "cell_type": "code",
   "execution_count": 6,
   "id": "23e38070",
   "metadata": {},
   "outputs": [
    {
     "data": {
      "text/plain": [
       "{'Nigeria': 'Abuja', 'USA': 'DC'}"
      ]
     },
     "execution_count": 6,
     "metadata": {},
     "output_type": "execute_result"
    }
   ],
   "source": [
    "Cont_Capital"
   ]
  },
  {
   "cell_type": "code",
   "execution_count": 7,
   "id": "eab031d5",
   "metadata": {},
   "outputs": [
    {
     "data": {
      "text/plain": [
       "dict_keys(['Nigeria', 'USA'])"
      ]
     },
     "execution_count": 7,
     "metadata": {},
     "output_type": "execute_result"
    }
   ],
   "source": [
    "Cont_Capital.keys ()"
   ]
  },
  {
   "cell_type": "code",
   "execution_count": 8,
   "id": "b2b65298",
   "metadata": {},
   "outputs": [
    {
     "data": {
      "text/plain": [
       "dict_values(['Abuja', 'DC'])"
      ]
     },
     "execution_count": 8,
     "metadata": {},
     "output_type": "execute_result"
    }
   ],
   "source": [
    "Cont_Capital.values()"
   ]
  },
  {
   "cell_type": "code",
   "execution_count": 9,
   "id": "7992c629",
   "metadata": {},
   "outputs": [],
   "source": [
    "Cont_Capital['Cameroun']='Yaounde'"
   ]
  },
  {
   "cell_type": "code",
   "execution_count": 10,
   "id": "8c504d35",
   "metadata": {},
   "outputs": [
    {
     "data": {
      "text/plain": [
       "{'Nigeria': 'Abuja', 'USA': 'DC', 'Cameroun': 'Yaounde'}"
      ]
     },
     "execution_count": 10,
     "metadata": {},
     "output_type": "execute_result"
    }
   ],
   "source": [
    "Cont_Capital"
   ]
  },
  {
   "cell_type": "code",
   "execution_count": 11,
   "id": "91c75a68",
   "metadata": {},
   "outputs": [
    {
     "data": {
      "text/plain": [
       "'Abuja'"
      ]
     },
     "execution_count": 11,
     "metadata": {},
     "output_type": "execute_result"
    }
   ],
   "source": [
    "Cont_Capital['Nigeria']"
   ]
  },
  {
   "cell_type": "code",
   "execution_count": 16,
   "id": "59250d21",
   "metadata": {},
   "outputs": [],
   "source": [
    "Cont_Capital['Japan']='Tokyo'"
   ]
  },
  {
   "cell_type": "code",
   "execution_count": 17,
   "id": "93acb075",
   "metadata": {},
   "outputs": [
    {
     "data": {
      "text/plain": [
       "{'Nigeria': 'Abuja', 'USA': 'DC', 'Cameroun': 'Yaounde', 'Japan': 'Tokyo'}"
      ]
     },
     "execution_count": 17,
     "metadata": {},
     "output_type": "execute_result"
    }
   ],
   "source": [
    "Cont_Capital"
   ]
  },
  {
   "cell_type": "code",
   "execution_count": null,
   "id": "b137e453",
   "metadata": {},
   "outputs": [],
   "source": []
  }
 ],
 "metadata": {
  "kernelspec": {
   "display_name": "Python 3 (ipykernel)",
   "language": "python",
   "name": "python3"
  },
  "language_info": {
   "codemirror_mode": {
    "name": "ipython",
    "version": 3
   },
   "file_extension": ".py",
   "mimetype": "text/x-python",
   "name": "python",
   "nbconvert_exporter": "python",
   "pygments_lexer": "ipython3",
   "version": "3.9.12"
  }
 },
 "nbformat": 4,
 "nbformat_minor": 5
}
