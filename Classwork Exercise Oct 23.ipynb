{
 "cells": [
  {
   "cell_type": "code",
   "execution_count": 1,
   "id": "92c7f507",
   "metadata": {},
   "outputs": [],
   "source": [
    "dict1 = {'Ten': 10, 'Twenty': 20, 'Thirty': 30}"
   ]
  },
  {
   "cell_type": "code",
   "execution_count": 3,
   "id": "6f2b2db0",
   "metadata": {},
   "outputs": [
    {
     "data": {
      "text/plain": [
       "dict_keys(['Ten', 'Twenty', 'Thirty'])"
      ]
     },
     "execution_count": 3,
     "metadata": {},
     "output_type": "execute_result"
    }
   ],
   "source": [
    "dict1.keys()"
   ]
  },
  {
   "cell_type": "code",
   "execution_count": 4,
   "id": "8c67b0e0",
   "metadata": {},
   "outputs": [
    {
     "data": {
      "text/plain": [
       "dict_values([10, 20, 30])"
      ]
     },
     "execution_count": 4,
     "metadata": {},
     "output_type": "execute_result"
    }
   ],
   "source": [
    "dict1.values()"
   ]
  },
  {
   "cell_type": "code",
   "execution_count": 5,
   "id": "a052cb7d",
   "metadata": {},
   "outputs": [],
   "source": [
    "# Merge 2 dictionaries"
   ]
  },
  {
   "cell_type": "code",
   "execution_count": null,
   "id": "72130140",
   "metadata": {},
   "outputs": [],
   "source": []
  },
  {
   "cell_type": "code",
   "execution_count": 6,
   "id": "21e2424f",
   "metadata": {},
   "outputs": [],
   "source": [
    "dict1 = {'Ten': 10, 'Twenty': 20, 'Thirty': 30}\n",
    "dict2 = {'Thirty': 30, 'Forty': 40, 'Fifty': 50}"
   ]
  },
  {
   "cell_type": "code",
   "execution_count": 7,
   "id": "076817f2",
   "metadata": {},
   "outputs": [],
   "source": [
    "#Method 1\n",
    "dict1.update(dict2)"
   ]
  },
  {
   "cell_type": "code",
   "execution_count": 8,
   "id": "5a852814",
   "metadata": {},
   "outputs": [
    {
     "data": {
      "text/plain": [
       "{'Ten': 10, 'Twenty': 20, 'Thirty': 30, 'Forty': 40, 'Fifty': 50}"
      ]
     },
     "execution_count": 8,
     "metadata": {},
     "output_type": "execute_result"
    }
   ],
   "source": [
    "dict1"
   ]
  },
  {
   "cell_type": "code",
   "execution_count": 9,
   "id": "194adbf1",
   "metadata": {},
   "outputs": [],
   "source": [
    "#Method 2\n",
    "for key in dict2.keys():\n",
    "    dict1[key] = dict2[key]"
   ]
  },
  {
   "cell_type": "code",
   "execution_count": 10,
   "id": "7a9a4f3e",
   "metadata": {},
   "outputs": [
    {
     "data": {
      "text/plain": [
       "{'Ten': 10, 'Twenty': 20, 'Thirty': 30, 'Forty': 40, 'Fifty': 50}"
      ]
     },
     "execution_count": 10,
     "metadata": {},
     "output_type": "execute_result"
    }
   ],
   "source": [
    "dict1"
   ]
  },
  {
   "cell_type": "code",
   "execution_count": null,
   "id": "bb878d90",
   "metadata": {},
   "outputs": [],
   "source": [
    "#Write a Python code to change Brad's salary to 8500 in the following dictionary\n",
    "#Given"
   ]
  },
  {
   "cell_type": "code",
   "execution_count": 11,
   "id": "4b85d6e0",
   "metadata": {},
   "outputs": [],
   "source": [
    "def print_char(name):\n",
    "    print(name[-1])"
   ]
  },
  {
   "cell_type": "code",
   "execution_count": 13,
   "id": "a44a483d",
   "metadata": {},
   "outputs": [
    {
     "name": "stdout",
     "output_type": "stream",
     "text": [
      "a\n"
     ]
    }
   ],
   "source": [
    "print_char('Omolewa')"
   ]
  },
  {
   "cell_type": "code",
   "execution_count": 16,
   "id": "1105ca0e",
   "metadata": {},
   "outputs": [],
   "source": [
    "def print_upper(name):\n",
    "    print(name.upper())"
   ]
  },
  {
   "cell_type": "code",
   "execution_count": 17,
   "id": "e2f75a75",
   "metadata": {},
   "outputs": [
    {
     "name": "stdout",
     "output_type": "stream",
     "text": [
      "OMOLEWA\n"
     ]
    }
   ],
   "source": [
    "print_upper('Omolewa')"
   ]
  },
  {
   "cell_type": "code",
   "execution_count": null,
   "id": "ce66ede3",
   "metadata": {},
   "outputs": [],
   "source": []
  }
 ],
 "metadata": {
  "kernelspec": {
   "display_name": "Python 3 (ipykernel)",
   "language": "python",
   "name": "python3"
  },
  "language_info": {
   "codemirror_mode": {
    "name": "ipython",
    "version": 3
   },
   "file_extension": ".py",
   "mimetype": "text/x-python",
   "name": "python",
   "nbconvert_exporter": "python",
   "pygments_lexer": "ipython3",
   "version": "3.9.12"
  }
 },
 "nbformat": 4,
 "nbformat_minor": 5
}
