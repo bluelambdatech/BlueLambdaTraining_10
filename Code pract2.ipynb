{
 "cells": [
  {
   "cell_type": "code",
   "execution_count": null,
   "id": "7872a6e7",
   "metadata": {},
   "outputs": [],
   "source": [
    "print(ages.keys())\n",
    "# Returns: dict_keys(['Matt', 'Katie', 'Nik', 'Jack', 'Alison', 'Kevin'])"
   ]
  },
  {
   "cell_type": "code",
   "execution_count": null,
   "id": "5aea48a0",
   "metadata": {},
   "outputs": [],
   "source": [
    "number = [1,2,3]\n",
    "for i in number:\n",
    "    x = i**3\n",
    "    y = print(\"The Cube of a Given Number {} is : {}\" .format(i, x))\n",
    "    z = print(\"Current Number is : {}  and the cube is {} \" .format(i, x))\n",
    "   \n",
    "\n",
    "\n"
   ]
  },
  {
   "cell_type": "code",
   "execution_count": null,
   "id": "fed53653",
   "metadata": {},
   "outputs": [],
   "source": []
  },
  {
   "cell_type": "code",
   "execution_count": 5,
   "id": "a58eed2e",
   "metadata": {},
   "outputs": [
    {
     "name": "stdout",
     "output_type": "stream",
     "text": [
      "Key doesn't exist\n"
     ]
    }
   ],
   "source": [
    "# Write a Python program to check if value 200 exists in the following dictionary.\n",
    "\n",
    "\n",
    "sample_dict = {'a': 100, 'b': 200, 'c': 300}\n",
    "some_key = 200\n",
    "if some_key in sample_dict.keys():\n",
    "    print('200 present in a dict')\n",
    "else:\n",
    "    print('Key doesn\\'t exist')\n",
    "# Returns Key doesn't exist"
   ]
  },
  {
   "cell_type": "code",
   "execution_count": 7,
   "id": "2907277e",
   "metadata": {},
   "outputs": [
    {
     "name": "stdout",
     "output_type": "stream",
     "text": [
      "200 present in a dict\n"
     ]
    }
   ],
   "source": [
    "\n",
    "\n",
    "sample_dict = {'a': 100, 'b': 200, 'c': 300}\n",
    "some_key = 200\n",
    "if some_key in sample_dict.values():\n",
    "    print('200 present in a dict')\n",
    "else:\n",
    "    print('Key doesn\\'t exist')\n",
    "# Returns Key doesn't exist"
   ]
  },
  {
   "cell_type": "code",
   "execution_count": null,
   "id": "67d46a8b",
   "metadata": {},
   "outputs": [],
   "source": [
    "# Check if a key exists in a Python dictionary by checking all keys\n",
    "ages = {'Matt': 30, 'Katie': 29, 'Nik': 31, 'Jack': 43, 'Alison': 32, 'Kevin': 38}\n",
    "some_key = 'James'\n",
    "if some_key in ages.keys():\n",
    "    print('Key exists')\n",
    "else:\n",
    "    print('Key doesn\\'t exist')\n",
    "# Returns Key doesn't exist"
   ]
  },
  {
   "cell_type": "code",
   "execution_count": null,
   "id": "df7a410b",
   "metadata": {},
   "outputs": [],
   "source": []
  },
  {
   "cell_type": "code",
   "execution_count": null,
   "id": "c42ece36",
   "metadata": {},
   "outputs": [],
   "source": [
    "Var mydict = [KeyType: ValueType]()\n",
    "Or\n",
    "Var mydict : [KeyType:ValueType] = [key1:value1, key2:value2, key3:value3]"
   ]
  },
  {
   "cell_type": "code",
   "execution_count": null,
   "id": "7e797dd4",
   "metadata": {},
   "outputs": [],
   "source": [
    "Dict.min(by: {operator})!"
   ]
  },
  {
   "cell_type": "code",
   "execution_count": 8,
   "id": "964fb1b8",
   "metadata": {},
   "outputs": [],
   "source": [
    "sample_dict = {\n",
    "  'Physics': 82,\n",
    "  'Math': 65,\n",
    "  'history': 75\n",
    "}"
   ]
  },
  {
   "cell_type": "code",
   "execution_count": 9,
   "id": "a9e88ed7",
   "metadata": {},
   "outputs": [
    {
     "data": {
      "text/plain": [
       "'Math'"
      ]
     },
     "execution_count": 9,
     "metadata": {},
     "output_type": "execute_result"
    }
   ],
   "source": [
    "min(sample_dict, key=sample_dict.get)"
   ]
  },
  {
   "cell_type": "code",
   "execution_count": 15,
   "id": "5a3aff7a",
   "metadata": {},
   "outputs": [
    {
     "ename": "IndentationError",
     "evalue": "unindent does not match any outer indentation level (<tokenize>, line 6)",
     "output_type": "error",
     "traceback": [
      "\u001b[1;36m  File \u001b[1;32m<tokenize>:6\u001b[1;36m\u001b[0m\n\u001b[1;33m    nterms = int(input(\"Enter the terms? \"))  # take input from the user\u001b[0m\n\u001b[1;37m    ^\u001b[0m\n\u001b[1;31mIndentationError\u001b[0m\u001b[1;31m:\u001b[0m unindent does not match any outer indentation level\n"
     ]
    }
   ],
   "source": [
    "def FibRecursion(n):  \n",
    "   if n <= 1:  \n",
    "       return n  \n",
    "   else:  \n",
    "       return(FibRecursion(n-1) + FibRecursion(n-2))  \n",
    " nterms = int(input(\"Enter the terms? \"))  # take input from the user\n",
    "\n",
    "if nterms <= 0:  # check if the number is valid \n",
    "   print(\"Please enter a positive integer\")  \n",
    "else:  \n",
    "   print(\"Fibonacci sequence:\")  \n",
    "   for i in range(nterms):  \n",
    "       print(FibRecursion(i))"
   ]
  },
  {
   "cell_type": "code",
   "execution_count": null,
   "id": "0980f195",
   "metadata": {},
   "outputs": [],
   "source": [
    "# Enter number of terms needed                   #0,1,1,2,3,5....\n",
    "a=int(input(\"Enter the terms\"))\n",
    "f=0                                         #first element of series\n",
    "s=1                                         #second element of series\n",
    "if a<=0:\n",
    "    print(\"The requested series is\",f)\n",
    "else:\n",
    "    print(f,s,end=\" \")\n",
    "    for x in range(2,a):\n",
    "        next=f+s                           \n",
    "        print(next,end=\" \")\n",
    "        f=s\n",
    "        s=next"
   ]
  },
  {
   "cell_type": "code",
   "execution_count": null,
   "id": "501d69f7",
   "metadata": {},
   "outputs": [],
   "source": [
    "number = [1,2,3]\n",
    "for i in number:\n",
    "    x = i**3\n",
    "    y = print(\"The Cube of a Given Number {} is : {}\" .format(i, x))"
   ]
  },
  {
   "cell_type": "code",
   "execution_count": null,
   "id": "ddb86ab6",
   "metadata": {},
   "outputs": [],
   "source": [
    "number = [1,2,3]\n",
    "for i in number:\n",
    "    x = i**3\n",
    "    y = print(\"The Cube of a Given Number {} is : {}\" .format(i, x))\n",
    "    z = print(\"Current Number is : {}  and the cube is {} \" .format(i, x))\n",
    "   "
   ]
  },
  {
   "cell_type": "code",
   "execution_count": null,
   "id": "86e07b15",
   "metadata": {},
   "outputs": [],
   "source": []
  },
  {
   "cell_type": "code",
   "execution_count": null,
   "id": "c701fdd1",
   "metadata": {},
   "outputs": [],
   "source": [
    "number = [1,2,3]\n",
    "for i in number:\n",
    "    x = i**3\n",
    "    y = print(\"The Cube of a Given Number {} is : {}\" .format(i, x))\n",
    "    z = print(\"Current Number is : {}  and the cube is {} \" .format(i, x))"
   ]
  },
  {
   "cell_type": "code",
   "execution_count": null,
   "id": "8ec49ee8",
   "metadata": {},
   "outputs": [],
   "source": []
  },
  {
   "cell_type": "code",
   "execution_count": null,
   "id": "42965ea8",
   "metadata": {},
   "outputs": [],
   "source": [
    "number = [1,2,3]\n",
    "for i in number:\n",
    "    x = i**3\n",
    "    y = print(\"The Cube of a Given Number {} is : {}\" .format(i, x))\n",
    "    z = print(\"Current Number is : {}  and the cube is {} \" .format(i, x))\n",
    "   \n",
    "\n",
    "// Function for finding summation\n",
    "int summation(int n)\n",
    "{\n",
    "    int sum = 0, j = 1;\n",
    "    for (int i = 1; i <= n; i++) {\n",
    "        sum = sum + j;\n",
    " \n",
    "        // Appending a 1 at the end\n",
    "        j = (j * 10) + 1;\n",
    "    }\n",
    " \n",
    "    return sum;\n",
    "}\n",
    " \n",
    "// Driver Code\n",
    "int main()\n",
    "{\n",
    "    int n = 5;\n",
    "    cout << \" \" <<  summation(n);\n",
    "    return 0;\n",
    "}\n",
    "\n"
   ]
  }
 ],
 "metadata": {
  "kernelspec": {
   "display_name": "Python 3 (ipykernel)",
   "language": "python",
   "name": "python3"
  },
  "language_info": {
   "codemirror_mode": {
    "name": "ipython",
    "version": 3
   },
   "file_extension": ".py",
   "mimetype": "text/x-python",
   "name": "python",
   "nbconvert_exporter": "python",
   "pygments_lexer": "ipython3",
   "version": "3.9.12"
  }
 },
 "nbformat": 4,
 "nbformat_minor": 5
}
