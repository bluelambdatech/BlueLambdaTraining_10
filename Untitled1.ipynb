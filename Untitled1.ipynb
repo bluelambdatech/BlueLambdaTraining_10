{
 "cells": [
  {
   "cell_type": "code",
   "execution_count": 1,
   "id": "5af28767",
   "metadata": {},
   "outputs": [],
   "source": [
    "x = '10'"
   ]
  },
  {
   "cell_type": "code",
   "execution_count": 2,
   "id": "2dca9c9d",
   "metadata": {},
   "outputs": [
    {
     "data": {
      "text/plain": [
       "str"
      ]
     },
     "execution_count": 2,
     "metadata": {},
     "output_type": "execute_result"
    }
   ],
   "source": [
    "type(x)"
   ]
  },
  {
   "cell_type": "code",
   "execution_count": 3,
   "id": "44b8f3d2",
   "metadata": {},
   "outputs": [],
   "source": [
    "x = 10"
   ]
  },
  {
   "cell_type": "code",
   "execution_count": 4,
   "id": "6ba4c675",
   "metadata": {},
   "outputs": [
    {
     "data": {
      "text/plain": [
       "int"
      ]
     },
     "execution_count": 4,
     "metadata": {},
     "output_type": "execute_result"
    }
   ],
   "source": [
    "type(x)"
   ]
  },
  {
   "cell_type": "code",
   "execution_count": 5,
   "id": "293d27a5",
   "metadata": {},
   "outputs": [],
   "source": [
    "x = (10)"
   ]
  },
  {
   "cell_type": "code",
   "execution_count": 6,
   "id": "b3b4ea11",
   "metadata": {},
   "outputs": [
    {
     "data": {
      "text/plain": [
       "int"
      ]
     },
     "execution_count": 6,
     "metadata": {},
     "output_type": "execute_result"
    }
   ],
   "source": [
    "type(x)"
   ]
  },
  {
   "cell_type": "code",
   "execution_count": 7,
   "id": "62735377",
   "metadata": {},
   "outputs": [],
   "source": [
    "group_names = {'Ayomide': '10', 'Nneka': '11', 'Tobi': '12', 'Stephanie':'13', 'Bola': '14'}"
   ]
  },
  {
   "cell_type": "code",
   "execution_count": 11,
   "id": "d51f14d6",
   "metadata": {},
   "outputs": [
    {
     "data": {
      "text/plain": [
       "{'Ayomide': 10, 'Nneka': 11, 'Tobi': 12, 'Stephanie': 13, 'Bola': 14}"
      ]
     },
     "execution_count": 11,
     "metadata": {},
     "output_type": "execute_result"
    }
   ],
   "source": [
    "group_names"
   ]
  },
  {
   "cell_type": "code",
   "execution_count": 13,
   "id": "3bd20c6f",
   "metadata": {},
   "outputs": [],
   "source": [
    "name1, name2 = ('Dave', 'Sarah')"
   ]
  },
  {
   "cell_type": "code",
   "execution_count": 14,
   "id": "213cad01",
   "metadata": {},
   "outputs": [
    {
     "data": {
      "text/plain": [
       "'Dave'"
      ]
     },
     "execution_count": 14,
     "metadata": {},
     "output_type": "execute_result"
    }
   ],
   "source": [
    "name1"
   ]
  },
  {
   "cell_type": "code",
   "execution_count": 15,
   "id": "4bdb2408",
   "metadata": {},
   "outputs": [
    {
     "data": {
      "text/plain": [
       "'Sarah'"
      ]
     },
     "execution_count": 15,
     "metadata": {},
     "output_type": "execute_result"
    }
   ],
   "source": [
    "name2"
   ]
  },
  {
   "cell_type": "code",
   "execution_count": 18,
   "id": "57696fda",
   "metadata": {},
   "outputs": [
    {
     "data": {
      "text/plain": [
       "10"
      ]
     },
     "execution_count": 18,
     "metadata": {},
     "output_type": "execute_result"
    }
   ],
   "source": [
    "group_names['Ayomide']"
   ]
  },
  {
   "cell_type": "raw",
   "id": "a2a84677",
   "metadata": {},
   "source": []
  },
  {
   "cell_type": "code",
   "execution_count": 19,
   "id": "a0f50223",
   "metadata": {},
   "outputs": [
    {
     "data": {
      "text/plain": [
       "dict_items([('Ayomide', 10), ('Nneka', 11), ('Tobi', 12), ('Stephanie', 13), ('Bola', 14)])"
      ]
     },
     "execution_count": 19,
     "metadata": {},
     "output_type": "execute_result"
    }
   ],
   "source": [
    "group_names.items()"
   ]
  },
  {
   "cell_type": "code",
   "execution_count": 20,
   "id": "2aaaf3e9",
   "metadata": {},
   "outputs": [],
   "source": [
    "group_names['Sophie']=15"
   ]
  },
  {
   "cell_type": "code",
   "execution_count": 21,
   "id": "128c88a6",
   "metadata": {},
   "outputs": [
    {
     "data": {
      "text/plain": [
       "{'Ayomide': 10,\n",
       " 'Nneka': 11,\n",
       " 'Tobi': 12,\n",
       " 'Stephanie': 13,\n",
       " 'Bola': 14,\n",
       " 'Sophie': 15}"
      ]
     },
     "execution_count": 21,
     "metadata": {},
     "output_type": "execute_result"
    }
   ],
   "source": [
    "group_names"
   ]
  },
  {
   "cell_type": "code",
   "execution_count": 22,
   "id": "e55b3246",
   "metadata": {},
   "outputs": [],
   "source": [
    "group_names['Ayomide']=70"
   ]
  },
  {
   "cell_type": "code",
   "execution_count": 23,
   "id": "6b3200ff",
   "metadata": {},
   "outputs": [
    {
     "data": {
      "text/plain": [
       "{'Ayomide': 70,\n",
       " 'Nneka': 11,\n",
       " 'Tobi': 12,\n",
       " 'Stephanie': 13,\n",
       " 'Bola': 14,\n",
       " 'Sophie': 15}"
      ]
     },
     "execution_count": 23,
     "metadata": {},
     "output_type": "execute_result"
    }
   ],
   "source": [
    "group_names"
   ]
  },
  {
   "cell_type": "code",
   "execution_count": 24,
   "id": "b0c7ed31",
   "metadata": {},
   "outputs": [
    {
     "data": {
      "text/plain": [
       "14"
      ]
     },
     "execution_count": 24,
     "metadata": {},
     "output_type": "execute_result"
    }
   ],
   "source": [
    "group_names.get('Bola')"
   ]
  },
  {
   "cell_type": "code",
   "execution_count": 28,
   "id": "307ac2f0",
   "metadata": {},
   "outputs": [],
   "source": [
    "group_names.get('Shola')"
   ]
  },
  {
   "cell_type": "code",
   "execution_count": 29,
   "id": "a6d51a58",
   "metadata": {},
   "outputs": [
    {
     "ename": "KeyError",
     "evalue": "'Shola'",
     "output_type": "error",
     "traceback": [
      "\u001b[1;31m---------------------------------------------------------------------------\u001b[0m",
      "\u001b[1;31mKeyError\u001b[0m                                  Traceback (most recent call last)",
      "\u001b[1;32m~\\AppData\\Local\\Temp\\ipykernel_50372\\404525771.py\u001b[0m in \u001b[0;36m<module>\u001b[1;34m\u001b[0m\n\u001b[1;32m----> 1\u001b[1;33m \u001b[0mgroup_names\u001b[0m\u001b[1;33m[\u001b[0m\u001b[1;34m'Shola'\u001b[0m\u001b[1;33m]\u001b[0m\u001b[1;33m\u001b[0m\u001b[1;33m\u001b[0m\u001b[0m\n\u001b[0m",
      "\u001b[1;31mKeyError\u001b[0m: 'Shola'"
     ]
    }
   ],
   "source": [
    "group_names['Shola']"
   ]
  },
  {
   "cell_type": "code",
   "execution_count": 30,
   "id": "b4a15a1c",
   "metadata": {},
   "outputs": [],
   "source": [
    "num1 = [1,2,3,4,5]\n",
    "num2 = [11,22,33,44,55]"
   ]
  },
  {
   "cell_type": "code",
   "execution_count": 32,
   "id": "49c7544d",
   "metadata": {},
   "outputs": [
    {
     "name": "stdout",
     "output_type": "stream",
     "text": [
      "12\n",
      "23\n",
      "34\n",
      "45\n",
      "56\n",
      "13\n",
      "24\n",
      "35\n",
      "46\n",
      "57\n",
      "14\n",
      "25\n",
      "36\n",
      "47\n",
      "58\n",
      "15\n",
      "26\n",
      "37\n",
      "48\n",
      "59\n",
      "16\n",
      "27\n",
      "38\n",
      "49\n",
      "60\n"
     ]
    }
   ],
   "source": [
    "for x in num1:\n",
    "    for y in num2:\n",
    "        print(x+y)"
   ]
  },
  {
   "cell_type": "code",
   "execution_count": 33,
   "id": "c0f40164",
   "metadata": {},
   "outputs": [],
   "source": [
    "text1 = [21, 31, 41, 51]\n",
    "text2 = [12, 13, 14, 15]"
   ]
  },
  {
   "cell_type": "code",
   "execution_count": 37,
   "id": "9b4a3200",
   "metadata": {},
   "outputs": [],
   "source": [
    "output = []\n",
    "for x in text1:\n",
    "    for y in text2:\n",
    "        output.append(x+y)"
   ]
  },
  {
   "cell_type": "code",
   "execution_count": 38,
   "id": "ad5fa734",
   "metadata": {},
   "outputs": [
    {
     "data": {
      "text/plain": [
       "[33, 34, 35, 36, 43, 44, 45, 46, 53, 54, 55, 56, 63, 64, 65, 66]"
      ]
     },
     "execution_count": 38,
     "metadata": {},
     "output_type": "execute_result"
    }
   ],
   "source": [
    "output"
   ]
  },
  {
   "cell_type": "code",
   "execution_count": 39,
   "id": "a150c8dc",
   "metadata": {},
   "outputs": [],
   "source": [
    "text1 = [21, 31, 41, 51]\n",
    "text2 = [12, 13, 14, 15]"
   ]
  },
  {
   "cell_type": "code",
   "execution_count": 40,
   "id": "15f2de56",
   "metadata": {},
   "outputs": [],
   "source": [
    "output = {}\n",
    "for x in text1:\n",
    "    for y in text2:\n",
    "        output[f'{str(x)} * {str(y)}'] = x * y"
   ]
  },
  {
   "cell_type": "code",
   "execution_count": 41,
   "id": "7d6688d8",
   "metadata": {},
   "outputs": [
    {
     "data": {
      "text/plain": [
       "{'21 * 12': 252,\n",
       " '21 * 13': 273,\n",
       " '21 * 14': 294,\n",
       " '21 * 15': 315,\n",
       " '31 * 12': 372,\n",
       " '31 * 13': 403,\n",
       " '31 * 14': 434,\n",
       " '31 * 15': 465,\n",
       " '41 * 12': 492,\n",
       " '41 * 13': 533,\n",
       " '41 * 14': 574,\n",
       " '41 * 15': 615,\n",
       " '51 * 12': 612,\n",
       " '51 * 13': 663,\n",
       " '51 * 14': 714,\n",
       " '51 * 15': 765}"
      ]
     },
     "execution_count": 41,
     "metadata": {},
     "output_type": "execute_result"
    }
   ],
   "source": [
    "output"
   ]
  },
  {
   "cell_type": "code",
   "execution_count": 42,
   "id": "d9b6cd2b",
   "metadata": {},
   "outputs": [],
   "source": [
    "#[2, 4, 6, 8, 10] : [20, 40, 60, 80, 100]"
   ]
  },
  {
   "cell_type": "code",
   "execution_count": 43,
   "id": "629ab965",
   "metadata": {},
   "outputs": [],
   "source": [
    "numb = [2, 4, 6, 8, 10]\n",
    "numb2 = 10"
   ]
  },
  {
   "cell_type": "code",
   "execution_count": 48,
   "id": "9d1bf386",
   "metadata": {},
   "outputs": [],
   "source": [
    "output = []\n",
    "for x in numb:\n",
    "    output.append(x * numb2)\n"
   ]
  },
  {
   "cell_type": "code",
   "execution_count": 49,
   "id": "f8753fec",
   "metadata": {},
   "outputs": [
    {
     "data": {
      "text/plain": [
       "[20, 40, 60, 80, 100]"
      ]
     },
     "execution_count": 49,
     "metadata": {},
     "output_type": "execute_result"
    }
   ],
   "source": [
    "output"
   ]
  },
  {
   "cell_type": "code",
   "execution_count": 50,
   "id": "41782e85",
   "metadata": {},
   "outputs": [
    {
     "name": "stdout",
     "output_type": "stream",
     "text": [
      "[20, 40, 60, 80, 100]\n"
     ]
    }
   ],
   "source": [
    "print(output)"
   ]
  },
  {
   "cell_type": "code",
   "execution_count": null,
   "id": "014db130",
   "metadata": {},
   "outputs": [],
   "source": []
  }
 ],
 "metadata": {
  "kernelspec": {
   "display_name": "Python 3 (ipykernel)",
   "language": "python",
   "name": "python3"
  },
  "language_info": {
   "codemirror_mode": {
    "name": "ipython",
    "version": 3
   },
   "file_extension": ".py",
   "mimetype": "text/x-python",
   "name": "python",
   "nbconvert_exporter": "python",
   "pygments_lexer": "ipython3",
   "version": "3.9.13"
  }
 },
 "nbformat": 4,
 "nbformat_minor": 5
}
