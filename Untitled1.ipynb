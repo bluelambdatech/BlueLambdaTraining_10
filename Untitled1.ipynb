{
 "cells": [
  {
   "cell_type": "markdown",
   "id": "7544f490",
   "metadata": {},
   "source": [
    "#functions"
   ]
  },
  {
   "cell_type": "code",
   "execution_count": 1,
   "id": "071dc445",
   "metadata": {},
   "outputs": [
    {
     "name": "stdout",
     "output_type": "stream",
     "text": [
      "dad\n"
     ]
    }
   ],
   "source": [
    "print('dad')"
   ]
  },
  {
   "cell_type": "code",
   "execution_count": 5,
   "id": "5e7d6295",
   "metadata": {},
   "outputs": [],
   "source": [
    "def last_letter(name):\n",
    "    print(name[-1])"
   ]
  },
  {
   "cell_type": "code",
   "execution_count": 6,
   "id": "9b379bb3",
   "metadata": {},
   "outputs": [
    {
     "name": "stdout",
     "output_type": "stream",
     "text": [
      "o\n"
     ]
    }
   ],
   "source": [
    "last_letter('Awolowo')"
   ]
  },
  {
   "cell_type": "code",
   "execution_count": 9,
   "id": "fcd2fa93",
   "metadata": {},
   "outputs": [],
   "source": [
    "def prefix(word):\n",
    "    print(word[:3])"
   ]
  },
  {
   "cell_type": "code",
   "execution_count": 10,
   "id": "0a4205a1",
   "metadata": {},
   "outputs": [
    {
     "name": "stdout",
     "output_type": "stream",
     "text": [
      "Pro\n"
     ]
    }
   ],
   "source": [
    "prefix('Proactive')"
   ]
  },
  {
   "cell_type": "code",
   "execution_count": 11,
   "id": "188bd8a5",
   "metadata": {},
   "outputs": [],
   "source": [
    "def letters(sentence):\n",
    "    pass"
   ]
  },
  {
   "cell_type": "code",
   "execution_count": 12,
   "id": "b2588fcc",
   "metadata": {},
   "outputs": [],
   "source": [
    "def letters(sentence):\n",
    "    up_num=0\n",
    "    low_num=0\n",
    "    for alp in sentence:\n",
    "        if(alp.islower()):\n",
    "            low_num = low_num + 1\n",
    "        elif(alp.isupper()):\n",
    "            up_num = up_num + 1\n",
    "    print(f'The number of uppercase characters is: {up_num}')\n",
    "    print(f'The number of lowercase characters is: {low_num}')"
   ]
  },
  {
   "cell_type": "code",
   "execution_count": 15,
   "id": "cefaf142",
   "metadata": {},
   "outputs": [
    {
     "name": "stdout",
     "output_type": "stream",
     "text": [
      "The number of uppercase characters is: 4\n",
      "The number of lowercase characters is: 11\n"
     ]
    }
   ],
   "source": [
    "letters('Will Our Code Work')"
   ]
  },
  {
   "cell_type": "code",
   "execution_count": null,
   "id": "c3713f3a",
   "metadata": {},
   "outputs": [],
   "source": []
  }
 ],
 "metadata": {
  "kernelspec": {
   "display_name": "Python 3 (ipykernel)",
   "language": "python",
   "name": "python3"
  },
  "language_info": {
   "codemirror_mode": {
    "name": "ipython",
    "version": 3
   },
   "file_extension": ".py",
   "mimetype": "text/x-python",
   "name": "python",
   "nbconvert_exporter": "python",
   "pygments_lexer": "ipython3",
   "version": "3.9.13"
  }
 },
 "nbformat": 4,
 "nbformat_minor": 5
}
