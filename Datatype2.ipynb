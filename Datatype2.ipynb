{
 "cells": [
  {
   "cell_type": "markdown",
   "id": "347aeb4d",
   "metadata": {},
   "source": [
    "### String"
   ]
  },
  {
   "cell_type": "code",
   "execution_count": 2,
   "id": "4a8b7da8",
   "metadata": {},
   "outputs": [],
   "source": [
    "FirstName = 'Olu'\n",
    "LastName = 'Oye'"
   ]
  },
  {
   "cell_type": "code",
   "execution_count": 3,
   "id": "01dd9bc1",
   "metadata": {},
   "outputs": [
    {
     "data": {
      "text/plain": [
       "'Olu'"
      ]
     },
     "execution_count": 3,
     "metadata": {},
     "output_type": "execute_result"
    }
   ],
   "source": [
    "FirstName"
   ]
  },
  {
   "cell_type": "code",
   "execution_count": 4,
   "id": "c3b1ac1f",
   "metadata": {},
   "outputs": [
    {
     "data": {
      "text/plain": [
       "'Oye'"
      ]
     },
     "execution_count": 4,
     "metadata": {},
     "output_type": "execute_result"
    }
   ],
   "source": [
    "LastName"
   ]
  },
  {
   "cell_type": "code",
   "execution_count": 5,
   "id": "f5180e41",
   "metadata": {},
   "outputs": [],
   "source": [
    "Fullname = FirstName + LastName"
   ]
  },
  {
   "cell_type": "code",
   "execution_count": 7,
   "id": "6a2d7520",
   "metadata": {},
   "outputs": [
    {
     "data": {
      "text/plain": [
       "'OluOye'"
      ]
     },
     "execution_count": 7,
     "metadata": {},
     "output_type": "execute_result"
    }
   ],
   "source": [
    "Fullname"
   ]
  },
  {
   "cell_type": "code",
   "execution_count": 8,
   "id": "b8319bf3",
   "metadata": {},
   "outputs": [],
   "source": [
    "Fullname = FirstName +  ' ' + LastName"
   ]
  },
  {
   "cell_type": "code",
   "execution_count": 9,
   "id": "ec783999",
   "metadata": {},
   "outputs": [
    {
     "data": {
      "text/plain": [
       "'Olu Oye'"
      ]
     },
     "execution_count": 9,
     "metadata": {},
     "output_type": "execute_result"
    }
   ],
   "source": [
    "Fullname"
   ]
  },
  {
   "cell_type": "code",
   "execution_count": 10,
   "id": "2cc229fe",
   "metadata": {},
   "outputs": [
    {
     "data": {
      "text/plain": [
       "False"
      ]
     },
     "execution_count": 10,
     "metadata": {},
     "output_type": "execute_result"
    }
   ],
   "source": [
    "2 == 3"
   ]
  },
  {
   "cell_type": "code",
   "execution_count": 12,
   "id": "d959b88c",
   "metadata": {},
   "outputs": [
    {
     "data": {
      "text/plain": [
       "True"
      ]
     },
     "execution_count": 12,
     "metadata": {},
     "output_type": "execute_result"
    }
   ],
   "source": [
    "Fullname == 'Olu Oye'"
   ]
  },
  {
   "cell_type": "code",
   "execution_count": 13,
   "id": "29e61564",
   "metadata": {},
   "outputs": [
    {
     "data": {
      "text/plain": [
       "False"
      ]
     },
     "execution_count": 13,
     "metadata": {},
     "output_type": "execute_result"
    }
   ],
   "source": [
    "FirstName == LastName"
   ]
  },
  {
   "cell_type": "code",
   "execution_count": 14,
   "id": "63fb9165",
   "metadata": {},
   "outputs": [
    {
     "data": {
      "text/plain": [
       "7"
      ]
     },
     "execution_count": 14,
     "metadata": {},
     "output_type": "execute_result"
    }
   ],
   "source": [
    "len(Fullname)"
   ]
  },
  {
   "cell_type": "code",
   "execution_count": null,
   "id": "f59713b9",
   "metadata": {},
   "outputs": [],
   "source": [
    "Python is case sensitve"
   ]
  },
  {
   "cell_type": "code",
   "execution_count": 16,
   "id": "9d8a8a0f",
   "metadata": {},
   "outputs": [
    {
     "data": {
      "text/plain": [
       "'OLU OYE'"
      ]
     },
     "execution_count": 16,
     "metadata": {},
     "output_type": "execute_result"
    }
   ],
   "source": [
    "Fullname.upper()"
   ]
  },
  {
   "cell_type": "code",
   "execution_count": 17,
   "id": "0a0da997",
   "metadata": {},
   "outputs": [
    {
     "data": {
      "text/plain": [
       "True"
      ]
     },
     "execution_count": 17,
     "metadata": {},
     "output_type": "execute_result"
    }
   ],
   "source": [
    "len(FirstName) == len(LastName)"
   ]
  },
  {
   "cell_type": "code",
   "execution_count": 22,
   "id": "187fb597",
   "metadata": {},
   "outputs": [
    {
     "data": {
      "text/plain": [
       "True"
      ]
     },
     "execution_count": 22,
     "metadata": {},
     "output_type": "execute_result"
    }
   ],
   "source": [
    "FirstName.count('O') == LastName.count('O')"
   ]
  },
  {
   "cell_type": "code",
   "execution_count": 23,
   "id": "148fd6e8",
   "metadata": {},
   "outputs": [
    {
     "data": {
      "text/plain": [
       "1"
      ]
     },
     "execution_count": 23,
     "metadata": {},
     "output_type": "execute_result"
    }
   ],
   "source": [
    "FirstName.count('O')"
   ]
  },
  {
   "cell_type": "code",
   "execution_count": 25,
   "id": "6c0011ec",
   "metadata": {},
   "outputs": [],
   "source": [
    "Four = 2 +2"
   ]
  },
  {
   "cell_type": "code",
   "execution_count": 28,
   "id": "224b946f",
   "metadata": {},
   "outputs": [
    {
     "data": {
      "text/plain": [
       "int"
      ]
     },
     "execution_count": 28,
     "metadata": {},
     "output_type": "execute_result"
    }
   ],
   "source": [
    "type(Four)"
   ]
  },
  {
   "cell_type": "code",
   "execution_count": 29,
   "id": "4b178d1f",
   "metadata": {},
   "outputs": [
    {
     "data": {
      "text/plain": [
       "str"
      ]
     },
     "execution_count": 29,
     "metadata": {},
     "output_type": "execute_result"
    }
   ],
   "source": [
    "type(FirstName)"
   ]
  },
  {
   "cell_type": "code",
   "execution_count": 31,
   "id": "013d3538",
   "metadata": {},
   "outputs": [
    {
     "data": {
      "text/plain": [
       "True"
      ]
     },
     "execution_count": 31,
     "metadata": {},
     "output_type": "execute_result"
    }
   ],
   "source": [
    "0 == 0"
   ]
  },
  {
   "cell_type": "code",
   "execution_count": null,
   "id": "c4f6fdc4",
   "metadata": {},
   "outputs": [],
   "source": [
    "0 == 1"
   ]
  },
  {
   "cell_type": "code",
   "execution_count": 32,
   "id": "6f4e8dba",
   "metadata": {},
   "outputs": [
    {
     "data": {
      "text/plain": [
       "'Olu Oye'"
      ]
     },
     "execution_count": 32,
     "metadata": {},
     "output_type": "execute_result"
    }
   ],
   "source": [
    "Fullname"
   ]
  },
  {
   "cell_type": "code",
   "execution_count": 34,
   "id": "1a1277e9",
   "metadata": {},
   "outputs": [],
   "source": [
    "MiddleName = 'OliverTwist'"
   ]
  },
  {
   "cell_type": "code",
   "execution_count": 37,
   "id": "8f1b086f",
   "metadata": {},
   "outputs": [],
   "source": [
    "Newfull = Fullname + ' ' + MiddleName"
   ]
  },
  {
   "cell_type": "code",
   "execution_count": 38,
   "id": "27362e93",
   "metadata": {},
   "outputs": [
    {
     "data": {
      "text/plain": [
       "'Olu Oye OliverTwist'"
      ]
     },
     "execution_count": 38,
     "metadata": {},
     "output_type": "execute_result"
    }
   ],
   "source": [
    "Newfull"
   ]
  },
  {
   "cell_type": "code",
   "execution_count": 40,
   "id": "926126a4",
   "metadata": {},
   "outputs": [
    {
     "data": {
      "text/plain": [
       "'u'"
      ]
     },
     "execution_count": 40,
     "metadata": {},
     "output_type": "execute_result"
    }
   ],
   "source": [
    "Newfull[2]"
   ]
  },
  {
   "cell_type": "code",
   "execution_count": 41,
   "id": "844f707b",
   "metadata": {},
   "outputs": [
    {
     "data": {
      "text/plain": [
       "'O'"
      ]
     },
     "execution_count": 41,
     "metadata": {},
     "output_type": "execute_result"
    }
   ],
   "source": [
    "Newfull[8]"
   ]
  },
  {
   "cell_type": "code",
   "execution_count": 42,
   "id": "6f5eb3be",
   "metadata": {},
   "outputs": [
    {
     "data": {
      "text/plain": [
       "'l y l'"
      ]
     },
     "execution_count": 42,
     "metadata": {},
     "output_type": "execute_result"
    }
   ],
   "source": [
    "Newfull[1:10:2]"
   ]
  },
  {
   "cell_type": "code",
   "execution_count": 43,
   "id": "f4b8395d",
   "metadata": {},
   "outputs": [
    {
     "data": {
      "text/plain": [
       "'lu Oye Ol'"
      ]
     },
     "execution_count": 43,
     "metadata": {},
     "output_type": "execute_result"
    }
   ],
   "source": [
    "Newfull[1:10]"
   ]
  },
  {
   "cell_type": "code",
   "execution_count": 44,
   "id": "aedf3dcd",
   "metadata": {},
   "outputs": [
    {
     "data": {
      "text/plain": [
       "'O ele'"
      ]
     },
     "execution_count": 44,
     "metadata": {},
     "output_type": "execute_result"
    }
   ],
   "source": [
    "Newfull[::3]"
   ]
  },
  {
   "cell_type": "code",
   "execution_count": 46,
   "id": "3a69c2c3",
   "metadata": {},
   "outputs": [
    {
     "data": {
      "text/plain": [
       "'Oyiw'"
      ]
     },
     "execution_count": 46,
     "metadata": {},
     "output_type": "execute_result"
    }
   ],
   "source": [
    "Newfull[::5]"
   ]
  },
  {
   "cell_type": "code",
   "execution_count": 47,
   "id": "44bdfaff",
   "metadata": {},
   "outputs": [
    {
     "data": {
      "text/plain": [
       "'tsiwTrevilO eyO ulO'"
      ]
     },
     "execution_count": 47,
     "metadata": {},
     "output_type": "execute_result"
    }
   ],
   "source": [
    "Newfull[::-1]"
   ]
  },
  {
   "cell_type": "code",
   "execution_count": 49,
   "id": "07dad1ae",
   "metadata": {},
   "outputs": [],
   "source": [
    " myname = 'oluwa' + 'seun'"
   ]
  },
  {
   "cell_type": "code",
   "execution_count": 50,
   "id": "d09de140",
   "metadata": {},
   "outputs": [
    {
     "data": {
      "text/plain": [
       "'oluwaseun'"
      ]
     },
     "execution_count": 50,
     "metadata": {},
     "output_type": "execute_result"
    }
   ],
   "source": [
    "myname"
   ]
  },
  {
   "cell_type": "code",
   "execution_count": 51,
   "id": "a7f32777",
   "metadata": {},
   "outputs": [],
   "source": [
    "myname += 'oye'"
   ]
  },
  {
   "cell_type": "code",
   "execution_count": 52,
   "id": "036ede74",
   "metadata": {},
   "outputs": [
    {
     "data": {
      "text/plain": [
       "'oluwaseunoye'"
      ]
     },
     "execution_count": 52,
     "metadata": {},
     "output_type": "execute_result"
    }
   ],
   "source": [
    "myname"
   ]
  },
  {
   "cell_type": "markdown",
   "id": "482cd061",
   "metadata": {},
   "source": [
    "## List"
   ]
  },
  {
   "cell_type": "code",
   "execution_count": 53,
   "id": "c3aad145",
   "metadata": {},
   "outputs": [
    {
     "ename": "AttributeError",
     "evalue": "'str' object has no attribute 'append'",
     "output_type": "error",
     "traceback": [
      "\u001b[1;31m---------------------------------------------------------------------------\u001b[0m",
      "\u001b[1;31mAttributeError\u001b[0m                            Traceback (most recent call last)",
      "Input \u001b[1;32mIn [53]\u001b[0m, in \u001b[0;36m<cell line: 1>\u001b[1;34m()\u001b[0m\n\u001b[1;32m----> 1\u001b[0m \u001b[43mFullname\u001b[49m\u001b[38;5;241;43m.\u001b[39;49m\u001b[43mappend\u001b[49m(\u001b[38;5;124m'\u001b[39m\u001b[38;5;124moyeladun\u001b[39m\u001b[38;5;124m'\u001b[39m)\n",
      "\u001b[1;31mAttributeError\u001b[0m: 'str' object has no attribute 'append'"
     ]
    }
   ],
   "source": [
    "Fullname.append('oyeladun')"
   ]
  },
  {
   "cell_type": "code",
   "execution_count": 55,
   "id": "05d2c279",
   "metadata": {},
   "outputs": [],
   "source": [
    "new = []"
   ]
  },
  {
   "cell_type": "code",
   "execution_count": 56,
   "id": "5f6cd23e",
   "metadata": {},
   "outputs": [],
   "source": [
    "new.append('oyeladun')"
   ]
  },
  {
   "cell_type": "code",
   "execution_count": 57,
   "id": "f542d5de",
   "metadata": {},
   "outputs": [
    {
     "data": {
      "text/plain": [
       "['oyeladun']"
      ]
     },
     "execution_count": 57,
     "metadata": {},
     "output_type": "execute_result"
    }
   ],
   "source": [
    "new"
   ]
  },
  {
   "cell_type": "code",
   "execution_count": 58,
   "id": "dddf99d7",
   "metadata": {},
   "outputs": [],
   "source": [
    "new.append('ola')"
   ]
  },
  {
   "cell_type": "code",
   "execution_count": 59,
   "id": "9742ae45",
   "metadata": {},
   "outputs": [
    {
     "data": {
      "text/plain": [
       "['oyeladun', 'ola']"
      ]
     },
     "execution_count": 59,
     "metadata": {},
     "output_type": "execute_result"
    }
   ],
   "source": [
    "new"
   ]
  },
  {
   "cell_type": "code",
   "execution_count": 60,
   "id": "bb0de7a2",
   "metadata": {},
   "outputs": [
    {
     "data": {
      "text/plain": [
       "'ola'"
      ]
     },
     "execution_count": 60,
     "metadata": {},
     "output_type": "execute_result"
    }
   ],
   "source": [
    "new[1]"
   ]
  },
  {
   "cell_type": "code",
   "execution_count": 61,
   "id": "13b8ebfb",
   "metadata": {},
   "outputs": [
    {
     "data": {
      "text/plain": [
       "'oyeladun'"
      ]
     },
     "execution_count": 61,
     "metadata": {},
     "output_type": "execute_result"
    }
   ],
   "source": [
    "new[0]"
   ]
  },
  {
   "cell_type": "code",
   "execution_count": 65,
   "id": "b565e689",
   "metadata": {},
   "outputs": [],
   "source": [
    "new.remove('ola')"
   ]
  },
  {
   "cell_type": "code",
   "execution_count": 66,
   "id": "da625fc1",
   "metadata": {},
   "outputs": [
    {
     "data": {
      "text/plain": [
       "['oyeladun']"
      ]
     },
     "execution_count": 66,
     "metadata": {},
     "output_type": "execute_result"
    }
   ],
   "source": [
    "new"
   ]
  },
  {
   "cell_type": "code",
   "execution_count": 68,
   "id": "cd643c87",
   "metadata": {},
   "outputs": [],
   "source": [
    "new.append('ola')"
   ]
  },
  {
   "cell_type": "code",
   "execution_count": 69,
   "id": "14cadf1b",
   "metadata": {},
   "outputs": [],
   "source": [
    "new.append( 'ade')"
   ]
  },
  {
   "cell_type": "code",
   "execution_count": 70,
   "id": "945ee5e5",
   "metadata": {},
   "outputs": [],
   "source": [
    "new.append( 'wale')"
   ]
  },
  {
   "cell_type": "code",
   "execution_count": 71,
   "id": "89f31132",
   "metadata": {},
   "outputs": [
    {
     "data": {
      "text/plain": [
       "['oyeladun', 'ola', 'ade', 'wale']"
      ]
     },
     "execution_count": 71,
     "metadata": {},
     "output_type": "execute_result"
    }
   ],
   "source": [
    "new"
   ]
  },
  {
   "cell_type": "code",
   "execution_count": 72,
   "id": "d62184f3",
   "metadata": {},
   "outputs": [
    {
     "data": {
      "text/plain": [
       "'wale'"
      ]
     },
     "execution_count": 72,
     "metadata": {},
     "output_type": "execute_result"
    }
   ],
   "source": [
    "new.pop(3)"
   ]
  },
  {
   "cell_type": "code",
   "execution_count": 73,
   "id": "c93be3e4",
   "metadata": {},
   "outputs": [
    {
     "data": {
      "text/plain": [
       "['oyeladun', 'ola', 'ade']"
      ]
     },
     "execution_count": 73,
     "metadata": {},
     "output_type": "execute_result"
    }
   ],
   "source": [
    "new"
   ]
  },
  {
   "cell_type": "code",
   "execution_count": 74,
   "id": "7af457d0",
   "metadata": {},
   "outputs": [],
   "source": [
    "names = ['oyeladun', 'ola', 'ade', 'wale', 'Omolewa', 'Edward', 'James', 'Obi', 'Loko', 'Joseph', 'Abi']"
   ]
  },
  {
   "cell_type": "code",
   "execution_count": 76,
   "id": "5bb5946b",
   "metadata": {},
   "outputs": [
    {
     "data": {
      "text/plain": [
       "['oyeladun', 'ola', 'ade', 'wale']"
      ]
     },
     "execution_count": 76,
     "metadata": {},
     "output_type": "execute_result"
    }
   ],
   "source": [
    "names[:4]"
   ]
  },
  {
   "cell_type": "code",
   "execution_count": 77,
   "id": "7d9b2c78",
   "metadata": {},
   "outputs": [
    {
     "data": {
      "text/plain": [
       "['oyeladun',\n",
       " 'ola',\n",
       " 'ade',\n",
       " 'wale',\n",
       " 'Omolewa',\n",
       " 'Edward',\n",
       " 'James',\n",
       " 'Obi',\n",
       " 'Loko',\n",
       " 'Joseph',\n",
       " 'Abi']"
      ]
     },
     "execution_count": 77,
     "metadata": {},
     "output_type": "execute_result"
    }
   ],
   "source": [
    "names"
   ]
  },
  {
   "cell_type": "code",
   "execution_count": 78,
   "id": "697c5f05",
   "metadata": {},
   "outputs": [],
   "source": [
    "names1 = ['Omolewa', 'Edward', 'James', 'Obi', 'Niyi', 'Seun']\n",
    "names3 = ['Femi', 'Biola']"
   ]
  },
  {
   "cell_type": "code",
   "execution_count": 79,
   "id": "374cb069",
   "metadata": {},
   "outputs": [],
   "source": [
    "names1.append(names3)"
   ]
  },
  {
   "cell_type": "code",
   "execution_count": 80,
   "id": "99206655",
   "metadata": {},
   "outputs": [
    {
     "data": {
      "text/plain": [
       "['Omolewa', 'Edward', 'James', 'Obi', 'Niyi', 'Seun', ['Femi', 'Biola']]"
      ]
     },
     "execution_count": 80,
     "metadata": {},
     "output_type": "execute_result"
    }
   ],
   "source": [
    "names1"
   ]
  },
  {
   "cell_type": "code",
   "execution_count": 81,
   "id": "7fc55e82",
   "metadata": {},
   "outputs": [
    {
     "data": {
      "text/plain": [
       "'Biola'"
      ]
     },
     "execution_count": 81,
     "metadata": {},
     "output_type": "execute_result"
    }
   ],
   "source": [
    "names1[-1][-1]"
   ]
  },
  {
   "cell_type": "code",
   "execution_count": 82,
   "id": "ff1ec1e6",
   "metadata": {},
   "outputs": [
    {
     "data": {
      "text/plain": [
       "'Biola'"
      ]
     },
     "execution_count": 82,
     "metadata": {},
     "output_type": "execute_result"
    }
   ],
   "source": [
    "names1[6][-1]"
   ]
  },
  {
   "cell_type": "code",
   "execution_count": 83,
   "id": "62dcdf32",
   "metadata": {},
   "outputs": [],
   "source": [
    "x = 4"
   ]
  },
  {
   "cell_type": "code",
   "execution_count": 84,
   "id": "8c4b81d4",
   "metadata": {},
   "outputs": [],
   "source": [
    "x = x + 2"
   ]
  },
  {
   "cell_type": "code",
   "execution_count": 85,
   "id": "3d768835",
   "metadata": {},
   "outputs": [
    {
     "data": {
      "text/plain": [
       "6"
      ]
     },
     "execution_count": 85,
     "metadata": {},
     "output_type": "execute_result"
    }
   ],
   "source": [
    "x"
   ]
  },
  {
   "cell_type": "code",
   "execution_count": 86,
   "id": "b6196454",
   "metadata": {},
   "outputs": [],
   "source": [
    "x -= 5 # x = x - 5"
   ]
  },
  {
   "cell_type": "code",
   "execution_count": 88,
   "id": "6cf7aafb",
   "metadata": {},
   "outputs": [],
   "source": [
    "x = x + 9"
   ]
  },
  {
   "cell_type": "code",
   "execution_count": 89,
   "id": "29a72ffc",
   "metadata": {},
   "outputs": [
    {
     "data": {
      "text/plain": [
       "10"
      ]
     },
     "execution_count": 89,
     "metadata": {},
     "output_type": "execute_result"
    }
   ],
   "source": [
    "x"
   ]
  },
  {
   "cell_type": "code",
   "execution_count": 90,
   "id": "08403765",
   "metadata": {},
   "outputs": [
    {
     "data": {
      "text/plain": [
       "5.0"
      ]
     },
     "execution_count": 90,
     "metadata": {},
     "output_type": "execute_result"
    }
   ],
   "source": [
    "x/2"
   ]
  },
  {
   "cell_type": "code",
   "execution_count": 91,
   "id": "4437b376",
   "metadata": {},
   "outputs": [],
   "source": [
    "x += 4"
   ]
  },
  {
   "cell_type": "code",
   "execution_count": 92,
   "id": "4165ba3a",
   "metadata": {},
   "outputs": [
    {
     "data": {
      "text/plain": [
       "14"
      ]
     },
     "execution_count": 92,
     "metadata": {},
     "output_type": "execute_result"
    }
   ],
   "source": [
    "x"
   ]
  },
  {
   "cell_type": "markdown",
   "id": "0f88655c",
   "metadata": {},
   "source": [
    "## set"
   ]
  },
  {
   "cell_type": "code",
   "execution_count": 93,
   "id": "0c784ff9",
   "metadata": {},
   "outputs": [
    {
     "data": {
      "text/plain": [
       "{2, 4, 5, 7}"
      ]
     },
     "execution_count": 93,
     "metadata": {},
     "output_type": "execute_result"
    }
   ],
   "source": [
    "{2, 2, 4, 5, 7, 7}"
   ]
  },
  {
   "cell_type": "code",
   "execution_count": 94,
   "id": "a8c8999b",
   "metadata": {},
   "outputs": [],
   "source": [
    "set1 = {2, 2, 4, 5, 7, 7}"
   ]
  },
  {
   "cell_type": "code",
   "execution_count": 95,
   "id": "8dea7157",
   "metadata": {},
   "outputs": [
    {
     "data": {
      "text/plain": [
       "set"
      ]
     },
     "execution_count": 95,
     "metadata": {},
     "output_type": "execute_result"
    }
   ],
   "source": [
    "type(set1)"
   ]
  },
  {
   "cell_type": "markdown",
   "id": "1d619f9c",
   "metadata": {},
   "source": [
    "## Tuple"
   ]
  },
  {
   "cell_type": "code",
   "execution_count": 97,
   "id": "6b45427d",
   "metadata": {},
   "outputs": [],
   "source": [
    "name = ('Ade' , 'Ola')"
   ]
  },
  {
   "cell_type": "code",
   "execution_count": 98,
   "id": "26db5f7e",
   "metadata": {},
   "outputs": [
    {
     "data": {
      "text/plain": [
       "tuple"
      ]
     },
     "execution_count": 98,
     "metadata": {},
     "output_type": "execute_result"
    }
   ],
   "source": [
    "type(name)"
   ]
  },
  {
   "cell_type": "code",
   "execution_count": 99,
   "id": "f918d3fc",
   "metadata": {},
   "outputs": [],
   "source": [
    "name1, name2 = ('Oyenike', 'Oyeladun')"
   ]
  },
  {
   "cell_type": "code",
   "execution_count": 101,
   "id": "3a61b3c2",
   "metadata": {},
   "outputs": [],
   "source": [
    "name3, name4 = ['ade', 'ola']"
   ]
  },
  {
   "cell_type": "markdown",
   "id": "f6e92d09",
   "metadata": {},
   "source": [
    "## dictionary"
   ]
  },
  {
   "cell_type": "code",
   "execution_count": 102,
   "id": "e9a866d7",
   "metadata": {},
   "outputs": [],
   "source": [
    "cont_capital = {'Nigeria': 'Abuja', 'USA': 'DC'}"
   ]
  },
  {
   "cell_type": "code",
   "execution_count": 103,
   "id": "9a75e8a0",
   "metadata": {},
   "outputs": [
    {
     "data": {
      "text/plain": [
       "dict_keys(['Nigeria', 'USA'])"
      ]
     },
     "execution_count": 103,
     "metadata": {},
     "output_type": "execute_result"
    }
   ],
   "source": [
    "cont_capital.keys()"
   ]
  },
  {
   "cell_type": "code",
   "execution_count": 115,
   "id": "c59ef2c0",
   "metadata": {},
   "outputs": [
    {
     "data": {
      "text/plain": [
       "dict_keys"
      ]
     },
     "execution_count": 115,
     "metadata": {},
     "output_type": "execute_result"
    }
   ],
   "source": [
    "type(cont_capital.keys())"
   ]
  },
  {
   "cell_type": "code",
   "execution_count": 116,
   "id": "cbe58acd",
   "metadata": {},
   "outputs": [
    {
     "data": {
      "text/plain": [
       "dict_values(['Abuja', 'DC'])"
      ]
     },
     "execution_count": 116,
     "metadata": {},
     "output_type": "execute_result"
    }
   ],
   "source": [
    "cont_capital.values()"
   ]
  },
  {
   "cell_type": "code",
   "execution_count": 122,
   "id": "b2575e70",
   "metadata": {},
   "outputs": [
    {
     "data": {
      "text/plain": [
       "'Value Not Found'"
      ]
     },
     "execution_count": 122,
     "metadata": {},
     "output_type": "execute_result"
    }
   ],
   "source": [
    "cont_capital.get('UK', 'Value Not Found')"
   ]
  },
  {
   "cell_type": "code",
   "execution_count": 123,
   "id": "53c81eb0",
   "metadata": {},
   "outputs": [
    {
     "data": {
      "text/plain": [
       "dict_items([('Nigeria', 'Abuja'), ('USA', 'DC'), ('Lagos', 'Ikeja')])"
      ]
     },
     "execution_count": 123,
     "metadata": {},
     "output_type": "execute_result"
    }
   ],
   "source": [
    "cont_capital.items()"
   ]
  },
  {
   "cell_type": "code",
   "execution_count": 124,
   "id": "8a5509c0",
   "metadata": {},
   "outputs": [
    {
     "data": {
      "text/plain": [
       "tuple"
      ]
     },
     "execution_count": 124,
     "metadata": {},
     "output_type": "execute_result"
    }
   ],
   "source": [
    "type(list(cont_capital.items())[1])"
   ]
  },
  {
   "cell_type": "code",
   "execution_count": null,
   "id": "d9d583b4",
   "metadata": {},
   "outputs": [],
   "source": []
  },
  {
   "cell_type": "code",
   "execution_count": 118,
   "id": "81aaf1f3",
   "metadata": {},
   "outputs": [],
   "source": [
    "cont_capital['Lagos'] = 'Ikeja' #add another column "
   ]
  },
  {
   "cell_type": "code",
   "execution_count": 119,
   "id": "3fb1a3e1",
   "metadata": {},
   "outputs": [
    {
     "data": {
      "text/plain": [
       "'Abuja'"
      ]
     },
     "execution_count": 119,
     "metadata": {},
     "output_type": "execute_result"
    }
   ],
   "source": [
    "cont_capital['Nigeria']"
   ]
  },
  {
   "cell_type": "code",
   "execution_count": 121,
   "id": "7b69cf31",
   "metadata": {},
   "outputs": [
    {
     "data": {
      "text/plain": [
       "'Ikeja'"
      ]
     },
     "execution_count": 121,
     "metadata": {},
     "output_type": "execute_result"
    }
   ],
   "source": [
    "cont_capital.get('Lagos')"
   ]
  },
  {
   "cell_type": "code",
   "execution_count": 125,
   "id": "e505d20a",
   "metadata": {},
   "outputs": [],
   "source": [
    "name = {'USA': {'GA': 'Atlanta', 'FL': 'Miami'}, 'Nigeria': {'Lagos': 'Ikeja', 'Osun': 'Oshogbo'}}"
   ]
  },
  {
   "cell_type": "code",
   "execution_count": 126,
   "id": "0fad59be",
   "metadata": {},
   "outputs": [
    {
     "data": {
      "text/plain": [
       "dict_keys(['USA', 'Nigeria'])"
      ]
     },
     "execution_count": 126,
     "metadata": {},
     "output_type": "execute_result"
    }
   ],
   "source": [
    "name.keys()"
   ]
  },
  {
   "cell_type": "code",
   "execution_count": 127,
   "id": "22561ece",
   "metadata": {},
   "outputs": [
    {
     "data": {
      "text/plain": [
       "dict_values([{'GA': 'Atlanta', 'FL': 'Miami'}, {'Lagos': 'Ikeja', 'Osun': 'Oshogbo'}])"
      ]
     },
     "execution_count": 127,
     "metadata": {},
     "output_type": "execute_result"
    }
   ],
   "source": [
    "name.values()"
   ]
  },
  {
   "cell_type": "code",
   "execution_count": 129,
   "id": "32a321d1",
   "metadata": {},
   "outputs": [
    {
     "data": {
      "text/plain": [
       "'Oshogbo'"
      ]
     },
     "execution_count": 129,
     "metadata": {},
     "output_type": "execute_result"
    }
   ],
   "source": [
    "name['Nigeria']['Osun']"
   ]
  },
  {
   "cell_type": "markdown",
   "id": "788266a4",
   "metadata": {},
   "source": [
    "## Casting"
   ]
  },
  {
   "cell_type": "code",
   "execution_count": 105,
   "id": "9949e7e9",
   "metadata": {},
   "outputs": [],
   "source": [
    "adecode = '123'"
   ]
  },
  {
   "cell_type": "code",
   "execution_count": 106,
   "id": "db9ea6ec",
   "metadata": {},
   "outputs": [
    {
     "data": {
      "text/plain": [
       "str"
      ]
     },
     "execution_count": 106,
     "metadata": {},
     "output_type": "execute_result"
    }
   ],
   "source": [
    "type(adecode)"
   ]
  },
  {
   "cell_type": "code",
   "execution_count": 107,
   "id": "e0da5c31",
   "metadata": {},
   "outputs": [],
   "source": [
    "y = int(adecode)"
   ]
  },
  {
   "cell_type": "code",
   "execution_count": 108,
   "id": "ed0af34e",
   "metadata": {},
   "outputs": [
    {
     "data": {
      "text/plain": [
       "int"
      ]
     },
     "execution_count": 108,
     "metadata": {},
     "output_type": "execute_result"
    }
   ],
   "source": [
    "type(y)"
   ]
  },
  {
   "cell_type": "code",
   "execution_count": 109,
   "id": "87702a5a",
   "metadata": {},
   "outputs": [],
   "source": [
    "x = '567965432'"
   ]
  },
  {
   "cell_type": "code",
   "execution_count": 110,
   "id": "b50b914d",
   "metadata": {},
   "outputs": [],
   "source": [
    "z = list(x)"
   ]
  },
  {
   "cell_type": "code",
   "execution_count": 111,
   "id": "359e57e5",
   "metadata": {},
   "outputs": [
    {
     "data": {
      "text/plain": [
       "['5', '6', '7', '9', '6', '5', '4', '3', '2']"
      ]
     },
     "execution_count": 111,
     "metadata": {},
     "output_type": "execute_result"
    }
   ],
   "source": [
    "z"
   ]
  },
  {
   "cell_type": "code",
   "execution_count": 112,
   "id": "ceb5f215",
   "metadata": {},
   "outputs": [],
   "source": [
    "t = int(x)"
   ]
  },
  {
   "cell_type": "code",
   "execution_count": 113,
   "id": "42d441d5",
   "metadata": {},
   "outputs": [
    {
     "data": {
      "text/plain": [
       "567965432"
      ]
     },
     "execution_count": 113,
     "metadata": {},
     "output_type": "execute_result"
    }
   ],
   "source": [
    "t"
   ]
  },
  {
   "cell_type": "code",
   "execution_count": 128,
   "id": "ae3ad0a8",
   "metadata": {},
   "outputs": [
    {
     "data": {
      "text/plain": [
       "'Oshogbo'"
      ]
     },
     "execution_count": 128,
     "metadata": {},
     "output_type": "execute_result"
    }
   ],
   "source": [
    "name['Nigeria']['Osun']"
   ]
  },
  {
   "cell_type": "code",
   "execution_count": null,
   "id": "dfaf116c",
   "metadata": {},
   "outputs": [],
   "source": []
  }
 ],
 "metadata": {
  "kernelspec": {
   "display_name": "Python 3 (ipykernel)",
   "language": "python",
   "name": "python3"
  },
  "language_info": {
   "codemirror_mode": {
    "name": "ipython",
    "version": 3
   },
   "file_extension": ".py",
   "mimetype": "text/x-python",
   "name": "python",
   "nbconvert_exporter": "python",
   "pygments_lexer": "ipython3",
   "version": "3.9.12"
  }
 },
 "nbformat": 4,
 "nbformat_minor": 5
}
