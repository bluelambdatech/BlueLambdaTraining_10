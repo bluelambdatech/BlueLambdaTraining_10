{
 "cells": [
  {
   "cell_type": "code",
   "execution_count": 4,
   "id": "54d40ae4",
   "metadata": {},
   "outputs": [],
   "source": [
    "# if-else statement"
   ]
  },
  {
   "cell_type": "code",
   "execution_count": null,
   "id": "332457d5",
   "metadata": {},
   "outputs": [],
   "source": [
    "if condition:\n",
    "    afgdvgavvgusfhgasf\n",
    "else:\n",
    "    gadghassfb;oafujf"
   ]
  },
  {
   "cell_type": "code",
   "execution_count": 7,
   "id": "3cc00e01",
   "metadata": {},
   "outputs": [],
   "source": [
    "cond = False"
   ]
  },
  {
   "cell_type": "code",
   "execution_count": 9,
   "id": "e4fd03fc",
   "metadata": {},
   "outputs": [],
   "source": [
    "if cond:\n",
    "    print('Omolewa')\n",
    "else:\n",
    "    print('Nene')"
   ]
  },
  {
   "cell_type": "code",
   "execution_count": 21,
   "id": "b2267d5e",
   "metadata": {},
   "outputs": [
    {
     "name": "stdout",
     "output_type": "stream",
     "text": [
      "q\n"
     ]
    }
   ],
   "source": [
    "name = input(\"Please Enter your name: \")"
   ]
  },
  {
   "cell_type": "code",
   "execution_count": 14,
   "id": "4927d7d2",
   "metadata": {},
   "outputs": [
    {
     "data": {
      "text/plain": [
       "'Nene'"
      ]
     },
     "execution_count": 14,
     "metadata": {},
     "output_type": "execute_result"
    }
   ],
   "source": [
    "name"
   ]
  },
  {
   "cell_type": "code",
   "execution_count": 27,
   "id": "a66ee4f1",
   "metadata": {},
   "outputs": [
    {
     "name": "stdout",
     "output_type": "stream",
     "text": [
      "Please, Enter your Age: 120\n"
     ]
    }
   ],
   "source": [
    "age = int(input(\"Please, Enter your Age: \"))"
   ]
  },
  {
   "cell_type": "code",
   "execution_count": 28,
   "id": "78b3cebd",
   "metadata": {},
   "outputs": [
    {
     "data": {
      "text/plain": [
       "120"
      ]
     },
     "execution_count": 28,
     "metadata": {},
     "output_type": "execute_result"
    }
   ],
   "source": [
    "age"
   ]
  },
  {
   "cell_type": "code",
   "execution_count": 29,
   "id": "2987a060",
   "metadata": {},
   "outputs": [],
   "source": [
    "assert age > 100, \"Not Qualified\""
   ]
  },
  {
   "cell_type": "code",
   "execution_count": 34,
   "id": "fae02e54",
   "metadata": {},
   "outputs": [
    {
     "name": "stdout",
     "output_type": "stream",
     "text": [
      "Please, enter your first name: Nene\n",
      "Please, enter your Age: 20\n",
      "Nene, you are 20 years old\n"
     ]
    }
   ],
   "source": [
    "fname = input('Please, enter your first name: ')\n",
    "age = input('Please, enter your Age: ')\n",
    "print(f'{fname}, you are {age} years old')"
   ]
  },
  {
   "cell_type": "code",
   "execution_count": 31,
   "id": "d2c676db",
   "metadata": {},
   "outputs": [
    {
     "data": {
      "text/plain": [
       "'Omolewa'"
      ]
     },
     "execution_count": 31,
     "metadata": {},
     "output_type": "execute_result"
    }
   ],
   "source": [
    "fname"
   ]
  },
  {
   "cell_type": "code",
   "execution_count": 32,
   "id": "7ccd62c3",
   "metadata": {},
   "outputs": [
    {
     "data": {
      "text/plain": [
       "'13'"
      ]
     },
     "execution_count": 32,
     "metadata": {},
     "output_type": "execute_result"
    }
   ],
   "source": [
    "age"
   ]
  },
  {
   "cell_type": "code",
   "execution_count": 33,
   "id": "7af0e732",
   "metadata": {},
   "outputs": [
    {
     "name": "stdout",
     "output_type": "stream",
     "text": [
      "Omolewa, you are 13 years old\n"
     ]
    }
   ],
   "source": [
    "print(f'{fname}, you are {age} years old')"
   ]
  },
  {
   "cell_type": "code",
   "execution_count": 36,
   "id": "6faac10e",
   "metadata": {},
   "outputs": [
    {
     "name": "stdout",
     "output_type": "stream",
     "text": [
      "Nene you are 20 years old\n"
     ]
    }
   ],
   "source": [
    "print(fname, \"you are\", age, \"years old\")"
   ]
  },
  {
   "cell_type": "code",
   "execution_count": 55,
   "id": "3b0a8e9e",
   "metadata": {},
   "outputs": [
    {
     "name": "stdout",
     "output_type": "stream",
     "text": [
      "Please, enter your first name and Age, sepearted by space: Omolewa 30\n"
     ]
    }
   ],
   "source": [
    "inp = input('Please, enter your first name and Age, sepearted by space: ')"
   ]
  },
  {
   "cell_type": "code",
   "execution_count": 57,
   "id": "f0f7eb17",
   "metadata": {},
   "outputs": [
    {
     "data": {
      "text/plain": [
       "['Omolewa', '30']"
      ]
     },
     "execution_count": 57,
     "metadata": {},
     "output_type": "execute_result"
    }
   ],
   "source": [
    "inp.split()"
   ]
  },
  {
   "cell_type": "code",
   "execution_count": 54,
   "id": "ce02dd90",
   "metadata": {},
   "outputs": [
    {
     "data": {
      "text/plain": [
       "['Oma', '20']"
      ]
     },
     "execution_count": 54,
     "metadata": {},
     "output_type": "execute_result"
    }
   ],
   "source": [
    "inp.split(',')"
   ]
  },
  {
   "cell_type": "code",
   "execution_count": 49,
   "id": "3a54982d",
   "metadata": {},
   "outputs": [],
   "source": [
    "fname, age = inp.split() # unpack"
   ]
  },
  {
   "cell_type": "code",
   "execution_count": 50,
   "id": "cf4b0f74",
   "metadata": {},
   "outputs": [
    {
     "data": {
      "text/plain": [
       "'Omolewa'"
      ]
     },
     "execution_count": 50,
     "metadata": {},
     "output_type": "execute_result"
    }
   ],
   "source": [
    "fname"
   ]
  },
  {
   "cell_type": "code",
   "execution_count": 51,
   "id": "0ec5a4c1",
   "metadata": {},
   "outputs": [
    {
     "data": {
      "text/plain": [
       "'30'"
      ]
     },
     "execution_count": 51,
     "metadata": {},
     "output_type": "execute_result"
    }
   ],
   "source": [
    "age"
   ]
  },
  {
   "cell_type": "code",
   "execution_count": null,
   "id": "16dda190",
   "metadata": {},
   "outputs": [],
   "source": []
  },
  {
   "cell_type": "code",
   "execution_count": null,
   "id": "7d85871d",
   "metadata": {},
   "outputs": [],
   "source": []
  },
  {
   "cell_type": "code",
   "execution_count": 43,
   "id": "1c2c9944",
   "metadata": {},
   "outputs": [
    {
     "data": {
      "text/plain": [
       "['Om', 'lewa 30']"
      ]
     },
     "execution_count": 43,
     "metadata": {},
     "output_type": "execute_result"
    }
   ],
   "source": [
    "inp.split('o')"
   ]
  },
  {
   "cell_type": "code",
   "execution_count": null,
   "id": "80eacf53",
   "metadata": {},
   "outputs": [],
   "source": [
    "print(f'{fname}, you are {age} years old')"
   ]
  },
  {
   "cell_type": "code",
   "execution_count": 44,
   "id": "da6b1325",
   "metadata": {},
   "outputs": [],
   "source": [
    "sent = 'my name is Omolewa and I am from Atlanta GA'"
   ]
  },
  {
   "cell_type": "code",
   "execution_count": 47,
   "id": "b28c358d",
   "metadata": {},
   "outputs": [
    {
     "data": {
      "text/plain": [
       "['my n', 'me is Omolew', ' ', 'nd I ', 'm from Atl', 'nt', ' GA']"
      ]
     },
     "execution_count": 47,
     "metadata": {},
     "output_type": "execute_result"
    }
   ],
   "source": [
    "sent.split('a')"
   ]
  },
  {
   "cell_type": "code",
   "execution_count": null,
   "id": "ddb74f94",
   "metadata": {},
   "outputs": [],
   "source": [
    "inp = input('Please, enter your first name and Age, sepearted by space: ')"
   ]
  },
  {
   "cell_type": "code",
   "execution_count": 63,
   "id": "1a2f0b6c",
   "metadata": {},
   "outputs": [
    {
     "name": "stdout",
     "output_type": "stream",
     "text": [
      "Please, enter your first name and Age, sepearted by space: Oma 100\n",
      "Oma, you are qualified for the Bonus\n"
     ]
    }
   ],
   "source": [
    "# inp = input('Please, enter your first name and Age, sepearted by space: ')\n",
    "# fname, age = inp.split()\n",
    "fname, age = input('Please, enter your first name and Age, sepearted by space: ').split()\n",
    "\n",
    "if int(age) >= 18:\n",
    "    print(f\"{fname}, you are qualified for the Bonus\")\n",
    "else:\n",
    "    print(f\"{fname}, you are NOT qualified for the Bonus\")"
   ]
  },
  {
   "cell_type": "code",
   "execution_count": 68,
   "id": "a1cfdf7f",
   "metadata": {},
   "outputs": [
    {
     "name": "stdout",
     "output_type": "stream",
     "text": [
      "Please, enter your first name and Age, sepearted by space: Oma 18\n",
      "Oma, you are qualified for the Bonus2\n"
     ]
    }
   ],
   "source": [
    "fname, age = input('Please, enter your first name and Age, sepearted by space: ').split()\n",
    "age = int(age)\n",
    "\n",
    "if age < 18:\n",
    "    print(f\"{fname}, you are qualified for the Bonus1\")\n",
    "elif age >= 18 and age < 35:\n",
    "    print(f\"{fname}, you are qualified for the Bonus2\")\n",
    "else:\n",
    "    print(f\"{fname}, you are qualified for the Bonus3\")"
   ]
  },
  {
   "cell_type": "code",
   "execution_count": 69,
   "id": "40b6a09a",
   "metadata": {},
   "outputs": [
    {
     "name": "stdout",
     "output_type": "stream",
     "text": [
      "Please, enter your first name and Age, sepearted by space: Oma 20\n",
      "Oma, you are qualified for the Bonus2\n"
     ]
    }
   ],
   "source": [
    "fname, age = input('Please, enter your first name and Age, sepearted by space: ').split()\n",
    "age = int(age)\n",
    "\n",
    "if age < 18:\n",
    "    print(f\"{fname}, you are qualified for the Bonus1\")\n",
    "elif age < 35:\n",
    "    print(f\"{fname}, you are qualified for the Bonus2\")\n",
    "else:\n",
    "    print(f\"{fname}, you are qualified for the Bonus3\")"
   ]
  },
  {
   "cell_type": "code",
   "execution_count": 71,
   "id": "2235459c",
   "metadata": {},
   "outputs": [
    {
     "data": {
      "text/plain": [
       "20"
      ]
     },
     "execution_count": 71,
     "metadata": {},
     "output_type": "execute_result"
    }
   ],
   "source": [
    "age"
   ]
  },
  {
   "cell_type": "code",
   "execution_count": 70,
   "id": "438cdf96",
   "metadata": {},
   "outputs": [
    {
     "data": {
      "text/plain": [
       "False"
      ]
     },
     "execution_count": 70,
     "metadata": {},
     "output_type": "execute_result"
    }
   ],
   "source": [
    "out = age == 18\n",
    "out"
   ]
  },
  {
   "cell_type": "code",
   "execution_count": 72,
   "id": "4962bd65",
   "metadata": {},
   "outputs": [
    {
     "data": {
      "text/plain": [
       "1"
      ]
     },
     "execution_count": 72,
     "metadata": {},
     "output_type": "execute_result"
    }
   ],
   "source": [
    "True + False"
   ]
  },
  {
   "cell_type": "code",
   "execution_count": 73,
   "id": "4baaedc2",
   "metadata": {},
   "outputs": [
    {
     "data": {
      "text/plain": [
       "2"
      ]
     },
     "execution_count": 73,
     "metadata": {},
     "output_type": "execute_result"
    }
   ],
   "source": [
    "True + True"
   ]
  },
  {
   "cell_type": "code",
   "execution_count": 75,
   "id": "c1252d86",
   "metadata": {},
   "outputs": [
    {
     "data": {
      "text/plain": [
       "3"
      ]
     },
     "execution_count": 75,
     "metadata": {},
     "output_type": "execute_result"
    }
   ],
   "source": [
    "True + True + True"
   ]
  },
  {
   "cell_type": "code",
   "execution_count": 76,
   "id": "a3265168",
   "metadata": {},
   "outputs": [
    {
     "name": "stdout",
     "output_type": "stream",
     "text": [
      "0\n",
      "1\n",
      "2\n",
      "3\n",
      "4\n",
      "5\n",
      "6\n",
      "7\n",
      "8\n",
      "9\n"
     ]
    }
   ],
   "source": [
    "for num in range(10):\n",
    "    print(num)"
   ]
  },
  {
   "cell_type": "code",
   "execution_count": 79,
   "id": "77f746eb",
   "metadata": {},
   "outputs": [
    {
     "name": "stdout",
     "output_type": "stream",
     "text": [
      "50\n",
      "150\n",
      "250\n",
      "350\n",
      "450\n",
      "550\n",
      "650\n",
      "750\n",
      "850\n",
      "950\n"
     ]
    }
   ],
   "source": [
    "for num in range(50, 1000, 100):\n",
    "    print(num)"
   ]
  },
  {
   "cell_type": "code",
   "execution_count": 81,
   "id": "47b6c0a5",
   "metadata": {},
   "outputs": [
    {
     "data": {
      "text/plain": [
       "[0, 4, 16, 36, 64]"
      ]
     },
     "execution_count": 81,
     "metadata": {},
     "output_type": "execute_result"
    }
   ],
   "source": [
    "[num ** 2 for num in range(10) if num % 2 == 0]"
   ]
  },
  {
   "cell_type": "code",
   "execution_count": 82,
   "id": "db1e8bc2",
   "metadata": {},
   "outputs": [],
   "source": [
    "num = 20"
   ]
  },
  {
   "cell_type": "code",
   "execution_count": 83,
   "id": "dd9a7a74",
   "metadata": {},
   "outputs": [
    {
     "data": {
      "text/plain": [
       "6.666666666666667"
      ]
     },
     "execution_count": 83,
     "metadata": {},
     "output_type": "execute_result"
    }
   ],
   "source": [
    "num / 3"
   ]
  },
  {
   "cell_type": "code",
   "execution_count": 84,
   "id": "6b971be1",
   "metadata": {},
   "outputs": [
    {
     "data": {
      "text/plain": [
       "6"
      ]
     },
     "execution_count": 84,
     "metadata": {},
     "output_type": "execute_result"
    }
   ],
   "source": [
    "num // 3"
   ]
  },
  {
   "cell_type": "code",
   "execution_count": 85,
   "id": "84c4c712",
   "metadata": {},
   "outputs": [
    {
     "data": {
      "text/plain": [
       "2"
      ]
     },
     "execution_count": 85,
     "metadata": {},
     "output_type": "execute_result"
    }
   ],
   "source": [
    "num % 3"
   ]
  },
  {
   "cell_type": "code",
   "execution_count": 86,
   "id": "05e40ff2",
   "metadata": {},
   "outputs": [
    {
     "data": {
      "text/plain": [
       "0"
      ]
     },
     "execution_count": 86,
     "metadata": {},
     "output_type": "execute_result"
    }
   ],
   "source": [
    "100 % 50"
   ]
  },
  {
   "cell_type": "code",
   "execution_count": 87,
   "id": "5c5ba084",
   "metadata": {},
   "outputs": [
    {
     "data": {
      "text/plain": [
       "1"
      ]
     },
     "execution_count": 87,
     "metadata": {},
     "output_type": "execute_result"
    }
   ],
   "source": [
    "1454355 % 2"
   ]
  },
  {
   "cell_type": "code",
   "execution_count": 88,
   "id": "5c717a36",
   "metadata": {},
   "outputs": [],
   "source": [
    "if 1454355 % 2 == 0:\n",
    "    print('Even')"
   ]
  },
  {
   "cell_type": "code",
   "execution_count": null,
   "id": "24a37e9a",
   "metadata": {},
   "outputs": [],
   "source": []
  }
 ],
 "metadata": {
  "kernelspec": {
   "display_name": "Python 3 (ipykernel)",
   "language": "python",
   "name": "python3"
  },
  "language_info": {
   "codemirror_mode": {
    "name": "ipython",
    "version": 3
   },
   "file_extension": ".py",
   "mimetype": "text/x-python",
   "name": "python",
   "nbconvert_exporter": "python",
   "pygments_lexer": "ipython3",
   "version": "3.9.7"
  }
 },
 "nbformat": 4,
 "nbformat_minor": 5
}
