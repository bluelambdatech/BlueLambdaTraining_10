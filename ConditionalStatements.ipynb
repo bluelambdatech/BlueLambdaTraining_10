{
 "cells": [
  {
   "cell_type": "code",
   "execution_count": 4,
   "id": "1dfcd073",
   "metadata": {},
   "outputs": [],
   "source": [
    "# if-else statement"
   ]
  },
  {
   "cell_type": "code",
   "execution_count": null,
   "id": "228cb343",
   "metadata": {},
   "outputs": [],
   "source": [
    "if condition:\n",
    "    afgdvgavvgusfhgasf\n",
    "else:\n",
    "    gadghassfb;oafujf"
   ]
  },
  {
   "cell_type": "code",
   "execution_count": 7,
   "id": "e74e38ce",
   "metadata": {},
   "outputs": [],
   "source": [
    "cond = False"
   ]
  },
  {
   "cell_type": "code",
   "execution_count": 9,
   "id": "62771974",
   "metadata": {},
   "outputs": [],
   "source": [
    "if cond:\n",
    "    print('Omolewa')\n",
    "else:\n",
    "    print('Nene')"
   ]
  },
  {
   "cell_type": "code",
   "execution_count": 21,
   "id": "8e9661b5",
   "metadata": {},
   "outputs": [
    {
     "name": "stdout",
     "output_type": "stream",
     "text": [
      "q\n"
     ]
    }
   ],
   "source": [
    "name = input(\"Please Enter your name: \")"
   ]
  },
  {
   "cell_type": "code",
   "execution_count": 14,
   "id": "fd5a5ae0",
   "metadata": {},
   "outputs": [
    {
     "data": {
      "text/plain": [
       "'Nene'"
      ]
     },
     "execution_count": 14,
     "metadata": {},
     "output_type": "execute_result"
    }
   ],
   "source": [
    "name"
   ]
  },
  {
   "cell_type": "code",
   "execution_count": 27,
   "id": "838bd6a4",
   "metadata": {},
   "outputs": [
    {
     "name": "stdout",
     "output_type": "stream",
     "text": [
      "Please, Enter your Age: 120\n"
     ]
    }
   ],
   "source": [
    "age = int(input(\"Please, Enter your Age: \"))"
   ]
  },
  {
   "cell_type": "code",
   "execution_count": 28,
   "id": "8d1d80d6",
   "metadata": {},
   "outputs": [
    {
     "data": {
      "text/plain": [
       "120"
      ]
     },
     "execution_count": 28,
     "metadata": {},
     "output_type": "execute_result"
    }
   ],
   "source": [
    "age"
   ]
  },
  {
   "cell_type": "code",
   "execution_count": 29,
   "id": "cfd5aed5",
   "metadata": {},
   "outputs": [],
   "source": [
    "assert age > 100, \"Not Qualified\""
   ]
  },
  {
   "cell_type": "code",
   "execution_count": 34,
   "id": "793fbfa7",
   "metadata": {},
   "outputs": [
    {
     "name": "stdout",
     "output_type": "stream",
     "text": [
      "Please, enter your first name: Nene\n",
      "Please, enter your Age: 20\n",
      "Nene, you are 20 years old\n"
     ]
    }
   ],
   "source": [
    "fname = input('Please, enter your first name: ')\n",
    "age = input('Please, enter your Age: ')\n",
    "print(f'{fname}, you are {age} years old')"
   ]
  },
  {
   "cell_type": "code",
   "execution_count": 31,
   "id": "b40c23a2",
   "metadata": {},
   "outputs": [
    {
     "data": {
      "text/plain": [
       "'Omolewa'"
      ]
     },
     "execution_count": 31,
     "metadata": {},
     "output_type": "execute_result"
    }
   ],
   "source": [
    "fname"
   ]
  },
  {
   "cell_type": "code",
   "execution_count": 32,
   "id": "84592dac",
   "metadata": {},
   "outputs": [
    {
     "data": {
      "text/plain": [
       "'13'"
      ]
     },
     "execution_count": 32,
     "metadata": {},
     "output_type": "execute_result"
    }
   ],
   "source": [
    "age"
   ]
  },
  {
   "cell_type": "code",
   "execution_count": 33,
   "id": "53b11a4e",
   "metadata": {},
   "outputs": [
    {
     "name": "stdout",
     "output_type": "stream",
     "text": [
      "Omolewa, you are 13 years old\n"
     ]
    }
   ],
   "source": [
    "print(f'{fname}, you are {age} years old')"
   ]
  },
  {
   "cell_type": "code",
   "execution_count": 36,
   "id": "31e5287f",
   "metadata": {},
   "outputs": [
    {
     "name": "stdout",
     "output_type": "stream",
     "text": [
      "Nene you are 20 years old\n"
     ]
    }
   ],
   "source": [
    "print(fname, \"you are\", age, \"years old\")"
   ]
  },
  {
   "cell_type": "code",
   "execution_count": 55,
   "id": "3810643d",
   "metadata": {},
   "outputs": [
    {
     "name": "stdout",
     "output_type": "stream",
     "text": [
      "Please, enter your first name and Age, sepearted by space: Omolewa 30\n"
     ]
    }
   ],
   "source": [
    "inp = input('Please, enter your first name and Age, sepearted by space: ')"
   ]
  },
  {
   "cell_type": "code",
   "execution_count": 57,
   "id": "49720a06",
   "metadata": {},
   "outputs": [
    {
     "data": {
      "text/plain": [
       "['Omolewa', '30']"
      ]
     },
     "execution_count": 57,
     "metadata": {},
     "output_type": "execute_result"
    }
   ],
   "source": [
    "inp.split()"
   ]
  },
  {
   "cell_type": "code",
   "execution_count": 54,
   "id": "e6e2b087",
   "metadata": {},
   "outputs": [
    {
     "data": {
      "text/plain": [
       "['Oma', '20']"
      ]
     },
     "execution_count": 54,
     "metadata": {},
     "output_type": "execute_result"
    }
   ],
   "source": [
    "inp.split(',')"
   ]
  },
  {
   "cell_type": "code",
   "execution_count": 49,
   "id": "57b46ef7",
   "metadata": {},
   "outputs": [],
   "source": [
    "fname, age = inp.split() # unpack"
   ]
  },
  {
   "cell_type": "code",
   "execution_count": 50,
   "id": "ff869f04",
   "metadata": {},
   "outputs": [
    {
     "data": {
      "text/plain": [
       "'Omolewa'"
      ]
     },
     "execution_count": 50,
     "metadata": {},
     "output_type": "execute_result"
    }
   ],
   "source": [
    "fname"
   ]
  },
  {
   "cell_type": "code",
   "execution_count": 51,
   "id": "1bfc6418",
   "metadata": {},
   "outputs": [
    {
     "data": {
      "text/plain": [
       "'30'"
      ]
     },
     "execution_count": 51,
     "metadata": {},
     "output_type": "execute_result"
    }
   ],
   "source": [
    "age"
   ]
  },
  {
   "cell_type": "code",
   "execution_count": null,
   "id": "a2d9d74b",
   "metadata": {},
   "outputs": [],
   "source": []
  },
  {
   "cell_type": "code",
   "execution_count": null,
   "id": "dcfadc05",
   "metadata": {},
   "outputs": [],
   "source": []
  },
  {
   "cell_type": "code",
   "execution_count": 43,
   "id": "4ffbe963",
   "metadata": {},
   "outputs": [
    {
     "data": {
      "text/plain": [
       "['Om', 'lewa 30']"
      ]
     },
     "execution_count": 43,
     "metadata": {},
     "output_type": "execute_result"
    }
   ],
   "source": [
    "inp.split('o')"
   ]
  },
  {
   "cell_type": "code",
   "execution_count": null,
   "id": "cfa93dc1",
   "metadata": {},
   "outputs": [],
   "source": [
    "print(f'{fname}, you are {age} years old')"
   ]
  },
  {
   "cell_type": "code",
   "execution_count": 44,
   "id": "ef98d8cb",
   "metadata": {},
   "outputs": [],
   "source": [
    "sent = 'my name is Omolewa and I am from Atlanta GA'"
   ]
  },
  {
   "cell_type": "code",
   "execution_count": 47,
   "id": "e3f2bf63",
   "metadata": {},
   "outputs": [
    {
     "data": {
      "text/plain": [
       "['my n', 'me is Omolew', ' ', 'nd I ', 'm from Atl', 'nt', ' GA']"
      ]
     },
     "execution_count": 47,
     "metadata": {},
     "output_type": "execute_result"
    }
   ],
   "source": [
    "sent.split('a')"
   ]
  },
  {
   "cell_type": "code",
   "execution_count": null,
   "id": "d31ec341",
   "metadata": {},
   "outputs": [],
   "source": [
    "inp = input('Please, enter your first name and Age, sepearted by space: ')"
   ]
  },
  {
   "cell_type": "code",
   "execution_count": 63,
   "id": "8b5a8a43",
   "metadata": {},
   "outputs": [
    {
     "name": "stdout",
     "output_type": "stream",
     "text": [
      "Please, enter your first name and Age, sepearted by space: Oma 100\n",
      "Oma, you are qualified for the Bonus\n"
     ]
    }
   ],
   "source": [
    "# inp = input('Please, enter your first name and Age, sepearted by space: ')\n",
    "# fname, age = inp.split()\n",
    "fname, age = input('Please, enter your first name and Age, sepearted by space: ').split()\n",
    "\n",
    "if int(age) >= 18:\n",
    "    print(f\"{fname}, you are qualified for the Bonus\")\n",
    "else:\n",
    "    print(f\"{fname}, you are NOT qualified for the Bonus\")"
   ]
  },
  {
   "cell_type": "code",
   "execution_count": 68,
   "id": "7cdee826",
   "metadata": {},
   "outputs": [
    {
     "name": "stdout",
     "output_type": "stream",
     "text": [
      "Please, enter your first name and Age, sepearted by space: Oma 18\n",
      "Oma, you are qualified for the Bonus2\n"
     ]
    }
   ],
   "source": [
    "fname, age = input('Please, enter your first name and Age, sepearted by space: ').split()\n",
    "age = int(age)\n",
    "\n",
    "if age < 18:\n",
    "    print(f\"{fname}, you are qualified for the Bonus1\")\n",
    "elif age >= 18 and age < 35:\n",
    "    print(f\"{fname}, you are qualified for the Bonus2\")\n",
    "else:\n",
    "    print(f\"{fname}, you are qualified for the Bonus3\")"
   ]
  },
  {
   "cell_type": "code",
   "execution_count": 69,
   "id": "7a429675",
   "metadata": {},
   "outputs": [
    {
     "name": "stdout",
     "output_type": "stream",
     "text": [
      "Please, enter your first name and Age, sepearted by space: Oma 20\n",
      "Oma, you are qualified for the Bonus2\n"
     ]
    }
   ],
   "source": [
    "fname, age = input('Please, enter your first name and Age, sepearted by space: ').split()\n",
    "age = int(age)\n",
    "\n",
    "if age < 18:\n",
    "    print(f\"{fname}, you are qualified for the Bonus1\")\n",
    "elif age < 35:\n",
    "    print(f\"{fname}, you are qualified for the Bonus2\")\n",
    "else:\n",
    "    print(f\"{fname}, you are qualified for the Bonus3\")"
   ]
  },
  {
   "cell_type": "code",
   "execution_count": 71,
   "id": "bb5a3164",
   "metadata": {},
   "outputs": [
    {
     "data": {
      "text/plain": [
       "20"
      ]
     },
     "execution_count": 71,
     "metadata": {},
     "output_type": "execute_result"
    }
   ],
   "source": [
    "age"
   ]
  },
  {
   "cell_type": "code",
   "execution_count": 70,
   "id": "f27c3811",
   "metadata": {},
   "outputs": [
    {
     "data": {
      "text/plain": [
       "False"
      ]
     },
     "execution_count": 70,
     "metadata": {},
     "output_type": "execute_result"
    }
   ],
   "source": [
    "out = age == 18\n",
    "out"
   ]
  },
  {
   "cell_type": "code",
   "execution_count": 72,
   "id": "711f0cab",
   "metadata": {},
   "outputs": [
    {
     "data": {
      "text/plain": [
       "1"
      ]
     },
     "execution_count": 72,
     "metadata": {},
     "output_type": "execute_result"
    }
   ],
   "source": [
    "True + False"
   ]
  },
  {
   "cell_type": "code",
   "execution_count": 73,
   "id": "eaf40837",
   "metadata": {},
   "outputs": [
    {
     "data": {
      "text/plain": [
       "2"
      ]
     },
     "execution_count": 73,
     "metadata": {},
     "output_type": "execute_result"
    }
   ],
   "source": [
    "True + True"
   ]
  },
  {
   "cell_type": "code",
   "execution_count": 75,
   "id": "02c995ff",
   "metadata": {},
   "outputs": [
    {
     "data": {
      "text/plain": [
       "3"
      ]
     },
     "execution_count": 75,
     "metadata": {},
     "output_type": "execute_result"
    }
   ],
   "source": [
    "True + True + True"
   ]
  },
  {
   "cell_type": "code",
   "execution_count": 76,
   "id": "a4f929a0",
   "metadata": {},
   "outputs": [
    {
     "name": "stdout",
     "output_type": "stream",
     "text": [
      "0\n",
      "1\n",
      "2\n",
      "3\n",
      "4\n",
      "5\n",
      "6\n",
      "7\n",
      "8\n",
      "9\n"
     ]
    }
   ],
   "source": [
    "for num in range(10):\n",
    "    print(num)"
   ]
  },
  {
   "cell_type": "code",
   "execution_count": 79,
   "id": "4c527fd1",
   "metadata": {},
   "outputs": [
    {
     "name": "stdout",
     "output_type": "stream",
     "text": [
      "50\n",
      "150\n",
      "250\n",
      "350\n",
      "450\n",
      "550\n",
      "650\n",
      "750\n",
      "850\n",
      "950\n"
     ]
    }
   ],
   "source": [
    "for num in range(50, 1000, 100):\n",
    "    print(num)"
   ]
  },
  {
   "cell_type": "code",
   "execution_count": 81,
   "id": "05ebc7c9",
   "metadata": {},
   "outputs": [
    {
     "data": {
      "text/plain": [
       "[0, 4, 16, 36, 64]"
      ]
     },
     "execution_count": 81,
     "metadata": {},
     "output_type": "execute_result"
    }
   ],
   "source": [
    "[num ** 2 for num in range(10) if num % 2 == 0]"
   ]
  },
  {
   "cell_type": "code",
   "execution_count": 82,
   "id": "1c327a26",
   "metadata": {},
   "outputs": [],
   "source": [
    "num = 20"
   ]
  },
  {
   "cell_type": "code",
   "execution_count": 83,
   "id": "2493dccc",
   "metadata": {},
   "outputs": [
    {
     "data": {
      "text/plain": [
       "6.666666666666667"
      ]
     },
     "execution_count": 83,
     "metadata": {},
     "output_type": "execute_result"
    }
   ],
   "source": [
    "num / 3"
   ]
  },
  {
   "cell_type": "code",
   "execution_count": 84,
   "id": "b76bd854",
   "metadata": {},
   "outputs": [
    {
     "data": {
      "text/plain": [
       "6"
      ]
     },
     "execution_count": 84,
     "metadata": {},
     "output_type": "execute_result"
    }
   ],
   "source": [
    "num // 3"
   ]
  },
  {
   "cell_type": "code",
   "execution_count": 85,
   "id": "24cdeb08",
   "metadata": {},
   "outputs": [
    {
     "data": {
      "text/plain": [
       "2"
      ]
     },
     "execution_count": 85,
     "metadata": {},
     "output_type": "execute_result"
    }
   ],
   "source": [
    "num % 3"
   ]
  },
  {
   "cell_type": "code",
   "execution_count": 86,
   "id": "0578b730",
   "metadata": {},
   "outputs": [
    {
     "data": {
      "text/plain": [
       "0"
      ]
     },
     "execution_count": 86,
     "metadata": {},
     "output_type": "execute_result"
    }
   ],
   "source": [
    "100 % 50"
   ]
  },
  {
   "cell_type": "code",
   "execution_count": 87,
   "id": "16a55309",
   "metadata": {},
   "outputs": [
    {
     "data": {
      "text/plain": [
       "1"
      ]
     },
     "execution_count": 87,
     "metadata": {},
     "output_type": "execute_result"
    }
   ],
   "source": [
    "1454355 % 2"
   ]
  },
  {
   "cell_type": "code",
   "execution_count": 88,
   "id": "8a5943fa",
   "metadata": {},
   "outputs": [],
   "source": [
    "if 1454355 % 2 == 0:\n",
    "    print('Even')"
   ]
  },
  {
   "cell_type": "code",
   "execution_count": null,
   "id": "a288b063",
   "metadata": {},
   "outputs": [],
   "source": []
  }
 ],
 "metadata": {
  "kernelspec": {
   "display_name": "Python 3 (ipykernel)",
   "language": "python",
   "name": "python3"
  },
  "language_info": {
   "codemirror_mode": {
    "name": "ipython",
    "version": 3
   },
   "file_extension": ".py",
   "mimetype": "text/x-python",
   "name": "python",
   "nbconvert_exporter": "python",
   "pygments_lexer": "ipython3",
   "version": "3.9.7"
  }
 },
 "nbformat": 4,
 "nbformat_minor": 5
}
